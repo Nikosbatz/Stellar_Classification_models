{
  "cells": [
    {
      "cell_type": "markdown",
      "metadata": {
        "id": "NiCVUdW76EK9"
      },
      "source": [
        "# Lab4 : Introduction to PyTorch\n",
        "\n",
        "Notebook (modified) from University of Amsterdam : https://uvadlc-notebooks.readthedocs.io/en/latest/tutorial_notebooks/tutorial2/Introduction_to_PyTorch.html"
      ]
    },
    {
      "cell_type": "code",
      "execution_count": null,
      "metadata": {
        "id": "fmpepPKY6ELA",
        "colab": {
          "base_uri": "https://localhost:8080/"
        },
        "outputId": "225c1f11-29dc-4bb7-e13c-a9ad2fdf34b6"
      },
      "outputs": [
        {
          "output_type": "stream",
          "name": "stderr",
          "text": [
            "<ipython-input-2-ef889392170e>:11: DeprecationWarning: `set_matplotlib_formats` is deprecated since IPython 7.23, directly use `matplotlib_inline.backend_inline.set_matplotlib_formats()`\n",
            "  set_matplotlib_formats('svg', 'pdf') # For export\n"
          ]
        }
      ],
      "source": [
        "## Standard libraries\n",
        "import os\n",
        "import math\n",
        "import numpy as np\n",
        "import time\n",
        "\n",
        "## Imports for plotting\n",
        "import matplotlib.pyplot as plt\n",
        "%matplotlib inline\n",
        "from IPython.display import set_matplotlib_formats\n",
        "set_matplotlib_formats('svg', 'pdf') # For export\n",
        "from matplotlib.colors import to_rgba\n",
        "import seaborn as sns\n",
        "sns.set()\n",
        "\n",
        "## Progress bar\n",
        "from tqdm.notebook import tqdm"
      ]
    },
    {
      "cell_type": "markdown",
      "metadata": {
        "id": "MHOm4Z9D6ELC"
      },
      "source": [
        "## The Basics of PyTorch\n",
        "\n",
        "We will start with reviewing the very basic concepts of PyTorch. As a prerequisite, we recommend to be familiar with the `numpy` package as most machine learning frameworks are based on very similar concepts. If you are not familiar with numpy yet, don't worry: here is a [tutorial](https://numpy.org/devdocs/user/quickstart.html) to go through.\n",
        "\n",
        "So, let's start with importing PyTorch. The package is called `torch`, based on its original framework [Torch](http://torch.ch/). As a first step, we can check its version:"
      ]
    },
    {
      "cell_type": "code",
      "execution_count": null,
      "metadata": {
        "id": "9UUta5dC6ELD",
        "outputId": "4c795b50-3ea0-42c3-92d5-72cdac1e63e8",
        "colab": {
          "base_uri": "https://localhost:8080/"
        }
      },
      "outputs": [
        {
          "output_type": "stream",
          "name": "stdout",
          "text": [
            "Using torch 2.5.1+cu121\n"
          ]
        }
      ],
      "source": [
        "import torch\n",
        "print(\"Using torch\", torch.__version__)"
      ]
    },
    {
      "cell_type": "markdown",
      "metadata": {
        "id": "rJX71meb6ELD"
      },
      "source": [
        "At the time of writing this tutorial (end of October 2023), the current stable version is 2.1. You should therefore see the output `Using torch 2.1.0` or `Using torch 2.0.0`, eventually with some extension for the CUDA version on Colab. In general, it is recommended to keep the PyTorch version updated to the newest one. If you see a lower version number than 2.0, make sure you have installed the correct environment. The interface between PyTorch versions doesn't change too much, and hence all code should also be runnable with newer versions.\n",
        "\n",
        "As in every machine learning framework, PyTorch provides functions that are stochastic like generating random numbers. However, a very good practice is to setup your code to be reproducible with the exact same random numbers. This is why we set a seed below."
      ]
    },
    {
      "cell_type": "code",
      "execution_count": null,
      "metadata": {
        "id": "byZ_xfjb6ELD",
        "outputId": "8e8c1947-dd91-4936-892c-96b24989be2a",
        "colab": {
          "base_uri": "https://localhost:8080/"
        }
      },
      "outputs": [
        {
          "output_type": "execute_result",
          "data": {
            "text/plain": [
              "<torch._C.Generator at 0x7d8212ce37b0>"
            ]
          },
          "metadata": {},
          "execution_count": 4
        }
      ],
      "source": [
        "torch.manual_seed(42) # Setting the seed"
      ]
    },
    {
      "cell_type": "markdown",
      "metadata": {
        "id": "CcI6wnp76ELD"
      },
      "source": [
        "### Tensors\n",
        "\n",
        "Tensors are the PyTorch equivalent to Numpy arrays, with the addition to also have support for GPU acceleration (more on that later).\n",
        "The name \"tensor\" is a generalization of concepts you already know. For instance, a vector is a 1-D tensor, and a matrix a 2-D tensor. When working with neural networks, we will use tensors of various shapes and number of dimensions.\n",
        "\n",
        "Most common functions you know from numpy can be used on tensors as well. Actually, since numpy arrays are so similar to tensors, we can convert most tensors to numpy arrays (and back) but we don't need it too often.\n",
        "\n",
        "#### Initialization\n",
        "\n",
        "Let's first start by looking at different ways of creating a tensor. There are many possible options, the simplest one is to call `torch.Tensor` passing the desired shape as input argument:"
      ]
    },
    {
      "cell_type": "code",
      "execution_count": null,
      "metadata": {
        "id": "uWQzbgv76ELE",
        "outputId": "480b2e75-2f0e-4390-f5e4-494c6afde3fd",
        "colab": {
          "base_uri": "https://localhost:8080/"
        }
      },
      "outputs": [
        {
          "output_type": "stream",
          "name": "stdout",
          "text": [
            "tensor([[[1.1210e-44, 0.0000e+00, 0.0000e+00, 4.5022e-41],\n",
            "         [1.8963e-25, 3.0962e-41, 7.3683e+36, 4.5022e-41],\n",
            "         [0.0000e+00, 0.0000e+00,        nan,        nan]],\n",
            "\n",
            "        [[0.0000e+00, 0.0000e+00, 1.4013e-45, 4.5022e-41],\n",
            "         [1.0089e-43, 0.0000e+00, 1.5414e-44, 0.0000e+00],\n",
            "         [8.4627e+36, 4.5022e-41, 1.8966e-25, 3.0962e-41]]])\n"
          ]
        }
      ],
      "source": [
        "x = torch.Tensor(2, 3, 4)\n",
        "print(x)"
      ]
    },
    {
      "cell_type": "markdown",
      "metadata": {
        "id": "TeRPdkgH6ELE"
      },
      "source": [
        "The function `torch.Tensor` allocates memory for the desired tensor, but reuses any values that have already been in the memory. To directly assign values to the tensor during initialization, there are many alternatives including:\n",
        "\n",
        "* `torch.zeros`: Creates a tensor filled with zeros\n",
        "* `torch.ones`: Creates a tensor filled with ones\n",
        "* `torch.rand`: Creates a tensor with random values uniformly sampled between 0 and 1\n",
        "* `torch.randn`: Creates a tensor with random values sampled from a normal distribution with mean 0 and variance 1\n",
        "* `torch.arange`: Creates a tensor containing the values $N,N+1,N+2,...,M$\n",
        "* `torch.Tensor` (input list): Creates a tensor from the list elements you provide"
      ]
    },
    {
      "cell_type": "code",
      "execution_count": null,
      "metadata": {
        "id": "_hOHdJyK6ELE",
        "outputId": "843a5699-7e88-4616-b89a-ac669e401abb",
        "colab": {
          "base_uri": "https://localhost:8080/"
        }
      },
      "outputs": [
        {
          "output_type": "stream",
          "name": "stdout",
          "text": [
            "tensor([[1., 2.],\n",
            "        [3., 4.]])\n"
          ]
        }
      ],
      "source": [
        "# Create a tensor from a (nested) list\n",
        "x = torch.Tensor([[1, 2], [3, 4]])\n",
        "print(x)"
      ]
    },
    {
      "cell_type": "code",
      "execution_count": null,
      "metadata": {
        "id": "1bZjfpEa6ELF",
        "outputId": "9dbc9492-581e-4a8a-99d5-d6f02c11880a",
        "colab": {
          "base_uri": "https://localhost:8080/"
        }
      },
      "outputs": [
        {
          "output_type": "stream",
          "name": "stdout",
          "text": [
            "tensor([[[0.8823, 0.9150, 0.3829, 0.9593],\n",
            "         [0.3904, 0.6009, 0.2566, 0.7936],\n",
            "         [0.9408, 0.1332, 0.9346, 0.5936]],\n",
            "\n",
            "        [[0.8694, 0.5677, 0.7411, 0.4294],\n",
            "         [0.8854, 0.5739, 0.2666, 0.6274],\n",
            "         [0.2696, 0.4414, 0.2969, 0.8317]]])\n"
          ]
        }
      ],
      "source": [
        "# Create a tensor with random values between 0 and 1 with the shape [2, 3, 4]\n",
        "x = torch.rand(2, 3, 4)\n",
        "print(x)"
      ]
    },
    {
      "cell_type": "markdown",
      "metadata": {
        "id": "JFD84hLs6ELF"
      },
      "source": [
        "You can obtain the shape of a tensor in the same way as in numpy (`x.shape`), or using the `.size` method:"
      ]
    },
    {
      "cell_type": "code",
      "execution_count": null,
      "metadata": {
        "id": "GJUMWRQ46ELF",
        "outputId": "b73e8899-18ee-4826-eb75-34d00d463fc0",
        "colab": {
          "base_uri": "https://localhost:8080/"
        }
      },
      "outputs": [
        {
          "output_type": "stream",
          "name": "stdout",
          "text": [
            "Shape: torch.Size([2, 3, 4])\n",
            "Size: torch.Size([2, 3, 4])\n",
            "Size: 2 3 4\n"
          ]
        }
      ],
      "source": [
        "shape = x.shape\n",
        "print(\"Shape:\", x.shape)\n",
        "\n",
        "size = x.size()\n",
        "print(\"Size:\", size)\n",
        "\n",
        "dim1, dim2, dim3 = x.size()\n",
        "print(\"Size:\", dim1, dim2, dim3)"
      ]
    },
    {
      "cell_type": "markdown",
      "metadata": {
        "id": "nayFXcun6ELF"
      },
      "source": [
        "#### Tensor to Numpy, and Numpy to Tensor\n",
        "\n",
        "Tensors can be converted to numpy arrays, and numpy arrays back to tensors. To transform a numpy array into a tensor, we can use the function `torch.from_numpy`:"
      ]
    },
    {
      "cell_type": "code",
      "execution_count": null,
      "metadata": {
        "id": "qfAdINoK6ELG",
        "outputId": "6efd3bf2-640a-40a5-8148-f492534f5112",
        "colab": {
          "base_uri": "https://localhost:8080/"
        }
      },
      "outputs": [
        {
          "output_type": "stream",
          "name": "stdout",
          "text": [
            "Numpy array: [[1 2]\n",
            " [3 4]]\n",
            "PyTorch tensor: tensor([[1, 2],\n",
            "        [3, 4]])\n"
          ]
        }
      ],
      "source": [
        "np_arr = np.array([[1, 2], [3, 4]])\n",
        "tensor = torch.from_numpy(np_arr)\n",
        "\n",
        "print(\"Numpy array:\", np_arr)\n",
        "print(\"PyTorch tensor:\", tensor)"
      ]
    },
    {
      "cell_type": "markdown",
      "metadata": {
        "id": "rlWx658u6ELG"
      },
      "source": [
        "To transform a PyTorch tensor back to a numpy array, we can use the function `.numpy()` on tensors:"
      ]
    },
    {
      "cell_type": "code",
      "execution_count": null,
      "metadata": {
        "id": "3Nmgqvnh6ELG",
        "outputId": "8e73c246-d3db-4711-9d63-d90a0c0928b2",
        "colab": {
          "base_uri": "https://localhost:8080/"
        }
      },
      "outputs": [
        {
          "output_type": "stream",
          "name": "stdout",
          "text": [
            "PyTorch tensor: tensor([0, 1, 2, 3])\n",
            "Numpy array: [0 1 2 3]\n"
          ]
        }
      ],
      "source": [
        "tensor = torch.arange(4)\n",
        "np_arr = tensor.numpy()\n",
        "\n",
        "print(\"PyTorch tensor:\", tensor)\n",
        "print(\"Numpy array:\", np_arr)"
      ]
    },
    {
      "cell_type": "markdown",
      "metadata": {
        "id": "MyPFSz8Y6ELG"
      },
      "source": [
        "The conversion of tensors to numpy require the tensor to be on the CPU, and not the GPU (more on GPU support in a later section). In case you have a tensor on GPU, you need to call `.cpu()` on the tensor beforehand. Hence, you get a line like `np_arr = tensor.cpu().numpy()`."
      ]
    },
    {
      "cell_type": "markdown",
      "metadata": {
        "id": "v7tJFKl86ELG"
      },
      "source": [
        "#### Operations\n",
        "\n",
        "Most operations that exist in numpy, also exist in PyTorch. A full list of operations can be found in the [PyTorch documentation](https://pytorch.org/docs/stable/tensors.html#), but we will review the most important ones here.\n",
        "\n",
        "The simplest operation is to add two tensors:"
      ]
    },
    {
      "cell_type": "code",
      "execution_count": null,
      "metadata": {
        "id": "nLUNhcEn6ELG",
        "outputId": "5e396ed8-c4f0-4fb5-ca99-35c6c994369d",
        "colab": {
          "base_uri": "https://localhost:8080/"
        }
      },
      "outputs": [
        {
          "output_type": "stream",
          "name": "stdout",
          "text": [
            "X1 tensor([[0.1053, 0.2695, 0.3588],\n",
            "        [0.1994, 0.5472, 0.0062]])\n",
            "X2 tensor([[0.9516, 0.0753, 0.8860],\n",
            "        [0.5832, 0.3376, 0.8090]])\n",
            "Y tensor([[1.0569, 0.3448, 1.2448],\n",
            "        [0.7826, 0.8848, 0.8151]])\n"
          ]
        }
      ],
      "source": [
        "x1 = torch.rand(2, 3)\n",
        "x2 = torch.rand(2, 3)\n",
        "y = x1 + x2\n",
        "\n",
        "print(\"X1\", x1)\n",
        "print(\"X2\", x2)\n",
        "print(\"Y\", y)"
      ]
    },
    {
      "cell_type": "markdown",
      "metadata": {
        "id": "mvQ-GRRe6ELH"
      },
      "source": [
        "Calling `x1 + x2` creates a new tensor containing the sum of the two inputs. However, we can also use in-place operations that are applied directly on the memory of a tensor. We therefore change the values of `x2` without the chance to re-accessing the values of `x2` before the operation. An example is shown below:"
      ]
    },
    {
      "cell_type": "code",
      "execution_count": null,
      "metadata": {
        "id": "xxUDApk36ELH",
        "outputId": "af6fe275-2501-4ae1-c94c-24ff527075e4",
        "colab": {
          "base_uri": "https://localhost:8080/"
        }
      },
      "outputs": [
        {
          "output_type": "stream",
          "name": "stdout",
          "text": [
            "X1 (before) tensor([[0.5779, 0.9040, 0.5547],\n",
            "        [0.3423, 0.6343, 0.3644]])\n",
            "X2 (before) tensor([[0.7104, 0.9464, 0.7890],\n",
            "        [0.2814, 0.7886, 0.5895]])\n",
            "X1 (after) tensor([[0.5779, 0.9040, 0.5547],\n",
            "        [0.3423, 0.6343, 0.3644]])\n",
            "X2 (after) tensor([[1.2884, 1.8504, 1.3437],\n",
            "        [0.6237, 1.4230, 0.9539]])\n"
          ]
        }
      ],
      "source": [
        "x1 = torch.rand(2, 3)\n",
        "x2 = torch.rand(2, 3)\n",
        "print(\"X1 (before)\", x1)\n",
        "print(\"X2 (before)\", x2)\n",
        "\n",
        "x2.add_(x1)\n",
        "print(\"X1 (after)\", x1)\n",
        "print(\"X2 (after)\", x2)"
      ]
    },
    {
      "cell_type": "markdown",
      "metadata": {
        "id": "14kkMPwE6ELH"
      },
      "source": [
        "In-place operations are usually marked with a underscore postfix (e.g. \"add_\" instead of \"add\").\n",
        "\n",
        "Another common operation aims at changing the shape of a tensor. A tensor of size (2,3) can be re-organized to any other shape with the same number of elements (e.g. a tensor of size (6), or (3,2), ...). In PyTorch, this operation is called `view`:"
      ]
    },
    {
      "cell_type": "code",
      "execution_count": null,
      "metadata": {
        "id": "PZWhlsmK6ELI",
        "outputId": "9b0474d5-71f3-4b48-9342-d93a966885aa",
        "colab": {
          "base_uri": "https://localhost:8080/"
        }
      },
      "outputs": [
        {
          "output_type": "stream",
          "name": "stdout",
          "text": [
            "X tensor([0, 1, 2, 3, 4, 5])\n"
          ]
        }
      ],
      "source": [
        "x = torch.arange(6)\n",
        "print(\"X\", x)"
      ]
    },
    {
      "cell_type": "code",
      "execution_count": null,
      "metadata": {
        "id": "-svXHSF-6ELI",
        "outputId": "1bbbfcf5-d185-452b-ed52-3beed5a4a01f",
        "colab": {
          "base_uri": "https://localhost:8080/"
        }
      },
      "outputs": [
        {
          "output_type": "stream",
          "name": "stdout",
          "text": [
            "X tensor([[0, 1, 2],\n",
            "        [3, 4, 5]])\n"
          ]
        }
      ],
      "source": [
        "x = x.view(2, 3)\n",
        "print(\"X\", x)"
      ]
    },
    {
      "cell_type": "code",
      "execution_count": null,
      "metadata": {
        "id": "zKV9rEZY6ELI",
        "outputId": "97906691-ee6e-440d-9487-a3ec93f0210b",
        "colab": {
          "base_uri": "https://localhost:8080/"
        }
      },
      "outputs": [
        {
          "output_type": "stream",
          "name": "stdout",
          "text": [
            "X tensor([[0, 3],\n",
            "        [1, 4],\n",
            "        [2, 5]])\n"
          ]
        }
      ],
      "source": [
        "x = x.permute(1, 0) # Swapping dimension 0 and 1\n",
        "print(\"X\", x)"
      ]
    },
    {
      "cell_type": "markdown",
      "metadata": {
        "id": "y0xBTnfx6ELI"
      },
      "source": [
        "Other commonly used operations include matrix multiplications, which are essential for neural networks. Quite often, we have an input vector $\\mathbf{x}$, which is transformed using a learned weight matrix $\\mathbf{W}$. There are multiple ways and functions to perform matrix multiplication, some of which we list below:\n",
        "\n",
        "* `torch.matmul`: Performs the matrix product over two tensors, where the specific behavior depends on the dimensions. If both inputs are matrices (2-dimensional tensors), it performs the standard matrix product. For higher dimensional inputs, the function supports broadcasting (for details see the [documentation](https://pytorch.org/docs/stable/generated/torch.matmul.html?highlight=matmul#torch.matmul)). Can also be written as `a @ b`, similar to numpy.\n",
        "* `torch.mm`: Performs the matrix product over two matrices, but doesn't support broadcasting (see [documentation](https://pytorch.org/docs/stable/generated/torch.mm.html?highlight=torch%20mm#torch.mm))\n",
        "* `torch.bmm`: Performs the matrix product with a support batch dimension. If the first tensor $T$ is of shape ($b\\times n\\times m$), and the second tensor $R$ ($b\\times m\\times p$), the output $O$ is of shape ($b\\times n\\times p$), and has been calculated by performing $b$ matrix multiplications of the submatrices of $T$ and $R$: $O_i = T_i @ R_i$\n",
        "\n",
        "Usually, we use `torch.matmul` or `torch.bmm`. We can try a matrix multiplication with `torch.matmul` below."
      ]
    },
    {
      "cell_type": "code",
      "execution_count": null,
      "metadata": {
        "id": "nIE33TWs6ELJ",
        "outputId": "0bb85ce5-f2d5-48fd-bd01-de716e4b22bf",
        "colab": {
          "base_uri": "https://localhost:8080/"
        }
      },
      "outputs": [
        {
          "output_type": "stream",
          "name": "stdout",
          "text": [
            "X tensor([[0, 1, 2],\n",
            "        [3, 4, 5]])\n"
          ]
        }
      ],
      "source": [
        "x = torch.arange(6)\n",
        "x = x.view(2, 3)\n",
        "print(\"X\", x)"
      ]
    },
    {
      "cell_type": "code",
      "execution_count": null,
      "metadata": {
        "id": "8OjKv3hE6ELJ",
        "outputId": "e1e5eb0b-2936-4b57-b173-4687f72adf79",
        "colab": {
          "base_uri": "https://localhost:8080/"
        }
      },
      "outputs": [
        {
          "output_type": "stream",
          "name": "stdout",
          "text": [
            "W tensor([[0, 1, 2],\n",
            "        [3, 4, 5],\n",
            "        [6, 7, 8]])\n"
          ]
        }
      ],
      "source": [
        "W = torch.arange(9).view(3, 3) # We can also stack multiple operations in a single line\n",
        "print(\"W\", W)"
      ]
    },
    {
      "cell_type": "code",
      "execution_count": null,
      "metadata": {
        "id": "7eL2nLC66ELJ",
        "outputId": "16866947-b8d4-4677-e739-339cff7892ff",
        "colab": {
          "base_uri": "https://localhost:8080/"
        }
      },
      "outputs": [
        {
          "output_type": "stream",
          "name": "stdout",
          "text": [
            "h tensor([[15, 18, 21],\n",
            "        [42, 54, 66]])\n"
          ]
        }
      ],
      "source": [
        "h = torch.matmul(x, W) # Verify the result by calculating it by hand too!\n",
        "print(\"h\", h)"
      ]
    },
    {
      "cell_type": "markdown",
      "metadata": {
        "id": "53Yg3Gxc6ELJ"
      },
      "source": [
        "#### Indexing\n",
        "\n",
        "We often have the situation where we need to select a part of a tensor. Indexing works just like in numpy, so let's try it:"
      ]
    },
    {
      "cell_type": "code",
      "execution_count": null,
      "metadata": {
        "id": "x4aDvIQG6ELJ",
        "outputId": "09b5fb4f-97d9-4ee0-9d8c-ff59413b78b9",
        "colab": {
          "base_uri": "https://localhost:8080/"
        }
      },
      "outputs": [
        {
          "output_type": "stream",
          "name": "stdout",
          "text": [
            "X tensor([[ 0,  1,  2,  3],\n",
            "        [ 4,  5,  6,  7],\n",
            "        [ 8,  9, 10, 11]])\n"
          ]
        }
      ],
      "source": [
        "x = torch.arange(12).view(3, 4)\n",
        "print(\"X\", x)"
      ]
    },
    {
      "cell_type": "code",
      "execution_count": null,
      "metadata": {
        "id": "hGn0AOFp6ELJ",
        "outputId": "99b2018e-a048-4f57-a0e2-e5e5cd227760",
        "colab": {
          "base_uri": "https://localhost:8080/"
        }
      },
      "outputs": [
        {
          "output_type": "stream",
          "name": "stdout",
          "text": [
            "tensor([1, 5, 9])\n"
          ]
        }
      ],
      "source": [
        "print(x[:, 1])   # Second column"
      ]
    },
    {
      "cell_type": "code",
      "execution_count": null,
      "metadata": {
        "id": "vbkDV7G76ELJ",
        "outputId": "21395dee-3d51-40f2-cfac-1b571f2ab0b5",
        "colab": {
          "base_uri": "https://localhost:8080/"
        }
      },
      "outputs": [
        {
          "output_type": "stream",
          "name": "stdout",
          "text": [
            "tensor([0, 1, 2, 3])\n"
          ]
        }
      ],
      "source": [
        "print(x[0])      # First row"
      ]
    },
    {
      "cell_type": "code",
      "execution_count": null,
      "metadata": {
        "id": "X1JXPnEv6ELK",
        "outputId": "ddb6632f-8b61-4931-fa59-cc80cacfd392",
        "colab": {
          "base_uri": "https://localhost:8080/"
        }
      },
      "outputs": [
        {
          "output_type": "stream",
          "name": "stdout",
          "text": [
            "tensor([3, 7])\n"
          ]
        }
      ],
      "source": [
        "print(x[:2, -1]) # First two rows, last column"
      ]
    },
    {
      "cell_type": "code",
      "execution_count": null,
      "metadata": {
        "id": "74AFxLoI6ELK",
        "outputId": "799ebd09-9ec4-4133-ad71-bb1e91ce21b4",
        "colab": {
          "base_uri": "https://localhost:8080/"
        }
      },
      "outputs": [
        {
          "output_type": "stream",
          "name": "stdout",
          "text": [
            "tensor([[ 4,  5,  6,  7],\n",
            "        [ 8,  9, 10, 11]])\n"
          ]
        }
      ],
      "source": [
        "print(x[1:3, :]) # Middle two rows"
      ]
    },
    {
      "cell_type": "markdown",
      "metadata": {
        "id": "pmQ2Pt7V6ELK"
      },
      "source": [
        "### Dynamic Computation Graph and Backpropagation\n",
        "\n",
        "One of the main reasons for using PyTorch in Deep Learning projects is that we can automatically get **gradients/derivatives** of functions that we define. We will mainly use PyTorch for implementing neural networks, and they are just fancy functions. If we use weight matrices in our function that we want to learn, then those are called the **parameters** or simply the **weights**.\n",
        "\n",
        "If our neural network would output a single scalar value, we would talk about taking the **derivative**, but you will see that quite often we will have **multiple** output variables (\"values\"); in that case we talk about **gradients**. It's a more general term.\n",
        "\n",
        "Given an input $\\mathbf{x}$, we define our function by **manipulating** that input, usually by matrix-multiplications with weight matrices and additions with so-called bias vectors. As we manipulate our input, we are automatically creating a **computational graph**. This graph shows how to arrive at our output from our input.\n",
        "PyTorch is a **define-by-run** framework; this means that we can just do our manipulations, and PyTorch will keep track of that graph for us. Thus, we create a dynamic computation graph along the way.\n",
        "\n",
        "So, to recap: the only thing we have to do is to compute the **output**, and then we can ask PyTorch to automatically get the **gradients**.\n",
        "\n",
        "> **Note:  Why do we want gradients?** Consider that we have defined a function, a neural net, that is supposed to compute a certain output $y$ for an input vector $\\mathbf{x}$. We then define an **error measure** that tells us how wrong our network is; how bad it is in predicting output $y$ from input $\\mathbf{x}$. Based on this error measure, we can use the gradients to **update** the weights $\\mathbf{W}$ that were responsible for the output, so that the next time we present input $\\mathbf{x}$ to our network, the output will be closer to what we want.\n",
        "\n",
        "The first thing we have to do is to specify which tensors require gradients. By default, when we create a tensor, it does not require gradients."
      ]
    },
    {
      "cell_type": "code",
      "execution_count": null,
      "metadata": {
        "id": "DW5uRc3V6ELK",
        "outputId": "869f13e7-af4f-4af7-be32-2be4c5cead9b",
        "colab": {
          "base_uri": "https://localhost:8080/"
        }
      },
      "outputs": [
        {
          "output_type": "stream",
          "name": "stdout",
          "text": [
            "False\n"
          ]
        }
      ],
      "source": [
        "x = torch.ones((3,))\n",
        "print(x.requires_grad)"
      ]
    },
    {
      "cell_type": "markdown",
      "metadata": {
        "id": "VDgZpOvw6ELQ"
      },
      "source": [
        "We can change this for an existing tensor using the function `requires_grad_()` (underscore indicating that this is a in-place operation). Alternatively, when creating a tensor, you can pass the argument `requires_grad=True` to most initializers we have seen above."
      ]
    },
    {
      "cell_type": "code",
      "execution_count": null,
      "metadata": {
        "id": "fE8i5uJ56ELR",
        "outputId": "ba27a835-ed44-4347-8597-5fa8d4b961b7",
        "colab": {
          "base_uri": "https://localhost:8080/"
        }
      },
      "outputs": [
        {
          "output_type": "stream",
          "name": "stdout",
          "text": [
            "True\n"
          ]
        }
      ],
      "source": [
        "x.requires_grad_(True)\n",
        "print(x.requires_grad)"
      ]
    },
    {
      "cell_type": "markdown",
      "metadata": {
        "id": "uYQIhn9b6ELR"
      },
      "source": [
        "In order to get familiar with the concept of a computation graph, we will create one for the following function:\n",
        "\n",
        "$$y = \\frac{1}{\\ell(x)}\\sum_i \\left[(x_i + 2)^2 + 3\\right],$$\n",
        "\n",
        "where we use $\\ell(x)$ to denote the number of elements in $x$. In other words, we are taking a mean here over the operation within the sum. You could imagine that $x$ are our parameters, and we want to optimize (either maximize or minimize) the output $y$. For this, we want to obtain the gradients $\\partial y / \\partial \\mathbf{x}$. For our example, we'll use $\\mathbf{x}=[0,1,2]$ as our input."
      ]
    },
    {
      "cell_type": "code",
      "execution_count": null,
      "metadata": {
        "id": "Xz25UxNa6ELR",
        "outputId": "a1e0159c-d627-40ce-dfb4-e72bca5436d1",
        "colab": {
          "base_uri": "https://localhost:8080/"
        }
      },
      "outputs": [
        {
          "output_type": "stream",
          "name": "stdout",
          "text": [
            "X tensor([0., 1., 2.], requires_grad=True)\n"
          ]
        }
      ],
      "source": [
        "x = torch.arange(3, dtype=torch.float32, requires_grad=True) # Only float tensors can have gradients\n",
        "print(\"X\", x)"
      ]
    },
    {
      "cell_type": "markdown",
      "metadata": {
        "id": "aAr2cOmi6ELR"
      },
      "source": [
        "Now let's build the computation graph step by step. You can combine multiple operations in a single line, but we will separate them here to get a better understanding of how each operation is added to the computation graph."
      ]
    },
    {
      "cell_type": "code",
      "execution_count": null,
      "metadata": {
        "id": "hHhTkq1Q6ELR",
        "outputId": "c981b74b-b310-4a4d-b06f-b55efaf60034",
        "colab": {
          "base_uri": "https://localhost:8080/"
        }
      },
      "outputs": [
        {
          "output_type": "stream",
          "name": "stdout",
          "text": [
            "Y tensor(12.6667, grad_fn=<MeanBackward0>)\n"
          ]
        }
      ],
      "source": [
        "a = x + 2\n",
        "b = a ** 2\n",
        "c = b + 3\n",
        "y = c.mean()\n",
        "print(\"Y\", y)"
      ]
    },
    {
      "cell_type": "markdown",
      "metadata": {
        "id": "m6dvJit36ELS"
      },
      "source": [
        "Using the statements above, we have created a computation graph that looks similar to the figure below:\n",
        "\n",
        "<center style=\"width: 100%\"><img src=\"https://github.com/phlippe/uvadlc_notebooks/blob/master/docs/tutorial_notebooks/tutorial2/pytorch_computation_graph.svg?raw=1\" width=\"200px\"></center>\n",
        "\n",
        "We calculate $a$ based on the inputs $x$ and the constant $2$, $b$ is $a$ squared, and so on. The visualization is an abstraction of the dependencies between inputs and outputs of the operations we have applied.\n",
        "Each node of the computation graph has automatically defined a function for calculating the gradients with respect to its inputs, `grad_fn`. You can see this when we printed the output tensor $y$. This is why the computation graph is usually visualized in the reverse direction (arrows point from the result to the inputs). We can perform backpropagation on the computation graph by calling the function `backward()` on the last output, which effectively calculates the gradients for each tensor that has the property `requires_grad=True`:"
      ]
    },
    {
      "cell_type": "code",
      "execution_count": null,
      "metadata": {
        "id": "iMv8vuiZ6ELS"
      },
      "outputs": [],
      "source": [
        "y.backward()"
      ]
    },
    {
      "cell_type": "markdown",
      "metadata": {
        "id": "GsdgY6oz6ELS"
      },
      "source": [
        "`x.grad` will now contain the gradient $\\partial y/ \\partial \\mathcal{x}$, and this gradient indicates how a change in $\\mathbf{x}$ will affect output $y$ given the current input $\\mathbf{x}=[0,1,2]$:"
      ]
    },
    {
      "cell_type": "code",
      "execution_count": null,
      "metadata": {
        "id": "nMxg1C146ELS",
        "outputId": "84124990-41d6-4607-ac5c-f92e0976f6dc",
        "colab": {
          "base_uri": "https://localhost:8080/"
        }
      },
      "outputs": [
        {
          "output_type": "stream",
          "name": "stdout",
          "text": [
            "tensor([1.3333, 2.0000, 2.6667])\n"
          ]
        }
      ],
      "source": [
        "print(x.grad)"
      ]
    },
    {
      "cell_type": "markdown",
      "metadata": {
        "id": "05pK0vbx6ELS"
      },
      "source": [
        "We can also verify these gradients by hand. We will calculate the gradients using the chain rule, in the same way as PyTorch did it:\n",
        "\n",
        "$$\\frac{\\partial y}{\\partial x_i} = \\frac{\\partial y}{\\partial c_i}\\frac{\\partial c_i}{\\partial b_i}\\frac{\\partial b_i}{\\partial a_i}\\frac{\\partial a_i}{\\partial x_i}$$\n",
        "\n",
        "Note that we have simplified this equation to index notation, and by using the fact that all operation besides the mean do not combine the elements in the tensor. The partial derivatives are:\n",
        "\n",
        "$$\n",
        "\\frac{\\partial a_i}{\\partial x_i} = 1,\\hspace{1cm}\n",
        "\\frac{\\partial b_i}{\\partial a_i} = 2\\cdot a_i\\hspace{1cm}\n",
        "\\frac{\\partial c_i}{\\partial b_i} = 1\\hspace{1cm}\n",
        "\\frac{\\partial y}{\\partial c_i} = \\frac{1}{3}\n",
        "$$\n",
        "\n",
        "Hence, with the input being $\\mathbf{x}=[0,1,2]$, our gradients are $\\partial y/\\partial \\mathbf{x}=[4/3,2,8/3]$. The previous code cell should have printed the same result."
      ]
    },
    {
      "cell_type": "markdown",
      "metadata": {
        "id": "BMKIQe5S6ELS"
      },
      "source": [
        "### GPU support\n",
        "\n",
        "A crucial feature of PyTorch is the support of GPUs, short for Graphics Processing Unit. A GPU can perform many thousands of small operations in parallel, making it very well suitable for performing large matrix operations in neural networks. When comparing GPUs to CPUs, we can list the following main differences (credit: [Kevin Krewell, 2009](https://blogs.nvidia.com/blog/2009/12/16/whats-the-difference-between-a-cpu-and-a-gpu/))\n",
        "\n",
        "<center style=\"width: 100%\"><img src=\"https://github.com/phlippe/uvadlc_notebooks/blob/master/docs/tutorial_notebooks/tutorial2/comparison_CPU_GPU.png?raw=1\" width=\"700px\"></center>\n",
        "\n",
        "CPUs and GPUs have both different advantages and disadvantages, which is why many computers contain both components and use them for different tasks. In case you are not familiar with GPUs, you can read up more details in this [NVIDIA blog post](https://blogs.nvidia.com/blog/2009/12/16/whats-the-difference-between-a-cpu-and-a-gpu/) or [here](https://www.intel.com/content/www/us/en/products/docs/processors/what-is-a-gpu.html).\n",
        "\n",
        "GPUs can accelerate the training of your network up to a factor of $100$ which is essential for large neural networks. PyTorch implements a lot of functionality for supporting GPUs (mostly those of NVIDIA due to the libraries [CUDA](https://developer.nvidia.com/cuda-zone) and [cuDNN](https://developer.nvidia.com/cudnn)). First, let's check whether you have a GPU available:"
      ]
    },
    {
      "cell_type": "code",
      "execution_count": null,
      "metadata": {
        "id": "d_JEmj2B6ELT",
        "outputId": "f299e43c-cfeb-4d38-e87c-1a3c4783495a",
        "colab": {
          "base_uri": "https://localhost:8080/"
        }
      },
      "outputs": [
        {
          "output_type": "stream",
          "name": "stdout",
          "text": [
            "Is the GPU available? True\n"
          ]
        }
      ],
      "source": [
        "gpu_avail = torch.cuda.is_available()\n",
        "print(f\"Is the GPU available? {gpu_avail}\")"
      ]
    },
    {
      "cell_type": "markdown",
      "metadata": {
        "id": "U4kDFWJY6ELT"
      },
      "source": [
        "If you have a GPU on your computer but the command above returns False, make sure you have the correct CUDA-version installed. The `dl2023` environment comes with the CUDA 11.8, which is selected for the Snellius supercomputer. Please change it if necessary (CUDA 11.3 is currently common on Colab). On Google Colab, make sure that you have selected a GPU in your runtime setup (in the menu, check under `Runtime -> Change runtime type`).\n",
        "\n",
        "By default, all tensors you create are stored on the CPU. We can push a tensor to the GPU by using the function `.to(...)`, or `.cuda()`. However, it is often a good practice to define a `device` object in your code which points to the GPU if you have one, and otherwise to the CPU. Then, you can write your code with respect to this device object, and it allows you to run the same code on both a CPU-only system, and one with a GPU. Let's try it below. We can specify the device as follows:"
      ]
    },
    {
      "cell_type": "code",
      "execution_count": null,
      "metadata": {
        "id": "b0Ar4U206ELT",
        "outputId": "4afd29da-79cc-4993-f906-13e071b14afb",
        "colab": {
          "base_uri": "https://localhost:8080/"
        }
      },
      "outputs": [
        {
          "output_type": "stream",
          "name": "stdout",
          "text": [
            "Device cuda\n"
          ]
        }
      ],
      "source": [
        "device = torch.device(\"cuda\") if torch.cuda.is_available() else torch.device(\"cpu\")\n",
        "print(\"Device\", device)"
      ]
    },
    {
      "cell_type": "markdown",
      "metadata": {
        "id": "m94g2mMk6ELT"
      },
      "source": [
        "Now let's create a tensor and push it to the device:"
      ]
    },
    {
      "cell_type": "code",
      "execution_count": null,
      "metadata": {
        "id": "QGkZLg076ELT",
        "outputId": "92f3ae47-ba07-4d6d-f190-f01baad13949",
        "colab": {
          "base_uri": "https://localhost:8080/"
        }
      },
      "outputs": [
        {
          "output_type": "stream",
          "name": "stdout",
          "text": [
            "X tensor([[0., 0., 0.],\n",
            "        [0., 0., 0.]], device='cuda:0')\n"
          ]
        }
      ],
      "source": [
        "x = torch.zeros(2, 3)\n",
        "x = x.to(device)\n",
        "print(\"X\", x)"
      ]
    },
    {
      "cell_type": "markdown",
      "metadata": {
        "id": "pxj9SqfC6ELU"
      },
      "source": [
        "In case you have a GPU, you should now see the attribute `device='cuda:0'` being printed next to your tensor. The zero next to cuda indicates that this is the zero-th GPU device on your computer. PyTorch also supports multi-GPU systems, but this you will only need once you have very big networks to train (if interested, see the [PyTorch documentation](https://pytorch.org/docs/stable/distributed.html#distributed-basics)). We can also compare the runtime of a large matrix multiplication on the CPU with a operation on the GPU:"
      ]
    },
    {
      "cell_type": "code",
      "execution_count": null,
      "metadata": {
        "id": "7YJEJQmu6ELU",
        "outputId": "2439dfa4-182f-4048-e262-0f22ec8c5f6f",
        "colab": {
          "base_uri": "https://localhost:8080/"
        }
      },
      "outputs": [
        {
          "output_type": "stream",
          "name": "stdout",
          "text": [
            "CPU time: 3.05167s\n",
            "GPU time: 0.08762s\n"
          ]
        }
      ],
      "source": [
        "#Google Colab times may vary (compared to your own hardware)\n",
        "\n",
        "x = torch.randn(5000, 5000)\n",
        "\n",
        "## CPU version\n",
        "start_time = time.time()\n",
        "_ = torch.matmul(x, x)\n",
        "end_time = time.time()\n",
        "print(f\"CPU time: {(end_time - start_time):6.5f}s\")\n",
        "\n",
        "## GPU version\n",
        "x = x.to(device)\n",
        "_ = torch.matmul(x, x)  # First operation to 'burn in' GPU\n",
        "# CUDA is asynchronous, so we need to use different timing functions\n",
        "start = torch.cuda.Event(enable_timing=True)\n",
        "end = torch.cuda.Event(enable_timing=True)\n",
        "start.record()\n",
        "_ = torch.matmul(x, x)\n",
        "end.record()\n",
        "torch.cuda.synchronize()  # Waits for everything to finish running on the GPU\n",
        "print(f\"GPU time: {0.001 * start.elapsed_time(end):6.5f}s\")  # Milliseconds to seconds"
      ]
    },
    {
      "cell_type": "markdown",
      "metadata": {
        "id": "pn4V4nIV6ELU"
      },
      "source": [
        "## Learning by example: Continuous XOR\n",
        "\n",
        "If we want to build a neural network in PyTorch, we could specify all our parameters (weight matrices, bias vectors) using `Tensors` (with `requires_grad=True`), ask PyTorch to calculate the gradients and then adjust the parameters. But things can quickly get cumbersome if we have a lot of parameters. In PyTorch, there is a package called `torch.nn` that makes building neural networks more convenient.\n",
        "\n",
        "We will introduce the libraries and all additional parts you might need to train a neural network in PyTorch, using a simple example classifier on a simple yet well known example: XOR. Given two binary inputs $x_1$ and $x_2$, the label to predict is $1$ if either $x_1$ or $x_2$ is $1$ while the other is $0$, or the label is $0$ in all other cases. The example became famous by the fact that a single neuron, i.e. a linear classifier, cannot learn this simple function.\n",
        "Hence, we will learn how to build a small neural network that can learn this function.\n",
        "To make it a little bit more interesting, we move the XOR into continuous space and introduce some gaussian noise on the binary inputs. Our desired separation of an XOR dataset could look as follows:\n",
        "\n",
        "<center style=\"width: 100%\"><img src=\"https://github.com/phlippe/uvadlc_notebooks/blob/master/docs/tutorial_notebooks/tutorial2/continuous_xor.svg?raw=1\" width=\"350px\"></center>"
      ]
    },
    {
      "cell_type": "markdown",
      "metadata": {
        "id": "-3YmLW1s6ELU"
      },
      "source": [
        "### The model\n",
        "\n",
        "The package `torch.nn` defines a series of useful classes like linear networks layers, activation functions, loss functions etc. A full list can be found [here](https://pytorch.org/docs/stable/nn.html). In case you need a certain network layer, check the documentation of the package first before writing the layer yourself as the package likely contains the code for it already. We import it below:"
      ]
    },
    {
      "cell_type": "code",
      "execution_count": null,
      "metadata": {
        "id": "oICvWoLN6ELU"
      },
      "outputs": [],
      "source": [
        "import torch.nn as nn\n",
        "import torch"
      ]
    },
    {
      "cell_type": "markdown",
      "metadata": {
        "id": "q2gQ_KBD6ELV"
      },
      "source": [
        "Additionally to `torch.nn`, there is also `torch.nn.functional`. It contains functions that are used in network layers. This is in contrast to `torch.nn` which defines them as `nn.Modules` (more on it below), and `torch.nn` actually uses a lot of functionalities from `torch.nn.functional`. Hence, the functional package is useful in many situations, and so we import it as well here."
      ]
    },
    {
      "cell_type": "code",
      "execution_count": null,
      "metadata": {
        "id": "JnlXFu7Y6ELV"
      },
      "outputs": [],
      "source": [
        "import torch.nn.functional as F"
      ]
    },
    {
      "cell_type": "markdown",
      "metadata": {
        "id": "l4iSgRSh6ELV"
      },
      "source": [
        "#### nn.Module\n",
        "\n",
        "In PyTorch, a neural network is built up out of modules. Modules can contain other modules, and a neural network is considered to be a module itself as well. The basic template of a module is as follows:"
      ]
    },
    {
      "cell_type": "code",
      "execution_count": null,
      "metadata": {
        "id": "Lsv0WWOE6ELV"
      },
      "outputs": [],
      "source": [
        "class MyModule(nn.Module):\n",
        "\n",
        "    def __init__(self):\n",
        "        super().__init__()\n",
        "        # Some init for my module\n",
        "\n",
        "    def forward(self, x):\n",
        "        # Function for performing the calculation of the module.\n",
        "        pass"
      ]
    },
    {
      "cell_type": "markdown",
      "metadata": {
        "id": "Fj5qeqO26ELV"
      },
      "source": [
        "The forward function is where the computation of the module is taken place, and is executed when you call the module (`nn = MyModule(); nn(x)`). In the init function, we usually create the parameters of the module, using `nn.Parameter`, or defining other modules that are used in the forward function. The backward calculation is done automatically, but could be overwritten as well if wanted.\n",
        "\n",
        "#### Simple classifier\n",
        "We can now make use of the pre-defined modules in the `torch.nn` package, and define our own small neural network. We will use a minimal network with a input layer, one hidden layer with tanh as activation function, and a output layer. In other words, our networks should look something like this:\n",
        "\n",
        "<center width=\"100%\"><img src=\"https://github.com/phlippe/uvadlc_notebooks/blob/master/docs/tutorial_notebooks/tutorial2/small_neural_network.svg?raw=1\" width=\"300px\"></center>\n",
        "\n",
        "The input neurons are shown in blue, which represent the coordinates $x_1$ and $x_2$ of a data point. The hidden neurons including a tanh activation are shown in white, and the output neuron in red.\n",
        "In PyTorch, we can define this as follows:"
      ]
    },
    {
      "cell_type": "code",
      "execution_count": null,
      "metadata": {
        "id": "FlM0J4Q46ELV"
      },
      "outputs": [],
      "source": [
        "class SimpleClassifier(nn.Module):\n",
        "\n",
        "    def __init__(self, num_inputs, num_hidden, num_outputs): #feel free to experiment\n",
        "        super().__init__()\n",
        "        # Initialize the modules we need to build the network\n",
        "        self.linear1 = nn.Linear(num_inputs, num_hidden)\n",
        "        self.act_fn = nn.Tanh()\n",
        "        self.linear2 = nn.Linear(num_hidden, num_outputs)\n",
        "\n",
        "\n",
        "    def forward(self, x):\n",
        "        # Perform the calculation of the model to determine the prediction\n",
        "        x = self.linear1(x)\n",
        "        x = self.act_fn(x)\n",
        "        x = self.linear2(x)\n",
        "        return x"
      ]
    },
    {
      "cell_type": "markdown",
      "metadata": {
        "id": "hgo0sa6P6ELV"
      },
      "source": [
        "For the examples in this notebook, we will use a tiny neural network with two input neurons and four hidden neurons. As we perform binary classification, we will use a single output neuron. Note that we do not apply a sigmoid on the output yet. This is because other functions, especially the loss, are more efficient and precise to calculate on the original outputs instead of the sigmoid output. We will discuss the detailed reason later."
      ]
    },
    {
      "cell_type": "code",
      "execution_count": null,
      "metadata": {
        "id": "WvFGq8I26ELV",
        "outputId": "d0731a99-8aaf-42ca-f0fb-ad07e7d3bc32",
        "colab": {
          "base_uri": "https://localhost:8080/"
        }
      },
      "outputs": [
        {
          "output_type": "stream",
          "name": "stdout",
          "text": [
            "SimpleClassifier(\n",
            "  (linear1): Linear(in_features=2, out_features=4, bias=True)\n",
            "  (act_fn): Tanh()\n",
            "  (linear2): Linear(in_features=4, out_features=1, bias=True)\n",
            ")\n"
          ]
        }
      ],
      "source": [
        "model = SimpleClassifier(num_inputs=2, num_hidden=4, num_outputs=1)\n",
        "# Printing a module shows all its submodules\n",
        "print(model)"
      ]
    },
    {
      "cell_type": "markdown",
      "metadata": {
        "id": "BQzvPwhc6ELW"
      },
      "source": [
        "Printing the model lists all submodules it contains. The parameters of a module can be obtained by using its `parameters()` functions, or `named_parameters()` to get a name to each parameter object. For our small neural network, we have the following parameters:"
      ]
    },
    {
      "cell_type": "code",
      "execution_count": null,
      "metadata": {
        "id": "ZjwT7fYK6ELW",
        "outputId": "ab182aef-9f64-4e62-a2c7-eda49237dde0",
        "colab": {
          "base_uri": "https://localhost:8080/"
        }
      },
      "outputs": [
        {
          "output_type": "stream",
          "name": "stdout",
          "text": [
            "Parameter linear1.weight, shape torch.Size([4, 2])\n",
            "Parameter linear1.bias, shape torch.Size([4])\n",
            "Parameter linear2.weight, shape torch.Size([1, 4])\n",
            "Parameter linear2.bias, shape torch.Size([1])\n"
          ]
        }
      ],
      "source": [
        "for name, param in model.named_parameters():\n",
        "    print(f\"Parameter {name}, shape {param.shape}\")"
      ]
    },
    {
      "cell_type": "markdown",
      "metadata": {
        "id": "5tyTsFXf6ELW"
      },
      "source": [
        "Each linear layer has a weight matrix of the shape `[output, input]`, and a bias of the shape `[output]`. The tanh activation function does not have any parameters. Note that parameters are only registered for `nn.Module` objects that are direct object attributes, i.e. `self.a = ...`. If you define a list of modules, the parameters of those are not registered for the outer module and can cause some issues when you try to optimize your module. There are alternatives, like `nn.ModuleList`, `nn.ModuleDict` and `nn.Sequential`, that allow you to have different data structures of modules. We will use them in a few later tutorials and explain them there."
      ]
    },
    {
      "cell_type": "markdown",
      "metadata": {
        "id": "mIrUtwjC6ELW"
      },
      "source": [
        "### The data\n",
        "\n",
        "PyTorch also provides a few functionalities to load the training and test data efficiently, summarized in the package `torch.utils.data`."
      ]
    },
    {
      "cell_type": "code",
      "execution_count": null,
      "metadata": {
        "id": "SV2ukzta6ELW"
      },
      "outputs": [],
      "source": [
        "import torch.utils.data as data"
      ]
    },
    {
      "cell_type": "markdown",
      "metadata": {
        "id": "4WppH7vK6ELW"
      },
      "source": [
        "The data package defines two classes which are the standard interface for handling data in PyTorch: `data.Dataset`, and `data.DataLoader`. The dataset class provides an uniform interface to access the training/test data, while the data loader makes sure to efficiently load and stack the data points from the dataset into batches during training."
      ]
    },
    {
      "cell_type": "markdown",
      "metadata": {
        "id": "yKWKPM3f6ELX"
      },
      "source": [
        "#### The dataset class\n",
        "\n",
        "The dataset class summarizes the basic functionality of a dataset in a natural way. To define a dataset in PyTorch, we simply specify two functions: `__getitem__`, and `__len__`. The get-item function has to return the $i$-th data point in the dataset, while the len function returns the size of the dataset. For the XOR dataset, we can define the dataset class as follows:"
      ]
    },
    {
      "cell_type": "code",
      "execution_count": null,
      "metadata": {
        "id": "pGpyJEks6ELX"
      },
      "outputs": [],
      "source": [
        "class XORDataset(data.Dataset):\n",
        "\n",
        "    def __init__(self, size, data, std=0.1):\n",
        "        \"\"\"\n",
        "        Inputs:\n",
        "            size - Number of data points we want to generate\n",
        "            std - Standard deviation of the noise (see generate_continuous_xor function)\n",
        "        \"\"\"\n",
        "        super().__init__()\n",
        "        self.size = size\n",
        "        self.std = std\n",
        "        self.generate_continuous_xor()\n",
        "        self.data = data\n",
        "\n",
        "    def generate_continuous_xor(self):\n",
        "        # Each data point in the XOR dataset has two variables, x and y, that can be either 0 or 1\n",
        "        # The label is their XOR combination, i.e. 1 if only x or only y is 1 while the other is 0.\n",
        "        # If x=y, the label is 0.\n",
        "        data = torch.randint(low=0, high=2, size=(self.size, 2), dtype=torch.float32)\n",
        "        label = (data.sum(dim=1) == 1).to(torch.long)\n",
        "        # To make it slightly more challenging, we add a bit of gaussian noise to the data points.\n",
        "        data += self.std * torch.randn(data.shape)\n",
        "\n",
        "        self.data = data\n",
        "        self.label = label\n",
        "\n",
        "    def __len__(self):\n",
        "        # Number of data point we have. Alternatively self.data.shape[0], or self.label.shape[0]\n",
        "        return self.size\n",
        "\n",
        "    def __getitem__(self, idx):\n",
        "        # Return the idx-th data point of the dataset\n",
        "        # If we have multiple things to return (data point and label), we can return them as tuple\n",
        "        data_point = self.data[idx]\n",
        "        data_label = self.label[idx]\n",
        "        return data_point, data_label"
      ]
    },
    {
      "cell_type": "markdown",
      "metadata": {
        "id": "U7bAKZ2z6ELX"
      },
      "source": [
        "Let's try to create such a dataset and inspect it:"
      ]
    },
    {
      "cell_type": "code",
      "execution_count": null,
      "metadata": {
        "id": "mW8KSwU16ELX",
        "outputId": "c9d17d2e-6dff-4679-a825-c4b32473f7e2",
        "colab": {
          "base_uri": "https://localhost:8080/"
        }
      },
      "outputs": [
        {
          "output_type": "stream",
          "name": "stdout",
          "text": [
            "Size of dataset: 200\n",
            "Data point 0: (tensor([0.9632, 0.1117]), tensor(1))\n"
          ]
        }
      ],
      "source": [
        "dataset = XORDataset(size=200)\n",
        "print(\"Size of dataset:\", len(dataset))\n",
        "print(\"Data point 0:\", dataset[0])"
      ]
    },
    {
      "cell_type": "markdown",
      "metadata": {
        "id": "Dcr9gHVz6ELY"
      },
      "source": [
        "To better relate to the dataset, we visualize the samples below."
      ]
    },
    {
      "cell_type": "code",
      "execution_count": null,
      "metadata": {
        "id": "T9xkElRM6ELY"
      },
      "outputs": [],
      "source": [
        "def visualize_samples(data, label):\n",
        "    if isinstance(data, torch.Tensor):\n",
        "        data = data.cpu().numpy()\n",
        "    if isinstance(label, torch.Tensor):\n",
        "        label = label.cpu().numpy()\n",
        "    data_0 = data[label == 0]\n",
        "    data_1 = data[label == 1]\n",
        "\n",
        "    plt.figure(figsize=(4,4))\n",
        "    plt.scatter(data_0[:,0], data_0[:,1], edgecolor=\"#333\", label=\"Class 0\")\n",
        "    plt.scatter(data_1[:,0], data_1[:,1], edgecolor=\"#333\", label=\"Class 1\")\n",
        "    plt.title(\"Dataset samples\")\n",
        "    plt.ylabel(r\"$x_2$\")\n",
        "    plt.xlabel(r\"$x_1$\")\n",
        "    plt.legend()"
      ]
    },
    {
      "cell_type": "code",
      "execution_count": null,
      "metadata": {
        "id": "lJ9-C3y26ELY",
        "outputId": "f6e9a897-ecef-491a-9322-912aeea02d71",
        "colab": {
          "base_uri": "https://localhost:8080/",
          "height": 404
        }
      },
      "outputs": [
        {
          "output_type": "display_data",
          "data": {
            "text/plain": [
              "<Figure size 400x400 with 1 Axes>"
            ],
            "image/svg+xml": "<?xml version=\"1.0\" encoding=\"utf-8\" standalone=\"no\"?>\n<!DOCTYPE svg PUBLIC \"-//W3C//DTD SVG 1.1//EN\"\n  \"http://www.w3.org/Graphics/SVG/1.1/DTD/svg11.dtd\">\n<svg xmlns:xlink=\"http://www.w3.org/1999/xlink\" width=\"289.424844pt\" height=\"287.037813pt\" viewBox=\"0 0 289.424844 287.037813\" xmlns=\"http://www.w3.org/2000/svg\" version=\"1.1\">\n <metadata>\n  <rdf:RDF xmlns:dc=\"http://purl.org/dc/elements/1.1/\" xmlns:cc=\"http://creativecommons.org/ns#\" xmlns:rdf=\"http://www.w3.org/1999/02/22-rdf-syntax-ns#\">\n   <cc:Work>\n    <dc:type rdf:resource=\"http://purl.org/dc/dcmitype/StillImage\"/>\n    <dc:date>2024-12-04T09:57:29.723914</dc:date>\n    <dc:format>image/svg+xml</dc:format>\n    <dc:creator>\n     <cc:Agent>\n      <dc:title>Matplotlib v3.8.0, https://matplotlib.org/</dc:title>\n     </cc:Agent>\n    </dc:creator>\n   </cc:Work>\n  </rdf:RDF>\n </metadata>\n <defs>\n  <style type=\"text/css\">*{stroke-linejoin: round; stroke-linecap: butt}</style>\n </defs>\n <g id=\"figure_1\">\n  <g id=\"patch_1\">\n   <path d=\"M 0 287.037813 \nL 289.424844 287.037813 \nL 289.424844 0 \nL 0 0 \nz\n\" style=\"fill: #ffffff\"/>\n  </g>\n  <g id=\"axes_1\">\n   <g id=\"patch_2\">\n    <path d=\"M 59.024844 244.078125 \nL 282.224844 244.078125 \nL 282.224844 22.318125 \nL 59.024844 22.318125 \nz\n\" style=\"fill: #eaeaf2\"/>\n   </g>\n   <g id=\"matplotlib.axis_1\">\n    <g id=\"xtick_1\">\n     <g id=\"line2d_1\">\n      <path d=\"M 104.136211 244.078125 \nL 104.136211 22.318125 \n\" clip-path=\"url(#p7cbcc3d530)\" style=\"fill: none; stroke: #ffffff; stroke-linecap: round\"/>\n     </g>\n     <g id=\"text_1\">\n      <!-- 0.0 -->\n      <g style=\"fill: #262626\" transform=\"translate(95.389492 261.936406) scale(0.11 -0.11)\">\n       <defs>\n        <path id=\"DejaVuSans-30\" d=\"M 2034 4250 \nQ 1547 4250 1301 3770 \nQ 1056 3291 1056 2328 \nQ 1056 1369 1301 889 \nQ 1547 409 2034 409 \nQ 2525 409 2770 889 \nQ 3016 1369 3016 2328 \nQ 3016 3291 2770 3770 \nQ 2525 4250 2034 4250 \nz\nM 2034 4750 \nQ 2819 4750 3233 4129 \nQ 3647 3509 3647 2328 \nQ 3647 1150 3233 529 \nQ 2819 -91 2034 -91 \nQ 1250 -91 836 529 \nQ 422 1150 422 2328 \nQ 422 3509 836 4129 \nQ 1250 4750 2034 4750 \nz\n\" transform=\"scale(0.015625)\"/>\n        <path id=\"DejaVuSans-2e\" d=\"M 684 794 \nL 1344 794 \nL 1344 0 \nL 684 0 \nL 684 794 \nz\n\" transform=\"scale(0.015625)\"/>\n       </defs>\n       <use xlink:href=\"#DejaVuSans-30\"/>\n       <use xlink:href=\"#DejaVuSans-2e\" x=\"63.623047\"/>\n       <use xlink:href=\"#DejaVuSans-30\" x=\"95.410156\"/>\n      </g>\n     </g>\n    </g>\n    <g id=\"xtick_2\">\n     <g id=\"line2d_2\">\n      <path d=\"M 173.488267 244.078125 \nL 173.488267 22.318125 \n\" clip-path=\"url(#p7cbcc3d530)\" style=\"fill: none; stroke: #ffffff; stroke-linecap: round\"/>\n     </g>\n     <g id=\"text_2\">\n      <!-- 0.5 -->\n      <g style=\"fill: #262626\" transform=\"translate(164.741548 261.936406) scale(0.11 -0.11)\">\n       <defs>\n        <path id=\"DejaVuSans-35\" d=\"M 691 4666 \nL 3169 4666 \nL 3169 4134 \nL 1269 4134 \nL 1269 2991 \nQ 1406 3038 1543 3061 \nQ 1681 3084 1819 3084 \nQ 2600 3084 3056 2656 \nQ 3513 2228 3513 1497 \nQ 3513 744 3044 326 \nQ 2575 -91 1722 -91 \nQ 1428 -91 1123 -41 \nQ 819 9 494 109 \nL 494 744 \nQ 775 591 1075 516 \nQ 1375 441 1709 441 \nQ 2250 441 2565 725 \nQ 2881 1009 2881 1497 \nQ 2881 1984 2565 2268 \nQ 2250 2553 1709 2553 \nQ 1456 2553 1204 2497 \nQ 953 2441 691 2322 \nL 691 4666 \nz\n\" transform=\"scale(0.015625)\"/>\n       </defs>\n       <use xlink:href=\"#DejaVuSans-30\"/>\n       <use xlink:href=\"#DejaVuSans-2e\" x=\"63.623047\"/>\n       <use xlink:href=\"#DejaVuSans-35\" x=\"95.410156\"/>\n      </g>\n     </g>\n    </g>\n    <g id=\"xtick_3\">\n     <g id=\"line2d_3\">\n      <path d=\"M 242.840324 244.078125 \nL 242.840324 22.318125 \n\" clip-path=\"url(#p7cbcc3d530)\" style=\"fill: none; stroke: #ffffff; stroke-linecap: round\"/>\n     </g>\n     <g id=\"text_3\">\n      <!-- 1.0 -->\n      <g style=\"fill: #262626\" transform=\"translate(234.093605 261.936406) scale(0.11 -0.11)\">\n       <defs>\n        <path id=\"DejaVuSans-31\" d=\"M 794 531 \nL 1825 531 \nL 1825 4091 \nL 703 3866 \nL 703 4441 \nL 1819 4666 \nL 2450 4666 \nL 2450 531 \nL 3481 531 \nL 3481 0 \nL 794 0 \nL 794 531 \nz\n\" transform=\"scale(0.015625)\"/>\n       </defs>\n       <use xlink:href=\"#DejaVuSans-31\"/>\n       <use xlink:href=\"#DejaVuSans-2e\" x=\"63.623047\"/>\n       <use xlink:href=\"#DejaVuSans-30\" x=\"95.410156\"/>\n      </g>\n     </g>\n    </g>\n    <g id=\"text_4\">\n     <!-- $x_1$ -->\n     <g style=\"fill: #262626\" transform=\"translate(164.204844 277.342188) scale(0.12 -0.12)\">\n      <defs>\n       <path id=\"DejaVuSans-Oblique-78\" d=\"M 3841 3500 \nL 2234 1784 \nL 3219 0 \nL 2559 0 \nL 1819 1388 \nL 531 0 \nL -166 0 \nL 1556 1844 \nL 641 3500 \nL 1300 3500 \nL 1972 2234 \nL 3144 3500 \nL 3841 3500 \nz\n\" transform=\"scale(0.015625)\"/>\n      </defs>\n      <use xlink:href=\"#DejaVuSans-Oblique-78\" transform=\"translate(0 0.3125)\"/>\n      <use xlink:href=\"#DejaVuSans-31\" transform=\"translate(59.179688 -16.09375) scale(0.7)\"/>\n     </g>\n    </g>\n   </g>\n   <g id=\"matplotlib.axis_2\">\n    <g id=\"ytick_1\">\n     <g id=\"line2d_4\">\n      <path d=\"M 59.024844 227.948456 \nL 282.224844 227.948456 \n\" clip-path=\"url(#p7cbcc3d530)\" style=\"fill: none; stroke: #ffffff; stroke-linecap: round\"/>\n     </g>\n     <g id=\"text_5\">\n      <!-- −0.2 -->\n      <g style=\"fill: #262626\" transform=\"translate(22.81375 232.127597) scale(0.11 -0.11)\">\n       <defs>\n        <path id=\"DejaVuSans-2212\" d=\"M 678 2272 \nL 4684 2272 \nL 4684 1741 \nL 678 1741 \nL 678 2272 \nz\n\" transform=\"scale(0.015625)\"/>\n        <path id=\"DejaVuSans-32\" d=\"M 1228 531 \nL 3431 531 \nL 3431 0 \nL 469 0 \nL 469 531 \nQ 828 903 1448 1529 \nQ 2069 2156 2228 2338 \nQ 2531 2678 2651 2914 \nQ 2772 3150 2772 3378 \nQ 2772 3750 2511 3984 \nQ 2250 4219 1831 4219 \nQ 1534 4219 1204 4116 \nQ 875 4013 500 3803 \nL 500 4441 \nQ 881 4594 1212 4672 \nQ 1544 4750 1819 4750 \nQ 2544 4750 2975 4387 \nQ 3406 4025 3406 3419 \nQ 3406 3131 3298 2873 \nQ 3191 2616 2906 2266 \nQ 2828 2175 2409 1742 \nQ 1991 1309 1228 531 \nz\n\" transform=\"scale(0.015625)\"/>\n       </defs>\n       <use xlink:href=\"#DejaVuSans-2212\"/>\n       <use xlink:href=\"#DejaVuSans-30\" x=\"83.789062\"/>\n       <use xlink:href=\"#DejaVuSans-2e\" x=\"147.412109\"/>\n       <use xlink:href=\"#DejaVuSans-32\" x=\"179.199219\"/>\n      </g>\n     </g>\n    </g>\n    <g id=\"ytick_2\">\n     <g id=\"line2d_5\">\n      <path d=\"M 59.024844 199.792918 \nL 282.224844 199.792918 \n\" clip-path=\"url(#p7cbcc3d530)\" style=\"fill: none; stroke: #ffffff; stroke-linecap: round\"/>\n     </g>\n     <g id=\"text_6\">\n      <!-- 0.0 -->\n      <g style=\"fill: #262626\" transform=\"translate(32.031406 203.972059) scale(0.11 -0.11)\">\n       <use xlink:href=\"#DejaVuSans-30\"/>\n       <use xlink:href=\"#DejaVuSans-2e\" x=\"63.623047\"/>\n       <use xlink:href=\"#DejaVuSans-30\" x=\"95.410156\"/>\n      </g>\n     </g>\n    </g>\n    <g id=\"ytick_3\">\n     <g id=\"line2d_6\">\n      <path d=\"M 59.024844 171.63738 \nL 282.224844 171.63738 \n\" clip-path=\"url(#p7cbcc3d530)\" style=\"fill: none; stroke: #ffffff; stroke-linecap: round\"/>\n     </g>\n     <g id=\"text_7\">\n      <!-- 0.2 -->\n      <g style=\"fill: #262626\" transform=\"translate(32.031406 175.816521) scale(0.11 -0.11)\">\n       <use xlink:href=\"#DejaVuSans-30\"/>\n       <use xlink:href=\"#DejaVuSans-2e\" x=\"63.623047\"/>\n       <use xlink:href=\"#DejaVuSans-32\" x=\"95.410156\"/>\n      </g>\n     </g>\n    </g>\n    <g id=\"ytick_4\">\n     <g id=\"line2d_7\">\n      <path d=\"M 59.024844 143.481843 \nL 282.224844 143.481843 \n\" clip-path=\"url(#p7cbcc3d530)\" style=\"fill: none; stroke: #ffffff; stroke-linecap: round\"/>\n     </g>\n     <g id=\"text_8\">\n      <!-- 0.4 -->\n      <g style=\"fill: #262626\" transform=\"translate(32.031406 147.660983) scale(0.11 -0.11)\">\n       <defs>\n        <path id=\"DejaVuSans-34\" d=\"M 2419 4116 \nL 825 1625 \nL 2419 1625 \nL 2419 4116 \nz\nM 2253 4666 \nL 3047 4666 \nL 3047 1625 \nL 3713 1625 \nL 3713 1100 \nL 3047 1100 \nL 3047 0 \nL 2419 0 \nL 2419 1100 \nL 313 1100 \nL 313 1709 \nL 2253 4666 \nz\n\" transform=\"scale(0.015625)\"/>\n       </defs>\n       <use xlink:href=\"#DejaVuSans-30\"/>\n       <use xlink:href=\"#DejaVuSans-2e\" x=\"63.623047\"/>\n       <use xlink:href=\"#DejaVuSans-34\" x=\"95.410156\"/>\n      </g>\n     </g>\n    </g>\n    <g id=\"ytick_5\">\n     <g id=\"line2d_8\">\n      <path d=\"M 59.024844 115.326305 \nL 282.224844 115.326305 \n\" clip-path=\"url(#p7cbcc3d530)\" style=\"fill: none; stroke: #ffffff; stroke-linecap: round\"/>\n     </g>\n     <g id=\"text_9\">\n      <!-- 0.6 -->\n      <g style=\"fill: #262626\" transform=\"translate(32.031406 119.505445) scale(0.11 -0.11)\">\n       <defs>\n        <path id=\"DejaVuSans-36\" d=\"M 2113 2584 \nQ 1688 2584 1439 2293 \nQ 1191 2003 1191 1497 \nQ 1191 994 1439 701 \nQ 1688 409 2113 409 \nQ 2538 409 2786 701 \nQ 3034 994 3034 1497 \nQ 3034 2003 2786 2293 \nQ 2538 2584 2113 2584 \nz\nM 3366 4563 \nL 3366 3988 \nQ 3128 4100 2886 4159 \nQ 2644 4219 2406 4219 \nQ 1781 4219 1451 3797 \nQ 1122 3375 1075 2522 \nQ 1259 2794 1537 2939 \nQ 1816 3084 2150 3084 \nQ 2853 3084 3261 2657 \nQ 3669 2231 3669 1497 \nQ 3669 778 3244 343 \nQ 2819 -91 2113 -91 \nQ 1303 -91 875 529 \nQ 447 1150 447 2328 \nQ 447 3434 972 4092 \nQ 1497 4750 2381 4750 \nQ 2619 4750 2861 4703 \nQ 3103 4656 3366 4563 \nz\n\" transform=\"scale(0.015625)\"/>\n       </defs>\n       <use xlink:href=\"#DejaVuSans-30\"/>\n       <use xlink:href=\"#DejaVuSans-2e\" x=\"63.623047\"/>\n       <use xlink:href=\"#DejaVuSans-36\" x=\"95.410156\"/>\n      </g>\n     </g>\n    </g>\n    <g id=\"ytick_6\">\n     <g id=\"line2d_9\">\n      <path d=\"M 59.024844 87.170767 \nL 282.224844 87.170767 \n\" clip-path=\"url(#p7cbcc3d530)\" style=\"fill: none; stroke: #ffffff; stroke-linecap: round\"/>\n     </g>\n     <g id=\"text_10\">\n      <!-- 0.8 -->\n      <g style=\"fill: #262626\" transform=\"translate(32.031406 91.349908) scale(0.11 -0.11)\">\n       <defs>\n        <path id=\"DejaVuSans-38\" d=\"M 2034 2216 \nQ 1584 2216 1326 1975 \nQ 1069 1734 1069 1313 \nQ 1069 891 1326 650 \nQ 1584 409 2034 409 \nQ 2484 409 2743 651 \nQ 3003 894 3003 1313 \nQ 3003 1734 2745 1975 \nQ 2488 2216 2034 2216 \nz\nM 1403 2484 \nQ 997 2584 770 2862 \nQ 544 3141 544 3541 \nQ 544 4100 942 4425 \nQ 1341 4750 2034 4750 \nQ 2731 4750 3128 4425 \nQ 3525 4100 3525 3541 \nQ 3525 3141 3298 2862 \nQ 3072 2584 2669 2484 \nQ 3125 2378 3379 2068 \nQ 3634 1759 3634 1313 \nQ 3634 634 3220 271 \nQ 2806 -91 2034 -91 \nQ 1263 -91 848 271 \nQ 434 634 434 1313 \nQ 434 1759 690 2068 \nQ 947 2378 1403 2484 \nz\nM 1172 3481 \nQ 1172 3119 1398 2916 \nQ 1625 2713 2034 2713 \nQ 2441 2713 2670 2916 \nQ 2900 3119 2900 3481 \nQ 2900 3844 2670 4047 \nQ 2441 4250 2034 4250 \nQ 1625 4250 1398 4047 \nQ 1172 3844 1172 3481 \nz\n\" transform=\"scale(0.015625)\"/>\n       </defs>\n       <use xlink:href=\"#DejaVuSans-30\"/>\n       <use xlink:href=\"#DejaVuSans-2e\" x=\"63.623047\"/>\n       <use xlink:href=\"#DejaVuSans-38\" x=\"95.410156\"/>\n      </g>\n     </g>\n    </g>\n    <g id=\"ytick_7\">\n     <g id=\"line2d_10\">\n      <path d=\"M 59.024844 59.015229 \nL 282.224844 59.015229 \n\" clip-path=\"url(#p7cbcc3d530)\" style=\"fill: none; stroke: #ffffff; stroke-linecap: round\"/>\n     </g>\n     <g id=\"text_11\">\n      <!-- 1.0 -->\n      <g style=\"fill: #262626\" transform=\"translate(32.031406 63.19437) scale(0.11 -0.11)\">\n       <use xlink:href=\"#DejaVuSans-31\"/>\n       <use xlink:href=\"#DejaVuSans-2e\" x=\"63.623047\"/>\n       <use xlink:href=\"#DejaVuSans-30\" x=\"95.410156\"/>\n      </g>\n     </g>\n    </g>\n    <g id=\"ytick_8\">\n     <g id=\"line2d_11\">\n      <path d=\"M 59.024844 30.859691 \nL 282.224844 30.859691 \n\" clip-path=\"url(#p7cbcc3d530)\" style=\"fill: none; stroke: #ffffff; stroke-linecap: round\"/>\n     </g>\n     <g id=\"text_12\">\n      <!-- 1.2 -->\n      <g style=\"fill: #262626\" transform=\"translate(32.031406 35.038832) scale(0.11 -0.11)\">\n       <use xlink:href=\"#DejaVuSans-31\"/>\n       <use xlink:href=\"#DejaVuSans-2e\" x=\"63.623047\"/>\n       <use xlink:href=\"#DejaVuSans-32\" x=\"95.410156\"/>\n      </g>\n     </g>\n    </g>\n    <g id=\"text_13\">\n     <!-- $x_2$ -->\n     <g style=\"fill: #262626\" transform=\"translate(16.318125 139.618125) rotate(-90) scale(0.12 -0.12)\">\n      <use xlink:href=\"#DejaVuSans-Oblique-78\" transform=\"translate(0 0.3125)\"/>\n      <use xlink:href=\"#DejaVuSans-32\" transform=\"translate(59.179688 -16.09375) scale(0.7)\"/>\n     </g>\n    </g>\n   </g>\n   <g id=\"PathCollection_1\">\n    <defs>\n     <path id=\"mdfeb34f623\" d=\"M 0 3 \nC 0.795609 3 1.55874 2.683901 2.12132 2.12132 \nC 2.683901 1.55874 3 0.795609 3 0 \nC 3 -0.795609 2.683901 -1.55874 2.12132 -2.12132 \nC 1.55874 -2.683901 0.795609 -3 0 -3 \nC -0.795609 -3 -1.55874 -2.683901 -2.12132 -2.12132 \nC -2.683901 -1.55874 -3 -0.795609 -3 0 \nC -3 0.795609 -2.683901 1.55874 -2.12132 2.12132 \nC -1.55874 2.683901 -0.795609 3 0 3 \nz\n\" style=\"stroke: #333333\"/>\n    </defs>\n    <g clip-path=\"url(#p7cbcc3d530)\">\n     <use xlink:href=\"#mdfeb34f623\" x=\"103.175587\" y=\"196.722839\" style=\"fill: #4c72b0; stroke: #333333\"/>\n     <use xlink:href=\"#mdfeb34f623\" x=\"238.921563\" y=\"62.936312\" style=\"fill: #4c72b0; stroke: #333333\"/>\n     <use xlink:href=\"#mdfeb34f623\" x=\"265.843348\" y=\"64.604217\" style=\"fill: #4c72b0; stroke: #333333\"/>\n     <use xlink:href=\"#mdfeb34f623\" x=\"115.777274\" y=\"208.027289\" style=\"fill: #4c72b0; stroke: #333333\"/>\n     <use xlink:href=\"#mdfeb34f623\" x=\"108.189714\" y=\"208.673311\" style=\"fill: #4c72b0; stroke: #333333\"/>\n     <use xlink:href=\"#mdfeb34f623\" x=\"77.84736\" y=\"192.883124\" style=\"fill: #4c72b0; stroke: #333333\"/>\n     <use xlink:href=\"#mdfeb34f623\" x=\"249.749447\" y=\"59.286292\" style=\"fill: #4c72b0; stroke: #333333\"/>\n     <use xlink:href=\"#mdfeb34f623\" x=\"238.880615\" y=\"52.019112\" style=\"fill: #4c72b0; stroke: #333333\"/>\n     <use xlink:href=\"#mdfeb34f623\" x=\"100.84285\" y=\"208.171202\" style=\"fill: #4c72b0; stroke: #333333\"/>\n     <use xlink:href=\"#mdfeb34f623\" x=\"244.40288\" y=\"54.192986\" style=\"fill: #4c72b0; stroke: #333333\"/>\n     <use xlink:href=\"#mdfeb34f623\" x=\"110.407015\" y=\"203.846094\" style=\"fill: #4c72b0; stroke: #333333\"/>\n     <use xlink:href=\"#mdfeb34f623\" x=\"262.419004\" y=\"32.398125\" style=\"fill: #4c72b0; stroke: #333333\"/>\n     <use xlink:href=\"#mdfeb34f623\" x=\"244.921908\" y=\"63.389821\" style=\"fill: #4c72b0; stroke: #333333\"/>\n     <use xlink:href=\"#mdfeb34f623\" x=\"239.033967\" y=\"58.458486\" style=\"fill: #4c72b0; stroke: #333333\"/>\n     <use xlink:href=\"#mdfeb34f623\" x=\"101.128083\" y=\"216.407122\" style=\"fill: #4c72b0; stroke: #333333\"/>\n     <use xlink:href=\"#mdfeb34f623\" x=\"96.095741\" y=\"188.27051\" style=\"fill: #4c72b0; stroke: #333333\"/>\n     <use xlink:href=\"#mdfeb34f623\" x=\"258.131327\" y=\"92.174531\" style=\"fill: #4c72b0; stroke: #333333\"/>\n     <use xlink:href=\"#mdfeb34f623\" x=\"261.679385\" y=\"84.973665\" style=\"fill: #4c72b0; stroke: #333333\"/>\n     <use xlink:href=\"#mdfeb34f623\" x=\"232.969243\" y=\"59.869761\" style=\"fill: #4c72b0; stroke: #333333\"/>\n     <use xlink:href=\"#mdfeb34f623\" x=\"88.886799\" y=\"212.915172\" style=\"fill: #4c72b0; stroke: #333333\"/>\n     <use xlink:href=\"#mdfeb34f623\" x=\"260.837035\" y=\"32.829691\" style=\"fill: #4c72b0; stroke: #333333\"/>\n     <use xlink:href=\"#mdfeb34f623\" x=\"252.014817\" y=\"60.703566\" style=\"fill: #4c72b0; stroke: #333333\"/>\n     <use xlink:href=\"#mdfeb34f623\" x=\"121.285893\" y=\"178.887482\" style=\"fill: #4c72b0; stroke: #333333\"/>\n     <use xlink:href=\"#mdfeb34f623\" x=\"235.52169\" y=\"32.535284\" style=\"fill: #4c72b0; stroke: #333333\"/>\n     <use xlink:href=\"#mdfeb34f623\" x=\"106.644921\" y=\"198.203555\" style=\"fill: #4c72b0; stroke: #333333\"/>\n     <use xlink:href=\"#mdfeb34f623\" x=\"234.671081\" y=\"52.08478\" style=\"fill: #4c72b0; stroke: #333333\"/>\n     <use xlink:href=\"#mdfeb34f623\" x=\"93.74526\" y=\"182.615423\" style=\"fill: #4c72b0; stroke: #333333\"/>\n     <use xlink:href=\"#mdfeb34f623\" x=\"257.590969\" y=\"49.299705\" style=\"fill: #4c72b0; stroke: #333333\"/>\n     <use xlink:href=\"#mdfeb34f623\" x=\"253.260186\" y=\"62.291446\" style=\"fill: #4c72b0; stroke: #333333\"/>\n     <use xlink:href=\"#mdfeb34f623\" x=\"247.043425\" y=\"44.118696\" style=\"fill: #4c72b0; stroke: #333333\"/>\n     <use xlink:href=\"#mdfeb34f623\" x=\"99.204887\" y=\"187.59289\" style=\"fill: #4c72b0; stroke: #333333\"/>\n     <use xlink:href=\"#mdfeb34f623\" x=\"111.370021\" y=\"213.43273\" style=\"fill: #4c72b0; stroke: #333333\"/>\n     <use xlink:href=\"#mdfeb34f623\" x=\"94.224345\" y=\"172.552241\" style=\"fill: #4c72b0; stroke: #333333\"/>\n     <use xlink:href=\"#mdfeb34f623\" x=\"104.609392\" y=\"204.875134\" style=\"fill: #4c72b0; stroke: #333333\"/>\n     <use xlink:href=\"#mdfeb34f623\" x=\"119.066364\" y=\"204.414963\" style=\"fill: #4c72b0; stroke: #333333\"/>\n     <use xlink:href=\"#mdfeb34f623\" x=\"100.250642\" y=\"199.146562\" style=\"fill: #4c72b0; stroke: #333333\"/>\n     <use xlink:href=\"#mdfeb34f623\" x=\"119.826314\" y=\"215.984474\" style=\"fill: #4c72b0; stroke: #333333\"/>\n     <use xlink:href=\"#mdfeb34f623\" x=\"220.787431\" y=\"39.964075\" style=\"fill: #4c72b0; stroke: #333333\"/>\n     <use xlink:href=\"#mdfeb34f623\" x=\"260.272851\" y=\"65.444962\" style=\"fill: #4c72b0; stroke: #333333\"/>\n     <use xlink:href=\"#mdfeb34f623\" x=\"245.066505\" y=\"64.58313\" style=\"fill: #4c72b0; stroke: #333333\"/>\n     <use xlink:href=\"#mdfeb34f623\" x=\"100.198665\" y=\"209.048204\" style=\"fill: #4c72b0; stroke: #333333\"/>\n     <use xlink:href=\"#mdfeb34f623\" x=\"229.560921\" y=\"90.419292\" style=\"fill: #4c72b0; stroke: #333333\"/>\n     <use xlink:href=\"#mdfeb34f623\" x=\"252.931424\" y=\"57.466065\" style=\"fill: #4c72b0; stroke: #333333\"/>\n     <use xlink:href=\"#mdfeb34f623\" x=\"104.772263\" y=\"215.89812\" style=\"fill: #4c72b0; stroke: #333333\"/>\n     <use xlink:href=\"#mdfeb34f623\" x=\"117.472818\" y=\"221.55911\" style=\"fill: #4c72b0; stroke: #333333\"/>\n     <use xlink:href=\"#mdfeb34f623\" x=\"126.142513\" y=\"180.101675\" style=\"fill: #4c72b0; stroke: #333333\"/>\n     <use xlink:href=\"#mdfeb34f623\" x=\"236.295181\" y=\"72.852515\" style=\"fill: #4c72b0; stroke: #333333\"/>\n     <use xlink:href=\"#mdfeb34f623\" x=\"223.971929\" y=\"44.796606\" style=\"fill: #4c72b0; stroke: #333333\"/>\n     <use xlink:href=\"#mdfeb34f623\" x=\"97.284907\" y=\"209.459161\" style=\"fill: #4c72b0; stroke: #333333\"/>\n     <use xlink:href=\"#mdfeb34f623\" x=\"237.50152\" y=\"69.402923\" style=\"fill: #4c72b0; stroke: #333333\"/>\n     <use xlink:href=\"#mdfeb34f623\" x=\"105.506427\" y=\"204.583978\" style=\"fill: #4c72b0; stroke: #333333\"/>\n     <use xlink:href=\"#mdfeb34f623\" x=\"249.16046\" y=\"33.833591\" style=\"fill: #4c72b0; stroke: #333333\"/>\n     <use xlink:href=\"#mdfeb34f623\" x=\"102.030951\" y=\"192.066827\" style=\"fill: #4c72b0; stroke: #333333\"/>\n     <use xlink:href=\"#mdfeb34f623\" x=\"234.523839\" y=\"77.653923\" style=\"fill: #4c72b0; stroke: #333333\"/>\n     <use xlink:href=\"#mdfeb34f623\" x=\"246.0265\" y=\"47.935546\" style=\"fill: #4c72b0; stroke: #333333\"/>\n     <use xlink:href=\"#mdfeb34f623\" x=\"77.849441\" y=\"193.95253\" style=\"fill: #4c72b0; stroke: #333333\"/>\n     <use xlink:href=\"#mdfeb34f623\" x=\"223.848588\" y=\"47.691351\" style=\"fill: #4c72b0; stroke: #333333\"/>\n     <use xlink:href=\"#mdfeb34f623\" x=\"254.206341\" y=\"66.4751\" style=\"fill: #4c72b0; stroke: #333333\"/>\n     <use xlink:href=\"#mdfeb34f623\" x=\"89.806419\" y=\"200.290075\" style=\"fill: #4c72b0; stroke: #333333\"/>\n     <use xlink:href=\"#mdfeb34f623\" x=\"101.474114\" y=\"233.998125\" style=\"fill: #4c72b0; stroke: #333333\"/>\n     <use xlink:href=\"#mdfeb34f623\" x=\"100.92905\" y=\"203.39981\" style=\"fill: #4c72b0; stroke: #333333\"/>\n     <use xlink:href=\"#mdfeb34f623\" x=\"82.790407\" y=\"203.53779\" style=\"fill: #4c72b0; stroke: #333333\"/>\n     <use xlink:href=\"#mdfeb34f623\" x=\"268.426038\" y=\"66.615549\" style=\"fill: #4c72b0; stroke: #333333\"/>\n     <use xlink:href=\"#mdfeb34f623\" x=\"234.515365\" y=\"74.78159\" style=\"fill: #4c72b0; stroke: #333333\"/>\n     <use xlink:href=\"#mdfeb34f623\" x=\"260.429931\" y=\"40.024793\" style=\"fill: #4c72b0; stroke: #333333\"/>\n     <use xlink:href=\"#mdfeb34f623\" x=\"83.354631\" y=\"188.559525\" style=\"fill: #4c72b0; stroke: #333333\"/>\n     <use xlink:href=\"#mdfeb34f623\" x=\"245.761431\" y=\"83.623854\" style=\"fill: #4c72b0; stroke: #333333\"/>\n     <use xlink:href=\"#mdfeb34f623\" x=\"256.086995\" y=\"90.999539\" style=\"fill: #4c72b0; stroke: #333333\"/>\n     <use xlink:href=\"#mdfeb34f623\" x=\"125.251842\" y=\"222.197319\" style=\"fill: #4c72b0; stroke: #333333\"/>\n     <use xlink:href=\"#mdfeb34f623\" x=\"115.574613\" y=\"210.741125\" style=\"fill: #4c72b0; stroke: #333333\"/>\n     <use xlink:href=\"#mdfeb34f623\" x=\"101.824266\" y=\"193.355747\" style=\"fill: #4c72b0; stroke: #333333\"/>\n     <use xlink:href=\"#mdfeb34f623\" x=\"102.668211\" y=\"190.997518\" style=\"fill: #4c72b0; stroke: #333333\"/>\n     <use xlink:href=\"#mdfeb34f623\" x=\"246.373252\" y=\"54.496271\" style=\"fill: #4c72b0; stroke: #333333\"/>\n     <use xlink:href=\"#mdfeb34f623\" x=\"233.834924\" y=\"89.462105\" style=\"fill: #4c72b0; stroke: #333333\"/>\n     <use xlink:href=\"#mdfeb34f623\" x=\"101.780765\" y=\"198.962686\" style=\"fill: #4c72b0; stroke: #333333\"/>\n     <use xlink:href=\"#mdfeb34f623\" x=\"113.855176\" y=\"190.119326\" style=\"fill: #4c72b0; stroke: #333333\"/>\n     <use xlink:href=\"#mdfeb34f623\" x=\"115.431864\" y=\"197.531041\" style=\"fill: #4c72b0; stroke: #333333\"/>\n     <use xlink:href=\"#mdfeb34f623\" x=\"246.091317\" y=\"37.893897\" style=\"fill: #4c72b0; stroke: #333333\"/>\n     <use xlink:href=\"#mdfeb34f623\" x=\"245.18129\" y=\"36.021226\" style=\"fill: #4c72b0; stroke: #333333\"/>\n     <use xlink:href=\"#mdfeb34f623\" x=\"103.858405\" y=\"211.79954\" style=\"fill: #4c72b0; stroke: #333333\"/>\n     <use xlink:href=\"#mdfeb34f623\" x=\"256.895945\" y=\"38.007226\" style=\"fill: #4c72b0; stroke: #333333\"/>\n     <use xlink:href=\"#mdfeb34f623\" x=\"239.223307\" y=\"73.3692\" style=\"fill: #4c72b0; stroke: #333333\"/>\n     <use xlink:href=\"#mdfeb34f623\" x=\"255.063622\" y=\"33.797493\" style=\"fill: #4c72b0; stroke: #333333\"/>\n     <use xlink:href=\"#mdfeb34f623\" x=\"95.292954\" y=\"196.343137\" style=\"fill: #4c72b0; stroke: #333333\"/>\n     <use xlink:href=\"#mdfeb34f623\" x=\"241.134476\" y=\"48.50558\" style=\"fill: #4c72b0; stroke: #333333\"/>\n     <use xlink:href=\"#mdfeb34f623\" x=\"105.39991\" y=\"216.294179\" style=\"fill: #4c72b0; stroke: #333333\"/>\n     <use xlink:href=\"#mdfeb34f623\" x=\"114.664014\" y=\"207.926453\" style=\"fill: #4c72b0; stroke: #333333\"/>\n     <use xlink:href=\"#mdfeb34f623\" x=\"94.590702\" y=\"194.572188\" style=\"fill: #4c72b0; stroke: #333333\"/>\n     <use xlink:href=\"#mdfeb34f623\" x=\"219.680904\" y=\"54.467641\" style=\"fill: #4c72b0; stroke: #333333\"/>\n     <use xlink:href=\"#mdfeb34f623\" x=\"232.032075\" y=\"48.348216\" style=\"fill: #4c72b0; stroke: #333333\"/>\n     <use xlink:href=\"#mdfeb34f623\" x=\"209.50665\" y=\"45.13765\" style=\"fill: #4c72b0; stroke: #333333\"/>\n     <use xlink:href=\"#mdfeb34f623\" x=\"93.845438\" y=\"194.89677\" style=\"fill: #4c72b0; stroke: #333333\"/>\n     <use xlink:href=\"#mdfeb34f623\" x=\"123.551329\" y=\"210.643828\" style=\"fill: #4c72b0; stroke: #333333\"/>\n     <use xlink:href=\"#mdfeb34f623\" x=\"98.640687\" y=\"213.543031\" style=\"fill: #4c72b0; stroke: #333333\"/>\n     <use xlink:href=\"#mdfeb34f623\" x=\"232.756002\" y=\"92.064122\" style=\"fill: #4c72b0; stroke: #333333\"/>\n     <use xlink:href=\"#mdfeb34f623\" x=\"108.951144\" y=\"198.740065\" style=\"fill: #4c72b0; stroke: #333333\"/>\n     <use xlink:href=\"#mdfeb34f623\" x=\"101.769149\" y=\"192.46262\" style=\"fill: #4c72b0; stroke: #333333\"/>\n     <use xlink:href=\"#mdfeb34f623\" x=\"96.379894\" y=\"203.757936\" style=\"fill: #4c72b0; stroke: #333333\"/>\n     <use xlink:href=\"#mdfeb34f623\" x=\"106.03107\" y=\"211.899265\" style=\"fill: #4c72b0; stroke: #333333\"/>\n     <use xlink:href=\"#mdfeb34f623\" x=\"218.441851\" y=\"58.574265\" style=\"fill: #4c72b0; stroke: #333333\"/>\n     <use xlink:href=\"#mdfeb34f623\" x=\"227.615319\" y=\"41.850088\" style=\"fill: #4c72b0; stroke: #333333\"/>\n     <use xlink:href=\"#mdfeb34f623\" x=\"79.001684\" y=\"218.262582\" style=\"fill: #4c72b0; stroke: #333333\"/>\n     <use xlink:href=\"#mdfeb34f623\" x=\"242.780269\" y=\"81.620158\" style=\"fill: #4c72b0; stroke: #333333\"/>\n    </g>\n   </g>\n   <g id=\"PathCollection_2\">\n    <defs>\n     <path id=\"m1af065af44\" d=\"M 0 3 \nC 0.795609 3 1.55874 2.683901 2.12132 2.12132 \nC 2.683901 1.55874 3 0.795609 3 0 \nC 3 -0.795609 2.683901 -1.55874 2.12132 -2.12132 \nC 1.55874 -2.683901 0.795609 -3 0 -3 \nC -0.795609 -3 -1.55874 -2.683901 -2.12132 -2.12132 \nC -2.683901 -1.55874 -3 -0.795609 -3 0 \nC -3 0.795609 -2.683901 1.55874 -2.12132 2.12132 \nC -1.55874 2.683901 -0.795609 3 0 3 \nz\n\" style=\"stroke: #333333\"/>\n    </defs>\n    <g clip-path=\"url(#p7cbcc3d530)\">\n     <use xlink:href=\"#m1af065af44\" x=\"237.740969\" y=\"184.064459\" style=\"fill: #dd8452; stroke: #333333\"/>\n     <use xlink:href=\"#m1af065af44\" x=\"250.706334\" y=\"184.340261\" style=\"fill: #dd8452; stroke: #333333\"/>\n     <use xlink:href=\"#m1af065af44\" x=\"238.881003\" y=\"202.441215\" style=\"fill: #dd8452; stroke: #333333\"/>\n     <use xlink:href=\"#m1af065af44\" x=\"96.610282\" y=\"45.851439\" style=\"fill: #dd8452; stroke: #333333\"/>\n     <use xlink:href=\"#m1af065af44\" x=\"257.550343\" y=\"205.161614\" style=\"fill: #dd8452; stroke: #333333\"/>\n     <use xlink:href=\"#m1af065af44\" x=\"107.264311\" y=\"64.372734\" style=\"fill: #dd8452; stroke: #333333\"/>\n     <use xlink:href=\"#m1af065af44\" x=\"226.725944\" y=\"215.105614\" style=\"fill: #dd8452; stroke: #333333\"/>\n     <use xlink:href=\"#m1af065af44\" x=\"137.462566\" y=\"60.339707\" style=\"fill: #dd8452; stroke: #333333\"/>\n     <use xlink:href=\"#m1af065af44\" x=\"254.399964\" y=\"221.068731\" style=\"fill: #dd8452; stroke: #333333\"/>\n     <use xlink:href=\"#m1af065af44\" x=\"221.661073\" y=\"188.801084\" style=\"fill: #dd8452; stroke: #333333\"/>\n     <use xlink:href=\"#m1af065af44\" x=\"236.770813\" y=\"176.011923\" style=\"fill: #dd8452; stroke: #333333\"/>\n     <use xlink:href=\"#m1af065af44\" x=\"72.595048\" y=\"45.008831\" style=\"fill: #dd8452; stroke: #333333\"/>\n     <use xlink:href=\"#m1af065af44\" x=\"123.449481\" y=\"45.994237\" style=\"fill: #dd8452; stroke: #333333\"/>\n     <use xlink:href=\"#m1af065af44\" x=\"103.341406\" y=\"77.572203\" style=\"fill: #dd8452; stroke: #333333\"/>\n     <use xlink:href=\"#m1af065af44\" x=\"103.652293\" y=\"42.484313\" style=\"fill: #dd8452; stroke: #333333\"/>\n     <use xlink:href=\"#m1af065af44\" x=\"82.572453\" y=\"39.362608\" style=\"fill: #dd8452; stroke: #333333\"/>\n     <use xlink:href=\"#m1af065af44\" x=\"240.785963\" y=\"205.322233\" style=\"fill: #dd8452; stroke: #333333\"/>\n     <use xlink:href=\"#m1af065af44\" x=\"223.146677\" y=\"183.914717\" style=\"fill: #dd8452; stroke: #333333\"/>\n     <use xlink:href=\"#m1af065af44\" x=\"232.809459\" y=\"186.021764\" style=\"fill: #dd8452; stroke: #333333\"/>\n     <use xlink:href=\"#m1af065af44\" x=\"114.75275\" y=\"59.992966\" style=\"fill: #dd8452; stroke: #333333\"/>\n     <use xlink:href=\"#m1af065af44\" x=\"219.13022\" y=\"195.521501\" style=\"fill: #dd8452; stroke: #333333\"/>\n     <use xlink:href=\"#m1af065af44\" x=\"263.953319\" y=\"204.08342\" style=\"fill: #dd8452; stroke: #333333\"/>\n     <use xlink:href=\"#m1af065af44\" x=\"255.392004\" y=\"201.600425\" style=\"fill: #dd8452; stroke: #333333\"/>\n     <use xlink:href=\"#m1af065af44\" x=\"230.139566\" y=\"205.687898\" style=\"fill: #dd8452; stroke: #333333\"/>\n     <use xlink:href=\"#m1af065af44\" x=\"261.488557\" y=\"179.518498\" style=\"fill: #dd8452; stroke: #333333\"/>\n     <use xlink:href=\"#m1af065af44\" x=\"90.064639\" y=\"71.126184\" style=\"fill: #dd8452; stroke: #333333\"/>\n     <use xlink:href=\"#m1af065af44\" x=\"258.588002\" y=\"182.510698\" style=\"fill: #dd8452; stroke: #333333\"/>\n     <use xlink:href=\"#m1af065af44\" x=\"117.683193\" y=\"55.774959\" style=\"fill: #dd8452; stroke: #333333\"/>\n     <use xlink:href=\"#m1af065af44\" x=\"238.990257\" y=\"181.775374\" style=\"fill: #dd8452; stroke: #333333\"/>\n     <use xlink:href=\"#m1af065af44\" x=\"75.361809\" y=\"57.662146\" style=\"fill: #dd8452; stroke: #333333\"/>\n     <use xlink:href=\"#m1af065af44\" x=\"102.090572\" y=\"66.990484\" style=\"fill: #dd8452; stroke: #333333\"/>\n     <use xlink:href=\"#m1af065af44\" x=\"230.25688\" y=\"212.375041\" style=\"fill: #dd8452; stroke: #333333\"/>\n     <use xlink:href=\"#m1af065af44\" x=\"221.809167\" y=\"186.328734\" style=\"fill: #dd8452; stroke: #333333\"/>\n     <use xlink:href=\"#m1af065af44\" x=\"107.069524\" y=\"61.423422\" style=\"fill: #dd8452; stroke: #333333\"/>\n     <use xlink:href=\"#m1af065af44\" x=\"250.99108\" y=\"187.069023\" style=\"fill: #dd8452; stroke: #333333\"/>\n     <use xlink:href=\"#m1af065af44\" x=\"107.646006\" y=\"69.452204\" style=\"fill: #dd8452; stroke: #333333\"/>\n     <use xlink:href=\"#m1af065af44\" x=\"104.549879\" y=\"72.257232\" style=\"fill: #dd8452; stroke: #333333\"/>\n     <use xlink:href=\"#m1af065af44\" x=\"268.105097\" y=\"213.073602\" style=\"fill: #dd8452; stroke: #333333\"/>\n     <use xlink:href=\"#m1af065af44\" x=\"238.400187\" y=\"183.208803\" style=\"fill: #dd8452; stroke: #333333\"/>\n     <use xlink:href=\"#m1af065af44\" x=\"91.295948\" y=\"56.491819\" style=\"fill: #dd8452; stroke: #333333\"/>\n     <use xlink:href=\"#m1af065af44\" x=\"121.568333\" y=\"58.587926\" style=\"fill: #dd8452; stroke: #333333\"/>\n     <use xlink:href=\"#m1af065af44\" x=\"125.003489\" y=\"40.639434\" style=\"fill: #dd8452; stroke: #333333\"/>\n     <use xlink:href=\"#m1af065af44\" x=\"251.195219\" y=\"209.984157\" style=\"fill: #dd8452; stroke: #333333\"/>\n     <use xlink:href=\"#m1af065af44\" x=\"91.801361\" y=\"60.733388\" style=\"fill: #dd8452; stroke: #333333\"/>\n     <use xlink:href=\"#m1af065af44\" x=\"235.974935\" y=\"188.491788\" style=\"fill: #dd8452; stroke: #333333\"/>\n     <use xlink:href=\"#m1af065af44\" x=\"106.729752\" y=\"74.521377\" style=\"fill: #dd8452; stroke: #333333\"/>\n     <use xlink:href=\"#m1af065af44\" x=\"114.638428\" y=\"50.680713\" style=\"fill: #dd8452; stroke: #333333\"/>\n     <use xlink:href=\"#m1af065af44\" x=\"113.545439\" y=\"54.197282\" style=\"fill: #dd8452; stroke: #333333\"/>\n     <use xlink:href=\"#m1af065af44\" x=\"227.164001\" y=\"189.409162\" style=\"fill: #dd8452; stroke: #333333\"/>\n     <use xlink:href=\"#m1af065af44\" x=\"91.795046\" y=\"78.604599\" style=\"fill: #dd8452; stroke: #333333\"/>\n     <use xlink:href=\"#m1af065af44\" x=\"112.355405\" y=\"48.675045\" style=\"fill: #dd8452; stroke: #333333\"/>\n     <use xlink:href=\"#m1af065af44\" x=\"218.881785\" y=\"185.380972\" style=\"fill: #dd8452; stroke: #333333\"/>\n     <use xlink:href=\"#m1af065af44\" x=\"245.64443\" y=\"214.332575\" style=\"fill: #dd8452; stroke: #333333\"/>\n     <use xlink:href=\"#m1af065af44\" x=\"109.784851\" y=\"49.194851\" style=\"fill: #dd8452; stroke: #333333\"/>\n     <use xlink:href=\"#m1af065af44\" x=\"116.091024\" y=\"68.69468\" style=\"fill: #dd8452; stroke: #333333\"/>\n     <use xlink:href=\"#m1af065af44\" x=\"225.780417\" y=\"198.5437\" style=\"fill: #dd8452; stroke: #333333\"/>\n     <use xlink:href=\"#m1af065af44\" x=\"217.276378\" y=\"201.294091\" style=\"fill: #dd8452; stroke: #333333\"/>\n     <use xlink:href=\"#m1af065af44\" x=\"113.27314\" y=\"63.165772\" style=\"fill: #dd8452; stroke: #333333\"/>\n     <use xlink:href=\"#m1af065af44\" x=\"69.170298\" y=\"70.4775\" style=\"fill: #dd8452; stroke: #333333\"/>\n     <use xlink:href=\"#m1af065af44\" x=\"98.698359\" y=\"78.564893\" style=\"fill: #dd8452; stroke: #333333\"/>\n     <use xlink:href=\"#m1af065af44\" x=\"116.347165\" y=\"52.708383\" style=\"fill: #dd8452; stroke: #333333\"/>\n     <use xlink:href=\"#m1af065af44\" x=\"94.391267\" y=\"64.035928\" style=\"fill: #dd8452; stroke: #333333\"/>\n     <use xlink:href=\"#m1af065af44\" x=\"100.898505\" y=\"56.433368\" style=\"fill: #dd8452; stroke: #333333\"/>\n     <use xlink:href=\"#m1af065af44\" x=\"116.977273\" y=\"69.173857\" style=\"fill: #dd8452; stroke: #333333\"/>\n     <use xlink:href=\"#m1af065af44\" x=\"264.182211\" y=\"205.893872\" style=\"fill: #dd8452; stroke: #333333\"/>\n     <use xlink:href=\"#m1af065af44\" x=\"86.626022\" y=\"40.196254\" style=\"fill: #dd8452; stroke: #333333\"/>\n     <use xlink:href=\"#m1af065af44\" x=\"264.912405\" y=\"188.24511\" style=\"fill: #dd8452; stroke: #333333\"/>\n     <use xlink:href=\"#m1af065af44\" x=\"251.653068\" y=\"174.836438\" style=\"fill: #dd8452; stroke: #333333\"/>\n     <use xlink:href=\"#m1af065af44\" x=\"221.338296\" y=\"215.053945\" style=\"fill: #dd8452; stroke: #333333\"/>\n     <use xlink:href=\"#m1af065af44\" x=\"225.251741\" y=\"231.325231\" style=\"fill: #dd8452; stroke: #333333\"/>\n     <use xlink:href=\"#m1af065af44\" x=\"105.110938\" y=\"41.725431\" style=\"fill: #dd8452; stroke: #333333\"/>\n     <use xlink:href=\"#m1af065af44\" x=\"227.955126\" y=\"182.071913\" style=\"fill: #dd8452; stroke: #333333\"/>\n     <use xlink:href=\"#m1af065af44\" x=\"214.647143\" y=\"167.860073\" style=\"fill: #dd8452; stroke: #333333\"/>\n     <use xlink:href=\"#m1af065af44\" x=\"91.350295\" y=\"47.613063\" style=\"fill: #dd8452; stroke: #333333\"/>\n     <use xlink:href=\"#m1af065af44\" x=\"115.184403\" y=\"60.592713\" style=\"fill: #dd8452; stroke: #333333\"/>\n     <use xlink:href=\"#m1af065af44\" x=\"253.888856\" y=\"187.512004\" style=\"fill: #dd8452; stroke: #333333\"/>\n     <use xlink:href=\"#m1af065af44\" x=\"98.888029\" y=\"51.977778\" style=\"fill: #dd8452; stroke: #333333\"/>\n     <use xlink:href=\"#m1af065af44\" x=\"110.839939\" y=\"62.358549\" style=\"fill: #dd8452; stroke: #333333\"/>\n     <use xlink:href=\"#m1af065af44\" x=\"109.239359\" y=\"65.661131\" style=\"fill: #dd8452; stroke: #333333\"/>\n     <use xlink:href=\"#m1af065af44\" x=\"237.390927\" y=\"180.24788\" style=\"fill: #dd8452; stroke: #333333\"/>\n     <use xlink:href=\"#m1af065af44\" x=\"245.348705\" y=\"170.843528\" style=\"fill: #dd8452; stroke: #333333\"/>\n     <use xlink:href=\"#m1af065af44\" x=\"254.203911\" y=\"188.41563\" style=\"fill: #dd8452; stroke: #333333\"/>\n     <use xlink:href=\"#m1af065af44\" x=\"141.672506\" y=\"60.039544\" style=\"fill: #dd8452; stroke: #333333\"/>\n     <use xlink:href=\"#m1af065af44\" x=\"220.590559\" y=\"217.37803\" style=\"fill: #dd8452; stroke: #333333\"/>\n     <use xlink:href=\"#m1af065af44\" x=\"272.079389\" y=\"216.407409\" style=\"fill: #dd8452; stroke: #333333\"/>\n     <use xlink:href=\"#m1af065af44\" x=\"233.703348\" y=\"213.313899\" style=\"fill: #dd8452; stroke: #333333\"/>\n     <use xlink:href=\"#m1af065af44\" x=\"95.318892\" y=\"70.745677\" style=\"fill: #dd8452; stroke: #333333\"/>\n     <use xlink:href=\"#m1af065af44\" x=\"93.064547\" y=\"60.036238\" style=\"fill: #dd8452; stroke: #333333\"/>\n     <use xlink:href=\"#m1af065af44\" x=\"256.572474\" y=\"216.244964\" style=\"fill: #dd8452; stroke: #333333\"/>\n     <use xlink:href=\"#m1af065af44\" x=\"93.50362\" y=\"67.616948\" style=\"fill: #dd8452; stroke: #333333\"/>\n     <use xlink:href=\"#m1af065af44\" x=\"79.412994\" y=\"62.572016\" style=\"fill: #dd8452; stroke: #333333\"/>\n     <use xlink:href=\"#m1af065af44\" x=\"123.191141\" y=\"49.138967\" style=\"fill: #dd8452; stroke: #333333\"/>\n     <use xlink:href=\"#m1af065af44\" x=\"96.488538\" y=\"52.173154\" style=\"fill: #dd8452; stroke: #333333\"/>\n     <use xlink:href=\"#m1af065af44\" x=\"264.233882\" y=\"213.711341\" style=\"fill: #dd8452; stroke: #333333\"/>\n     <use xlink:href=\"#m1af065af44\" x=\"216.198134\" y=\"195.325995\" style=\"fill: #dd8452; stroke: #333333\"/>\n     <use xlink:href=\"#m1af065af44\" x=\"105.002662\" y=\"45.008294\" style=\"fill: #dd8452; stroke: #333333\"/>\n     <use xlink:href=\"#m1af065af44\" x=\"261.482984\" y=\"211.240618\" style=\"fill: #dd8452; stroke: #333333\"/>\n    </g>\n   </g>\n   <g id=\"patch_3\">\n    <path d=\"M 59.024844 244.078125 \nL 59.024844 22.318125 \n\" style=\"fill: none; stroke: #ffffff; stroke-width: 1.25; stroke-linejoin: miter; stroke-linecap: square\"/>\n   </g>\n   <g id=\"patch_4\">\n    <path d=\"M 282.224844 244.078125 \nL 282.224844 22.318125 \n\" style=\"fill: none; stroke: #ffffff; stroke-width: 1.25; stroke-linejoin: miter; stroke-linecap: square\"/>\n   </g>\n   <g id=\"patch_5\">\n    <path d=\"M 59.024844 244.078125 \nL 282.224844 244.078125 \n\" style=\"fill: none; stroke: #ffffff; stroke-width: 1.25; stroke-linejoin: miter; stroke-linecap: square\"/>\n   </g>\n   <g id=\"patch_6\">\n    <path d=\"M 59.024844 22.318125 \nL 282.224844 22.318125 \n\" style=\"fill: none; stroke: #ffffff; stroke-width: 1.25; stroke-linejoin: miter; stroke-linecap: square\"/>\n   </g>\n   <g id=\"text_14\">\n    <!-- Dataset samples -->\n    <g style=\"fill: #262626\" transform=\"translate(120.282031 16.318125) scale(0.12 -0.12)\">\n     <defs>\n      <path id=\"DejaVuSans-44\" d=\"M 1259 4147 \nL 1259 519 \nL 2022 519 \nQ 2988 519 3436 956 \nQ 3884 1394 3884 2338 \nQ 3884 3275 3436 3711 \nQ 2988 4147 2022 4147 \nL 1259 4147 \nz\nM 628 4666 \nL 1925 4666 \nQ 3281 4666 3915 4102 \nQ 4550 3538 4550 2338 \nQ 4550 1131 3912 565 \nQ 3275 0 1925 0 \nL 628 0 \nL 628 4666 \nz\n\" transform=\"scale(0.015625)\"/>\n      <path id=\"DejaVuSans-61\" d=\"M 2194 1759 \nQ 1497 1759 1228 1600 \nQ 959 1441 959 1056 \nQ 959 750 1161 570 \nQ 1363 391 1709 391 \nQ 2188 391 2477 730 \nQ 2766 1069 2766 1631 \nL 2766 1759 \nL 2194 1759 \nz\nM 3341 1997 \nL 3341 0 \nL 2766 0 \nL 2766 531 \nQ 2569 213 2275 61 \nQ 1981 -91 1556 -91 \nQ 1019 -91 701 211 \nQ 384 513 384 1019 \nQ 384 1609 779 1909 \nQ 1175 2209 1959 2209 \nL 2766 2209 \nL 2766 2266 \nQ 2766 2663 2505 2880 \nQ 2244 3097 1772 3097 \nQ 1472 3097 1187 3025 \nQ 903 2953 641 2809 \nL 641 3341 \nQ 956 3463 1253 3523 \nQ 1550 3584 1831 3584 \nQ 2591 3584 2966 3190 \nQ 3341 2797 3341 1997 \nz\n\" transform=\"scale(0.015625)\"/>\n      <path id=\"DejaVuSans-74\" d=\"M 1172 4494 \nL 1172 3500 \nL 2356 3500 \nL 2356 3053 \nL 1172 3053 \nL 1172 1153 \nQ 1172 725 1289 603 \nQ 1406 481 1766 481 \nL 2356 481 \nL 2356 0 \nL 1766 0 \nQ 1100 0 847 248 \nQ 594 497 594 1153 \nL 594 3053 \nL 172 3053 \nL 172 3500 \nL 594 3500 \nL 594 4494 \nL 1172 4494 \nz\n\" transform=\"scale(0.015625)\"/>\n      <path id=\"DejaVuSans-73\" d=\"M 2834 3397 \nL 2834 2853 \nQ 2591 2978 2328 3040 \nQ 2066 3103 1784 3103 \nQ 1356 3103 1142 2972 \nQ 928 2841 928 2578 \nQ 928 2378 1081 2264 \nQ 1234 2150 1697 2047 \nL 1894 2003 \nQ 2506 1872 2764 1633 \nQ 3022 1394 3022 966 \nQ 3022 478 2636 193 \nQ 2250 -91 1575 -91 \nQ 1294 -91 989 -36 \nQ 684 19 347 128 \nL 347 722 \nQ 666 556 975 473 \nQ 1284 391 1588 391 \nQ 1994 391 2212 530 \nQ 2431 669 2431 922 \nQ 2431 1156 2273 1281 \nQ 2116 1406 1581 1522 \nL 1381 1569 \nQ 847 1681 609 1914 \nQ 372 2147 372 2553 \nQ 372 3047 722 3315 \nQ 1072 3584 1716 3584 \nQ 2034 3584 2315 3537 \nQ 2597 3491 2834 3397 \nz\n\" transform=\"scale(0.015625)\"/>\n      <path id=\"DejaVuSans-65\" d=\"M 3597 1894 \nL 3597 1613 \nL 953 1613 \nQ 991 1019 1311 708 \nQ 1631 397 2203 397 \nQ 2534 397 2845 478 \nQ 3156 559 3463 722 \nL 3463 178 \nQ 3153 47 2828 -22 \nQ 2503 -91 2169 -91 \nQ 1331 -91 842 396 \nQ 353 884 353 1716 \nQ 353 2575 817 3079 \nQ 1281 3584 2069 3584 \nQ 2775 3584 3186 3129 \nQ 3597 2675 3597 1894 \nz\nM 3022 2063 \nQ 3016 2534 2758 2815 \nQ 2500 3097 2075 3097 \nQ 1594 3097 1305 2825 \nQ 1016 2553 972 2059 \nL 3022 2063 \nz\n\" transform=\"scale(0.015625)\"/>\n      <path id=\"DejaVuSans-20\" transform=\"scale(0.015625)\"/>\n      <path id=\"DejaVuSans-6d\" d=\"M 3328 2828 \nQ 3544 3216 3844 3400 \nQ 4144 3584 4550 3584 \nQ 5097 3584 5394 3201 \nQ 5691 2819 5691 2113 \nL 5691 0 \nL 5113 0 \nL 5113 2094 \nQ 5113 2597 4934 2840 \nQ 4756 3084 4391 3084 \nQ 3944 3084 3684 2787 \nQ 3425 2491 3425 1978 \nL 3425 0 \nL 2847 0 \nL 2847 2094 \nQ 2847 2600 2669 2842 \nQ 2491 3084 2119 3084 \nQ 1678 3084 1418 2786 \nQ 1159 2488 1159 1978 \nL 1159 0 \nL 581 0 \nL 581 3500 \nL 1159 3500 \nL 1159 2956 \nQ 1356 3278 1631 3431 \nQ 1906 3584 2284 3584 \nQ 2666 3584 2933 3390 \nQ 3200 3197 3328 2828 \nz\n\" transform=\"scale(0.015625)\"/>\n      <path id=\"DejaVuSans-70\" d=\"M 1159 525 \nL 1159 -1331 \nL 581 -1331 \nL 581 3500 \nL 1159 3500 \nL 1159 2969 \nQ 1341 3281 1617 3432 \nQ 1894 3584 2278 3584 \nQ 2916 3584 3314 3078 \nQ 3713 2572 3713 1747 \nQ 3713 922 3314 415 \nQ 2916 -91 2278 -91 \nQ 1894 -91 1617 61 \nQ 1341 213 1159 525 \nz\nM 3116 1747 \nQ 3116 2381 2855 2742 \nQ 2594 3103 2138 3103 \nQ 1681 3103 1420 2742 \nQ 1159 2381 1159 1747 \nQ 1159 1113 1420 752 \nQ 1681 391 2138 391 \nQ 2594 391 2855 752 \nQ 3116 1113 3116 1747 \nz\n\" transform=\"scale(0.015625)\"/>\n      <path id=\"DejaVuSans-6c\" d=\"M 603 4863 \nL 1178 4863 \nL 1178 0 \nL 603 0 \nL 603 4863 \nz\n\" transform=\"scale(0.015625)\"/>\n     </defs>\n     <use xlink:href=\"#DejaVuSans-44\"/>\n     <use xlink:href=\"#DejaVuSans-61\" x=\"77.001953\"/>\n     <use xlink:href=\"#DejaVuSans-74\" x=\"138.28125\"/>\n     <use xlink:href=\"#DejaVuSans-61\" x=\"177.490234\"/>\n     <use xlink:href=\"#DejaVuSans-73\" x=\"238.769531\"/>\n     <use xlink:href=\"#DejaVuSans-65\" x=\"290.869141\"/>\n     <use xlink:href=\"#DejaVuSans-74\" x=\"352.392578\"/>\n     <use xlink:href=\"#DejaVuSans-20\" x=\"391.601562\"/>\n     <use xlink:href=\"#DejaVuSans-73\" x=\"423.388672\"/>\n     <use xlink:href=\"#DejaVuSans-61\" x=\"475.488281\"/>\n     <use xlink:href=\"#DejaVuSans-6d\" x=\"536.767578\"/>\n     <use xlink:href=\"#DejaVuSans-70\" x=\"634.179688\"/>\n     <use xlink:href=\"#DejaVuSans-6c\" x=\"697.65625\"/>\n     <use xlink:href=\"#DejaVuSans-65\" x=\"725.439453\"/>\n     <use xlink:href=\"#DejaVuSans-73\" x=\"786.962891\"/>\n    </g>\n   </g>\n   <g id=\"legend_1\">\n    <g id=\"patch_7\">\n     <path d=\"M 199.891562 150.994063 \nL 274.524844 150.994063 \nQ 276.724844 150.994063 276.724844 148.794063 \nL 276.724844 117.602188 \nQ 276.724844 115.402188 274.524844 115.402188 \nL 199.891562 115.402188 \nQ 197.691562 115.402188 197.691562 117.602188 \nL 197.691562 148.794063 \nQ 197.691562 150.994063 199.891562 150.994063 \nz\n\" style=\"fill: #eaeaf2; opacity: 0.8; stroke: #cccccc; stroke-linejoin: miter\"/>\n    </g>\n    <g id=\"PathCollection_3\">\n     <g>\n      <use xlink:href=\"#mdfeb34f623\" x=\"213.091562\" y=\"125.272969\" style=\"fill: #4c72b0; stroke: #333333\"/>\n     </g>\n    </g>\n    <g id=\"text_15\">\n     <!-- Class 0 -->\n     <g style=\"fill: #262626\" transform=\"translate(232.891562 128.160469) scale(0.11 -0.11)\">\n      <defs>\n       <path id=\"DejaVuSans-43\" d=\"M 4122 4306 \nL 4122 3641 \nQ 3803 3938 3442 4084 \nQ 3081 4231 2675 4231 \nQ 1875 4231 1450 3742 \nQ 1025 3253 1025 2328 \nQ 1025 1406 1450 917 \nQ 1875 428 2675 428 \nQ 3081 428 3442 575 \nQ 3803 722 4122 1019 \nL 4122 359 \nQ 3791 134 3420 21 \nQ 3050 -91 2638 -91 \nQ 1578 -91 968 557 \nQ 359 1206 359 2328 \nQ 359 3453 968 4101 \nQ 1578 4750 2638 4750 \nQ 3056 4750 3426 4639 \nQ 3797 4528 4122 4306 \nz\n\" transform=\"scale(0.015625)\"/>\n      </defs>\n      <use xlink:href=\"#DejaVuSans-43\"/>\n      <use xlink:href=\"#DejaVuSans-6c\" x=\"69.824219\"/>\n      <use xlink:href=\"#DejaVuSans-61\" x=\"97.607422\"/>\n      <use xlink:href=\"#DejaVuSans-73\" x=\"158.886719\"/>\n      <use xlink:href=\"#DejaVuSans-73\" x=\"210.986328\"/>\n      <use xlink:href=\"#DejaVuSans-20\" x=\"263.085938\"/>\n      <use xlink:href=\"#DejaVuSans-30\" x=\"294.873047\"/>\n     </g>\n    </g>\n    <g id=\"PathCollection_4\">\n     <g>\n      <use xlink:href=\"#m1af065af44\" x=\"213.091562\" y=\"141.418906\" style=\"fill: #dd8452; stroke: #333333\"/>\n     </g>\n    </g>\n    <g id=\"text_16\">\n     <!-- Class 1 -->\n     <g style=\"fill: #262626\" transform=\"translate(232.891562 144.306406) scale(0.11 -0.11)\">\n      <use xlink:href=\"#DejaVuSans-43\"/>\n      <use xlink:href=\"#DejaVuSans-6c\" x=\"69.824219\"/>\n      <use xlink:href=\"#DejaVuSans-61\" x=\"97.607422\"/>\n      <use xlink:href=\"#DejaVuSans-73\" x=\"158.886719\"/>\n      <use xlink:href=\"#DejaVuSans-73\" x=\"210.986328\"/>\n      <use xlink:href=\"#DejaVuSans-20\" x=\"263.085938\"/>\n      <use xlink:href=\"#DejaVuSans-31\" x=\"294.873047\"/>\n     </g>\n    </g>\n   </g>\n  </g>\n </g>\n <defs>\n  <clipPath id=\"p7cbcc3d530\">\n   <rect x=\"59.024844\" y=\"22.318125\" width=\"223.2\" height=\"221.76\"/>\n  </clipPath>\n </defs>\n</svg>\n",
            "application/pdf": "[encoded data removed]"
          },
          "metadata": {}
        }
      ],
      "source": [
        "visualize_samples(dataset.data, dataset.label)\n",
        "plt.show()"
      ]
    },
    {
      "cell_type": "markdown",
      "metadata": {
        "id": "NJZyTE7i6ELY"
      },
      "source": [
        "#### The data loader class\n",
        "\n",
        "The class `torch.utils.data.DataLoader` represents a Python iterable over a dataset with support for automatic batching, multi-process data loading and many more features. The data loader communicates with the dataset using the function `__getitem__`, and stacks its outputs as tensors over the first dimension to form a batch.\n",
        "In contrast to the dataset class, we usually don't have to define our own data loader class, but can just create an object of it with the dataset as input. Additionally, we can configure our data loader with the following input arguments (only a selection, see full list [here](https://pytorch.org/docs/stable/data.html#torch.utils.data.DataLoader)):\n",
        "\n",
        "* `batch_size`: Number of samples to stack per batch\n",
        "* `shuffle`: If True, the data is returned in a random order. This is important during training for introducing stochasticity.\n",
        "* `num_workers`: Number of subprocesses to use for data loading. The default, 0, means that the data will be loaded in the main process which can slow down training for datasets where loading a data point takes a considerable amount of time (e.g. large images). More workers are recommended for those, but can cause issues on Windows computers. For tiny datasets as ours, 0 workers are usually faster.\n",
        "* `pin_memory`: If True, the data loader will copy Tensors into CUDA pinned memory before returning them. This can save some time for large data points on GPUs. Usually a good practice to use for a training set, but not necessarily for validation and test to save memory on the GPU.\n",
        "* `drop_last`: If True, the last batch is dropped in case it is smaller than the specified batch size. This occurs when the dataset size is not a multiple of the batch size. Only potentially helpful during training to keep a consistent batch size.\n",
        "\n",
        "Let's create a simple data loader below:"
      ]
    },
    {
      "cell_type": "code",
      "execution_count": null,
      "metadata": {
        "id": "5w6EBLAe6ELY"
      },
      "outputs": [],
      "source": [
        "data_loader = data.DataLoader(dataset, batch_size=8, shuffle=True)"
      ]
    },
    {
      "cell_type": "code",
      "execution_count": null,
      "metadata": {
        "id": "Gnx4qUL-6ELY",
        "outputId": "35690ad7-6a4b-4dcd-87b3-90e33c3f79b5",
        "colab": {
          "base_uri": "https://localhost:8080/"
        }
      },
      "outputs": [
        {
          "output_type": "stream",
          "name": "stdout",
          "text": [
            "Data inputs torch.Size([8, 2]) \n",
            " tensor([[-0.0890,  0.8608],\n",
            "        [ 1.0905, -0.0128],\n",
            "        [ 0.7967,  0.2268],\n",
            "        [-0.0688,  0.0371],\n",
            "        [ 0.8732, -0.2240],\n",
            "        [-0.0559, -0.0282],\n",
            "        [ 0.9277,  0.0978],\n",
            "        [ 1.0150,  0.9689]])\n",
            "Data labels torch.Size([8]) \n",
            " tensor([1, 1, 1, 0, 1, 0, 1, 0])\n"
          ]
        }
      ],
      "source": [
        "# next(iter(...)) catches the first batch of the data loader\n",
        "# If shuffle is True, this will return a different batch every time we run this cell\n",
        "# For iterating over the whole dataset, we can simple use \"for batch in data_loader: ...\"\n",
        "data_inputs, data_labels = next(iter(data_loader))\n",
        "\n",
        "# The shape of the outputs are [batch_size, d_1,...,d_N] where d_1,...,d_N are the\n",
        "# dimensions of the data point returned from the dataset class\n",
        "print(\"Data inputs\", data_inputs.shape, \"\\n\", data_inputs)\n",
        "print(\"Data labels\", data_labels.shape, \"\\n\", data_labels)"
      ]
    },
    {
      "cell_type": "markdown",
      "metadata": {
        "id": "7QF-VppR6ELZ"
      },
      "source": [
        "### Optimization\n",
        "\n",
        "After defining the model and the dataset, it is time to prepare the optimization of the model. During training, we will perform the following steps:\n",
        "\n",
        "1. Get a batch from the data loader\n",
        "2. Obtain the predictions from the model for the batch\n",
        "3. Calculate the loss based on the difference between predictions and labels\n",
        "4. Backpropagation: calculate the gradients for every parameter with respect to the loss\n",
        "5. Update the parameters of the model in the direction of the gradients\n",
        "\n",
        "We have seen how we can do step 1, 2 and 4 in PyTorch. Now, we will look at step 3 and 5."
      ]
    },
    {
      "cell_type": "markdown",
      "metadata": {
        "id": "ZcwzzDGl6ELZ"
      },
      "source": [
        "#### Loss modules\n",
        "\n",
        "We can calculate the loss for a batch by simply performing a few tensor operations as those are automatically added to the computation graph. For instance, for binary classification, we can use Binary Cross Entropy (BCE) which is defined as follows:\n",
        "\n",
        "$${L}_{BCE} = -\\sum_i \\left[ y_i \\log x_i + (1 - y_i) \\log (1 - x_i) \\right]$$\n",
        "\n",
        "where $y$ are our labels, and $x$ our predictions, both in the range of $[0,1]$. However, PyTorch already provides a list of predefined loss functions which we can use (see [here](https://pytorch.org/docs/stable/nn.html#loss-functions) for a full list). For instance, for BCE, PyTorch has two modules: `nn.BCELoss()`, `nn.BCEWithLogitsLoss()`. While `nn.BCELoss` expects the inputs $x$ to be in the range $[0,1]$, i.e. the output of a sigmoid, `nn.BCEWithLogitsLoss` combines a sigmoid layer and the BCE loss in a single class. This version is numerically more stable than using a plain Sigmoid followed by a BCE loss because of the logarithms applied in the loss function. Hence, it is adviced to use loss functions applied on \"logits\" where possible (remember to not apply a sigmoid on the output of the model in this case!). For our model defined above, we therefore use the module `nn.BCEWithLogitsLoss`."
      ]
    },
    {
      "cell_type": "code",
      "execution_count": null,
      "metadata": {
        "id": "ZJWNHxXf6ELZ"
      },
      "outputs": [],
      "source": [
        "loss_module = nn.BCEWithLogitsLoss()"
      ]
    },
    {
      "cell_type": "markdown",
      "metadata": {
        "id": "vZA7JLtc6ELZ"
      },
      "source": [
        "#### Stochastic Gradient Descent\n",
        "\n",
        "For updating the parameters, PyTorch provides the package `torch.optim` that has most popular optimizers implemented. We will discuss the specific optimizers and their differences later in the course, but will for now use the simplest of them: `torch.optim.SGD`. Stochastic Gradient Descent updates parameters by multiplying the gradients with a small constant, called learning rate, and subtracting those from the parameters (hence minimizing the loss). Therefore, we slowly move towards the direction of minimizing the loss. A good default value of the learning rate for a small network as ours is 0.1."
      ]
    },
    {
      "cell_type": "code",
      "execution_count": null,
      "metadata": {
        "id": "3zEiOqQb6ELZ"
      },
      "outputs": [],
      "source": [
        "# Input to the optimizer are the parameters of the model: model.parameters()\n",
        "optimizer = torch.optim.SGD(model.parameters(), lr=0.1)"
      ]
    },
    {
      "cell_type": "markdown",
      "metadata": {
        "id": "35t6s0m26ELZ"
      },
      "source": [
        "The optimizer provides two useful functions: `optimizer.step()`, and `optimizer.zero_grad()`. The step function updates the parameters based on the gradients as explained above. The function `optimizer.zero_grad()` sets the gradients of all parameters to zero. While this function seems less relevant at first, it is a crucial pre-step before performing backpropagation. If we call the `backward` function on the loss while the parameter gradients are non-zero from the previous batch, the new gradients would actually be added to the previous ones instead of overwriting them. This is done because a parameter might occur multiple times in a computation graph, and we need to sum the gradients in this case instead of replacing them. Hence, remember to call `optimizer.zero_grad()` before calculating the gradients of a batch."
      ]
    },
    {
      "cell_type": "markdown",
      "metadata": {
        "id": "HAlP7c7-6ELZ"
      },
      "source": [
        "### Training\n",
        "\n",
        "Finally, we are ready to train our model. As a first step, we create a slightly larger dataset and specify a data loader with a larger batch size."
      ]
    },
    {
      "cell_type": "code",
      "execution_count": null,
      "metadata": {
        "id": "LO6utiSi6ELa"
      },
      "outputs": [],
      "source": [
        "train_dataset = XORDataset(size=2500)\n",
        "train_data_loader = data.DataLoader(train_dataset, batch_size=128, shuffle=True)"
      ]
    },
    {
      "cell_type": "markdown",
      "metadata": {
        "id": "bwK-FLWG6ELa"
      },
      "source": [
        "Now, we can write a small training function. Remember our five steps: load a batch, obtain the predictions, calculate the loss, backpropagate, and update. Additionally, we have to push all data and model parameters to the device of our choice (GPU if available). For the tiny neural network we have, communicating the data to the GPU actually takes much more time than we could save from running the operation on CPU. For large networks, the communication time is significantly smaller than the actual runtime making a GPU crucial in these cases. Still, to practice, we will push the data to GPU here."
      ]
    },
    {
      "cell_type": "code",
      "source": [
        "device = 'cpu'"
      ],
      "metadata": {
        "id": "wfkvYm-Nvbhv"
      },
      "execution_count": null,
      "outputs": []
    },
    {
      "cell_type": "code",
      "execution_count": null,
      "metadata": {
        "id": "097yZ4TG6ELa",
        "outputId": "8deb62c0-593f-4a7d-c9c4-080230d86850",
        "colab": {
          "base_uri": "https://localhost:8080/"
        }
      },
      "outputs": [
        {
          "output_type": "execute_result",
          "data": {
            "text/plain": [
              "SimpleClassifier(\n",
              "  (linear1): Linear(in_features=2, out_features=4, bias=True)\n",
              "  (act_fn): Tanh()\n",
              "  (linear2): Linear(in_features=4, out_features=1, bias=True)\n",
              ")"
            ]
          },
          "metadata": {},
          "execution_count": 66
        }
      ],
      "source": [
        "# Push model to device. Has to be only done once\n",
        "model.to(device)"
      ]
    },
    {
      "cell_type": "markdown",
      "metadata": {
        "id": "iMunGn8r6ELa"
      },
      "source": [
        "In addition, we set our model to training mode. This is done by calling `model.train()`. There exist certain modules that need to perform a different forward step during training than during testing (e.g. BatchNorm and Dropout), and we can switch between them using `model.train()` and `model.eval()`."
      ]
    },
    {
      "cell_type": "code",
      "execution_count": null,
      "metadata": {
        "id": "q0AK5vqh6ELa"
      },
      "outputs": [],
      "source": [
        "def train_model(model, optimizer, data_loader, loss_module, num_epochs=100):\n",
        "    # Set model to train mode\n",
        "    model.train()\n",
        "\n",
        "    # Training loop\n",
        "    for epoch in tqdm(range(num_epochs)):\n",
        "        for data_inputs, data_labels in data_loader:\n",
        "\n",
        "            ## Step 1: Move input data to device (only strictly necessary if we use GPU)\n",
        "            data_inputs = data_inputs.to(device)\n",
        "            data_labels = data_labels.to(device)\n",
        "\n",
        "            ## Step 2: Run the model on the input data\n",
        "            preds = model(data_inputs)\n",
        "            preds = preds.squeeze(dim=1) # Output is [Batch size, 1], but we want [Batch size]\n",
        "\n",
        "            ## Step 3: Calculate the loss\n",
        "            loss = loss_module(preds, data_labels.float())\n",
        "\n",
        "            ## Step 4: Perform backpropagation\n",
        "            # Before calculating the gradients, we need to ensure that they are all zero.\n",
        "            # The gradients would not be overwritten, but actually added to the existing ones.\n",
        "            optimizer.zero_grad()\n",
        "            # Perform backpropagation\n",
        "            loss.backward()\n",
        "\n",
        "            ## Step 5: Update the parameters\n",
        "            optimizer.step()"
      ]
    },
    {
      "cell_type": "code",
      "execution_count": null,
      "metadata": {
        "id": "iCQp_DCF6ELa",
        "outputId": "f20a1232-d067-45a1-a748-830448331145",
        "colab": {
          "referenced_widgets": [
            "0a0590bb9ef94600bf9c2678ac541d48",
            "b8cdc7e44d77448ab77f1f8010cbb1e0",
            "0f7597a44c47437090cbd7d06cfda1b3",
            "12b301c67f714a4cb3fdf32ea84f3afd",
            "4fc0885dd68b44cf92b9e044b477bdda",
            "08f0700609fa4d20973ac72d8b2b4ce5",
            "172815f437ce4db992098bd600a11334",
            "2fd9d3e292464656a06b22492ce16db9",
            "a35add37716549228f0a6789027cabf3",
            "38acd31257d045fcaec77f77e3d7d6ef",
            "7668ad28accb4ebca9af976d51ddf72d"
          ],
          "base_uri": "https://localhost:8080/",
          "height": 49
        }
      },
      "outputs": [
        {
          "output_type": "display_data",
          "data": {
            "text/plain": [
              "  0%|          | 0/100 [00:00<?, ?it/s]"
            ],
            "application/vnd.jupyter.widget-view+json": {
              "version_major": 2,
              "version_minor": 0,
              "model_id": "0a0590bb9ef94600bf9c2678ac541d48"
            }
          },
          "metadata": {}
        }
      ],
      "source": [
        "train_model(model, optimizer, train_data_loader, loss_module)"
      ]
    },
    {
      "cell_type": "markdown",
      "metadata": {
        "id": "iQg_-WRU6ELa"
      },
      "source": [
        "#### Saving a model\n",
        "\n",
        "After finish training a model, we save the model to disk so that we can load the same weights at a later time. For this, we extract the so-called `state_dict` from the model which contains all learnable parameters. For our simple model, the state dict contains the following entries:"
      ]
    },
    {
      "cell_type": "code",
      "execution_count": null,
      "metadata": {
        "id": "MYAMyKai6ELb",
        "outputId": "78a4e2a5-467b-4d17-9213-57587b0e85ab",
        "colab": {
          "base_uri": "https://localhost:8080/"
        }
      },
      "outputs": [
        {
          "output_type": "stream",
          "name": "stdout",
          "text": [
            "OrderedDict([('linear2.weight', tensor([[-2.4238,  3.2937,  3.8375, -4.1532]])), ('linear2.bias', tensor([-0.3135])), ('linear1.weight', tensor([[-1.1731,  2.0036],\n",
            "        [-1.0788, -1.9593],\n",
            "        [-3.0123,  2.5301],\n",
            "        [-2.9889, -2.5657]])), ('linear1.bias', tensor([ 0.3978,  2.2009, -1.3672,  1.1519]))])\n"
          ]
        }
      ],
      "source": [
        "state_dict = model.state_dict()\n",
        "print(state_dict)"
      ]
    },
    {
      "cell_type": "markdown",
      "metadata": {
        "id": "L1VGCOm46ELb"
      },
      "source": [
        "To save the state dictionary, we can use `torch.save`:"
      ]
    },
    {
      "cell_type": "code",
      "execution_count": null,
      "metadata": {
        "id": "J3D2L8Md6ELb"
      },
      "outputs": [],
      "source": [
        "# torch.save(object, filename). For the filename, any extension can be used\n",
        "torch.save(state_dict, \"our_model.tar\")"
      ]
    },
    {
      "cell_type": "markdown",
      "metadata": {
        "id": "I_34xFoa6ELb"
      },
      "source": [
        "To load a model from a state dict, we use the function `torch.load` to load the state dict from the disk, and the module function `load_state_dict` to overwrite our parameters with the new values:"
      ]
    },
    {
      "cell_type": "code",
      "execution_count": null,
      "metadata": {
        "id": "RUmwU4bl6ELb",
        "outputId": "0557d5c0-8327-48cb-dddc-ff56ec6f7239",
        "colab": {
          "base_uri": "https://localhost:8080/"
        }
      },
      "outputs": [
        {
          "output_type": "stream",
          "name": "stdout",
          "text": [
            "Original model\n",
            " OrderedDict([('linear2.weight', tensor([[-2.4238,  3.2937,  3.8375, -4.1532]])), ('linear2.bias', tensor([-0.3135])), ('linear1.weight', tensor([[-1.1731,  2.0036],\n",
            "        [-1.0788, -1.9593],\n",
            "        [-3.0123,  2.5301],\n",
            "        [-2.9889, -2.5657]])), ('linear1.bias', tensor([ 0.3978,  2.2009, -1.3672,  1.1519]))])\n",
            "\n",
            "Loaded model\n",
            " OrderedDict([('linear2.weight', tensor([[-2.4238,  3.2937,  3.8375, -4.1532]])), ('linear2.bias', tensor([-0.3135])), ('linear1.weight', tensor([[-1.1731,  2.0036],\n",
            "        [-1.0788, -1.9593],\n",
            "        [-3.0123,  2.5301],\n",
            "        [-2.9889, -2.5657]])), ('linear1.bias', tensor([ 0.3978,  2.2009, -1.3672,  1.1519]))])\n"
          ]
        },
        {
          "output_type": "stream",
          "name": "stderr",
          "text": [
            "<ipython-input-58-9b8ea49100fa>:2: FutureWarning: You are using `torch.load` with `weights_only=False` (the current default value), which uses the default pickle module implicitly. It is possible to construct malicious pickle data which will execute arbitrary code during unpickling (See https://github.com/pytorch/pytorch/blob/main/SECURITY.md#untrusted-models for more details). In a future release, the default value for `weights_only` will be flipped to `True`. This limits the functions that could be executed during unpickling. Arbitrary objects will no longer be allowed to be loaded via this mode unless they are explicitly allowlisted by the user via `torch.serialization.add_safe_globals`. We recommend you start setting `weights_only=True` for any use case where you don't have full control of the loaded file. Please open an issue on GitHub for any issues related to this experimental feature.\n",
            "  state_dict = torch.load(\"our_model.tar\")\n"
          ]
        }
      ],
      "source": [
        "# Load state dict from the disk (make sure it is the same name as above)\n",
        "state_dict = torch.load(\"our_model.tar\")\n",
        "\n",
        "# Create a new model and load the state\n",
        "new_model = SimpleClassifier(num_inputs=2, num_hidden=4, num_outputs=1)\n",
        "new_model.load_state_dict(state_dict)\n",
        "\n",
        "# Verify that the parameters are the same\n",
        "print(\"Original model\\n\", model.state_dict())\n",
        "print(\"\\nLoaded model\\n\", new_model.state_dict())"
      ]
    },
    {
      "cell_type": "markdown",
      "metadata": {
        "id": "bW_ekay26ELc"
      },
      "source": [
        "A detailed tutorial on saving and loading models in PyTorch can be found [here](https://pytorch.org/tutorials/beginner/saving_loading_models.html)."
      ]
    },
    {
      "cell_type": "markdown",
      "metadata": {
        "id": "cjKThR5_6ELc"
      },
      "source": [
        "### Evaluation\n",
        "\n",
        "Once we have trained a model, it is time to evaluate it on a held-out test set. As our dataset consist of randomly generated data points, we need to first create a test set with a corresponding data loader."
      ]
    },
    {
      "cell_type": "code",
      "execution_count": null,
      "metadata": {
        "id": "J_si0SZ46ELc"
      },
      "outputs": [],
      "source": [
        "test_dataset = XORDataset(size=500)\n",
        "# drop_last -> Don't drop the last batch although it is smaller than 128\n",
        "test_data_loader = data.DataLoader(test_dataset, batch_size=128, shuffle=False, drop_last=False)"
      ]
    },
    {
      "cell_type": "markdown",
      "metadata": {
        "id": "Ls3pcziK6ELc"
      },
      "source": [
        "As metric, we will use accuracy which is calculated as follows:\n",
        "\n",
        "$$acc = \\frac{\\#\\text{correct predictions}}{\\#\\text{all predictions}} $$\n",
        "\n",
        "\n",
        "\n",
        "When evaluating the model, we don't need to keep track of the computation graph as we don't intend to calculate the gradients. This reduces the required memory and speed up the model. In PyTorch, we can deactivate the computation graph using `with torch.no_grad(): ...`. Remember to additionally set the model to eval mode."
      ]
    },
    {
      "cell_type": "code",
      "execution_count": null,
      "metadata": {
        "id": "30uxFDeV6ELc"
      },
      "outputs": [],
      "source": [
        "def eval_model(model, data_loader):\n",
        "    model.eval() # Set model to eval mode\n",
        "    true_preds, num_preds = 0., 0.\n",
        "\n",
        "    with torch.no_grad(): # Deactivate gradients for the following code\n",
        "        for data_inputs, data_labels in data_loader:\n",
        "\n",
        "            # Determine prediction of model on dev set\n",
        "            data_inputs, data_labels = data_inputs.to(device), data_labels.to(device)\n",
        "            preds = model(data_inputs)\n",
        "            preds = preds.squeeze(dim=1)\n",
        "            preds = torch.sigmoid(preds) # Sigmoid to map predictions between 0 and 1\n",
        "            pred_labels = (preds >= 0.5).long() # Binarize predictions to 0 and 1\n",
        "\n",
        "            # Keep records of predictions for the accuracy metric\n",
        "            true_preds += (pred_labels == data_labels).sum()\n",
        "            num_preds += data_labels.shape[0]\n",
        "\n",
        "    acc = true_preds / num_preds\n",
        "    print(f\"Accuracy of the model: {100.0*acc:4.2f}%\")"
      ]
    },
    {
      "cell_type": "code",
      "execution_count": null,
      "metadata": {
        "id": "J1U5TCWD6ELc",
        "outputId": "c53742b4-9dac-406a-e820-ca484dd4467e",
        "colab": {
          "base_uri": "https://localhost:8080/"
        }
      },
      "outputs": [
        {
          "output_type": "stream",
          "name": "stdout",
          "text": [
            "Accuracy of the model: 100.00%\n"
          ]
        }
      ],
      "source": [
        "eval_model(model, test_data_loader)"
      ]
    },
    {
      "cell_type": "markdown",
      "metadata": {
        "id": "mlXi0w--6ELd"
      },
      "source": [
        "If we trained our model correctly, we should see a score close to 100% accuracy. However, this is only possible because of our simple task, and unfortunately, we usually don't get such high scores on test sets of more complex tasks."
      ]
    },
    {
      "cell_type": "markdown",
      "metadata": {
        "id": "C1ZE46_K6ELd"
      },
      "source": [
        "#### Visualizing classification boundaries\n",
        "\n",
        "To visualize what our model has learned, we can perform a prediction for every data point in a range of $[-0.5, 1.5]$, and visualize the predicted class as in the sample figure at the beginning of this section. This shows where the model has created decision boundaries, and which points would be classified as $0$, and which as $1$. We therefore get a background image out of blue (class 0) and orange (class 1). The spots where the model is uncertain we will see a blurry overlap. The specific code is less relevant compared to the output figure which should hopefully show us a clear separation of classes:"
      ]
    },
    {
      "cell_type": "code",
      "execution_count": null,
      "metadata": {
        "id": "_W-MnuDW6ELd",
        "outputId": "1af0bbdb-60cc-4998-dd21-49c9baa5f651",
        "colab": {
          "base_uri": "https://localhost:8080/",
          "height": 439
        }
      },
      "outputs": [
        {
          "output_type": "stream",
          "name": "stdout",
          "text": [
            "torch.Size([200, 200, 1])\n",
            "torch.Size([200, 200, 4])\n"
          ]
        },
        {
          "output_type": "display_data",
          "data": {
            "text/plain": [
              "<Figure size 2000x2000 with 1 Axes>"
            ],
            "image/svg+xml": "<?xml version=\"1.0\" encoding=\"utf-8\" standalone=\"no\"?>\n<!DOCTYPE svg PUBLIC \"-//W3C//DTD SVG 1.1//EN\"\n  \"http://www.w3.org/Graphics/SVG/1.1/DTD/svg11.dtd\">\n<svg xmlns:xlink=\"http://www.w3.org/1999/xlink\" width=\"303.730313pt\" height=\"287.037813pt\" viewBox=\"0 0 303.730313 287.037813\" xmlns=\"http://www.w3.org/2000/svg\" version=\"1.1\">\n <metadata>\n  <rdf:RDF xmlns:dc=\"http://purl.org/dc/elements/1.1/\" xmlns:cc=\"http://creativecommons.org/ns#\" xmlns:rdf=\"http://www.w3.org/1999/02/22-rdf-syntax-ns#\">\n   <cc:Work>\n    <dc:type rdf:resource=\"http://purl.org/dc/dcmitype/StillImage\"/>\n    <dc:date>2024-12-04T09:57:40.514066</dc:date>\n    <dc:format>image/svg+xml</dc:format>\n    <dc:creator>\n     <cc:Agent>\n      <dc:title>Matplotlib v3.8.0, https://matplotlib.org/</dc:title>\n     </cc:Agent>\n    </dc:creator>\n   </cc:Work>\n  </rdf:RDF>\n </metadata>\n <defs>\n  <style type=\"text/css\">*{stroke-linejoin: round; stroke-linecap: butt}</style>\n </defs>\n <g id=\"figure_1\">\n  <g id=\"patch_1\">\n   <path d=\"M 0 287.037813 \nL 303.730313 287.037813 \nL 303.730313 0 \nL 0 0 \nz\n\" style=\"fill: #ffffff\"/>\n  </g>\n  <g id=\"axes_1\">\n   <g id=\"patch_2\">\n    <path d=\"M 66.023594 244.078125 \nL 287.783594 244.078125 \nL 287.783594 22.318125 \nL 66.023594 22.318125 \nz\n\" style=\"fill: #eaeaf2\"/>\n   </g>\n   <g clip-path=\"url(#p5b2c1312d5)\">\n    <image xlink:href=\"data:image/png;base64,\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\" id=\"image6f399dc812\" transform=\"scale(1 -1) translate(0 -221.904)\" x=\"66.023594\" y=\"-22.174125\" width=\"221.904\" height=\"221.904\"/>\n   </g>\n   <g id=\"matplotlib.axis_1\">\n    <g id=\"xtick_1\">\n     <g id=\"text_1\">\n      <!-- −0.5 -->\n      <g style=\"fill: #262626\" transform=\"translate(52.668047 261.936406) scale(0.11 -0.11)\">\n       <defs>\n        <path id=\"DejaVuSans-2212\" d=\"M 678 2272 \nL 4684 2272 \nL 4684 1741 \nL 678 1741 \nL 678 2272 \nz\n\" transform=\"scale(0.015625)\"/>\n        <path id=\"DejaVuSans-30\" d=\"M 2034 4250 \nQ 1547 4250 1301 3770 \nQ 1056 3291 1056 2328 \nQ 1056 1369 1301 889 \nQ 1547 409 2034 409 \nQ 2525 409 2770 889 \nQ 3016 1369 3016 2328 \nQ 3016 3291 2770 3770 \nQ 2525 4250 2034 4250 \nz\nM 2034 4750 \nQ 2819 4750 3233 4129 \nQ 3647 3509 3647 2328 \nQ 3647 1150 3233 529 \nQ 2819 -91 2034 -91 \nQ 1250 -91 836 529 \nQ 422 1150 422 2328 \nQ 422 3509 836 4129 \nQ 1250 4750 2034 4750 \nz\n\" transform=\"scale(0.015625)\"/>\n        <path id=\"DejaVuSans-2e\" d=\"M 684 794 \nL 1344 794 \nL 1344 0 \nL 684 0 \nL 684 794 \nz\n\" transform=\"scale(0.015625)\"/>\n        <path id=\"DejaVuSans-35\" d=\"M 691 4666 \nL 3169 4666 \nL 3169 4134 \nL 1269 4134 \nL 1269 2991 \nQ 1406 3038 1543 3061 \nQ 1681 3084 1819 3084 \nQ 2600 3084 3056 2656 \nQ 3513 2228 3513 1497 \nQ 3513 744 3044 326 \nQ 2575 -91 1722 -91 \nQ 1428 -91 1123 -41 \nQ 819 9 494 109 \nL 494 744 \nQ 775 591 1075 516 \nQ 1375 441 1709 441 \nQ 2250 441 2565 725 \nQ 2881 1009 2881 1497 \nQ 2881 1984 2565 2268 \nQ 2250 2553 1709 2553 \nQ 1456 2553 1204 2497 \nQ 953 2441 691 2322 \nL 691 4666 \nz\n\" transform=\"scale(0.015625)\"/>\n       </defs>\n       <use xlink:href=\"#DejaVuSans-2212\"/>\n       <use xlink:href=\"#DejaVuSans-30\" x=\"83.789062\"/>\n       <use xlink:href=\"#DejaVuSans-2e\" x=\"147.412109\"/>\n       <use xlink:href=\"#DejaVuSans-35\" x=\"179.199219\"/>\n      </g>\n     </g>\n    </g>\n    <g id=\"xtick_2\">\n     <g id=\"text_2\">\n      <!-- 0.0 -->\n      <g style=\"fill: #262626\" transform=\"translate(112.716875 261.936406) scale(0.11 -0.11)\">\n       <use xlink:href=\"#DejaVuSans-30\"/>\n       <use xlink:href=\"#DejaVuSans-2e\" x=\"63.623047\"/>\n       <use xlink:href=\"#DejaVuSans-30\" x=\"95.410156\"/>\n      </g>\n     </g>\n    </g>\n    <g id=\"xtick_3\">\n     <g id=\"text_3\">\n      <!-- 0.5 -->\n      <g style=\"fill: #262626\" transform=\"translate(168.156875 261.936406) scale(0.11 -0.11)\">\n       <use xlink:href=\"#DejaVuSans-30\"/>\n       <use xlink:href=\"#DejaVuSans-2e\" x=\"63.623047\"/>\n       <use xlink:href=\"#DejaVuSans-35\" x=\"95.410156\"/>\n      </g>\n     </g>\n    </g>\n    <g id=\"xtick_4\">\n     <g id=\"text_4\">\n      <!-- 1.0 -->\n      <g style=\"fill: #262626\" transform=\"translate(223.596875 261.936406) scale(0.11 -0.11)\">\n       <defs>\n        <path id=\"DejaVuSans-31\" d=\"M 794 531 \nL 1825 531 \nL 1825 4091 \nL 703 3866 \nL 703 4441 \nL 1819 4666 \nL 2450 4666 \nL 2450 531 \nL 3481 531 \nL 3481 0 \nL 794 0 \nL 794 531 \nz\n\" transform=\"scale(0.015625)\"/>\n       </defs>\n       <use xlink:href=\"#DejaVuSans-31\"/>\n       <use xlink:href=\"#DejaVuSans-2e\" x=\"63.623047\"/>\n       <use xlink:href=\"#DejaVuSans-30\" x=\"95.410156\"/>\n      </g>\n     </g>\n    </g>\n    <g id=\"xtick_5\">\n     <g id=\"text_5\">\n      <!-- 1.5 -->\n      <g style=\"fill: #262626\" transform=\"translate(279.036875 261.936406) scale(0.11 -0.11)\">\n       <use xlink:href=\"#DejaVuSans-31\"/>\n       <use xlink:href=\"#DejaVuSans-2e\" x=\"63.623047\"/>\n       <use xlink:href=\"#DejaVuSans-35\" x=\"95.410156\"/>\n      </g>\n     </g>\n    </g>\n    <g id=\"text_6\">\n     <!-- $x_1$ -->\n     <g style=\"fill: #262626\" transform=\"translate(170.483594 277.342188) scale(0.12 -0.12)\">\n      <defs>\n       <path id=\"DejaVuSans-Oblique-78\" d=\"M 3841 3500 \nL 2234 1784 \nL 3219 0 \nL 2559 0 \nL 1819 1388 \nL 531 0 \nL -166 0 \nL 1556 1844 \nL 641 3500 \nL 1300 3500 \nL 1972 2234 \nL 3144 3500 \nL 3841 3500 \nz\n\" transform=\"scale(0.015625)\"/>\n      </defs>\n      <use xlink:href=\"#DejaVuSans-Oblique-78\" transform=\"translate(0 0.3125)\"/>\n      <use xlink:href=\"#DejaVuSans-31\" transform=\"translate(59.179688 -16.09375) scale(0.7)\"/>\n     </g>\n    </g>\n   </g>\n   <g id=\"matplotlib.axis_2\">\n    <g id=\"ytick_1\">\n     <g id=\"text_7\">\n      <!-- −0.50 -->\n      <g style=\"fill: #262626\" transform=\"translate(22.81375 248.257266) scale(0.11 -0.11)\">\n       <use xlink:href=\"#DejaVuSans-2212\"/>\n       <use xlink:href=\"#DejaVuSans-30\" x=\"83.789062\"/>\n       <use xlink:href=\"#DejaVuSans-2e\" x=\"147.412109\"/>\n       <use xlink:href=\"#DejaVuSans-35\" x=\"179.199219\"/>\n       <use xlink:href=\"#DejaVuSans-30\" x=\"242.822266\"/>\n      </g>\n     </g>\n    </g>\n    <g id=\"ytick_2\">\n     <g id=\"text_8\">\n      <!-- −0.25 -->\n      <g style=\"fill: #262626\" transform=\"translate(22.81375 220.537266) scale(0.11 -0.11)\">\n       <defs>\n        <path id=\"DejaVuSans-32\" d=\"M 1228 531 \nL 3431 531 \nL 3431 0 \nL 469 0 \nL 469 531 \nQ 828 903 1448 1529 \nQ 2069 2156 2228 2338 \nQ 2531 2678 2651 2914 \nQ 2772 3150 2772 3378 \nQ 2772 3750 2511 3984 \nQ 2250 4219 1831 4219 \nQ 1534 4219 1204 4116 \nQ 875 4013 500 3803 \nL 500 4441 \nQ 881 4594 1212 4672 \nQ 1544 4750 1819 4750 \nQ 2544 4750 2975 4387 \nQ 3406 4025 3406 3419 \nQ 3406 3131 3298 2873 \nQ 3191 2616 2906 2266 \nQ 2828 2175 2409 1742 \nQ 1991 1309 1228 531 \nz\n\" transform=\"scale(0.015625)\"/>\n       </defs>\n       <use xlink:href=\"#DejaVuSans-2212\"/>\n       <use xlink:href=\"#DejaVuSans-30\" x=\"83.789062\"/>\n       <use xlink:href=\"#DejaVuSans-2e\" x=\"147.412109\"/>\n       <use xlink:href=\"#DejaVuSans-32\" x=\"179.199219\"/>\n       <use xlink:href=\"#DejaVuSans-35\" x=\"242.822266\"/>\n      </g>\n     </g>\n    </g>\n    <g id=\"ytick_3\">\n     <g id=\"text_9\">\n      <!-- 0.00 -->\n      <g style=\"fill: #262626\" transform=\"translate(32.031406 192.817266) scale(0.11 -0.11)\">\n       <use xlink:href=\"#DejaVuSans-30\"/>\n       <use xlink:href=\"#DejaVuSans-2e\" x=\"63.623047\"/>\n       <use xlink:href=\"#DejaVuSans-30\" x=\"95.410156\"/>\n       <use xlink:href=\"#DejaVuSans-30\" x=\"159.033203\"/>\n      </g>\n     </g>\n    </g>\n    <g id=\"ytick_4\">\n     <g id=\"text_10\">\n      <!-- 0.25 -->\n      <g style=\"fill: #262626\" transform=\"translate(32.031406 165.097266) scale(0.11 -0.11)\">\n       <use xlink:href=\"#DejaVuSans-30\"/>\n       <use xlink:href=\"#DejaVuSans-2e\" x=\"63.623047\"/>\n       <use xlink:href=\"#DejaVuSans-32\" x=\"95.410156\"/>\n       <use xlink:href=\"#DejaVuSans-35\" x=\"159.033203\"/>\n      </g>\n     </g>\n    </g>\n    <g id=\"ytick_5\">\n     <g id=\"text_11\">\n      <!-- 0.50 -->\n      <g style=\"fill: #262626\" transform=\"translate(32.031406 137.377266) scale(0.11 -0.11)\">\n       <use xlink:href=\"#DejaVuSans-30\"/>\n       <use xlink:href=\"#DejaVuSans-2e\" x=\"63.623047\"/>\n       <use xlink:href=\"#DejaVuSans-35\" x=\"95.410156\"/>\n       <use xlink:href=\"#DejaVuSans-30\" x=\"159.033203\"/>\n      </g>\n     </g>\n    </g>\n    <g id=\"ytick_6\">\n     <g id=\"text_12\">\n      <!-- 0.75 -->\n      <g style=\"fill: #262626\" transform=\"translate(32.031406 109.657266) scale(0.11 -0.11)\">\n       <defs>\n        <path id=\"DejaVuSans-37\" d=\"M 525 4666 \nL 3525 4666 \nL 3525 4397 \nL 1831 0 \nL 1172 0 \nL 2766 4134 \nL 525 4134 \nL 525 4666 \nz\n\" transform=\"scale(0.015625)\"/>\n       </defs>\n       <use xlink:href=\"#DejaVuSans-30\"/>\n       <use xlink:href=\"#DejaVuSans-2e\" x=\"63.623047\"/>\n       <use xlink:href=\"#DejaVuSans-37\" x=\"95.410156\"/>\n       <use xlink:href=\"#DejaVuSans-35\" x=\"159.033203\"/>\n      </g>\n     </g>\n    </g>\n    <g id=\"ytick_7\">\n     <g id=\"text_13\">\n      <!-- 1.00 -->\n      <g style=\"fill: #262626\" transform=\"translate(32.031406 81.937266) scale(0.11 -0.11)\">\n       <use xlink:href=\"#DejaVuSans-31\"/>\n       <use xlink:href=\"#DejaVuSans-2e\" x=\"63.623047\"/>\n       <use xlink:href=\"#DejaVuSans-30\" x=\"95.410156\"/>\n       <use xlink:href=\"#DejaVuSans-30\" x=\"159.033203\"/>\n      </g>\n     </g>\n    </g>\n    <g id=\"ytick_8\">\n     <g id=\"text_14\">\n      <!-- 1.25 -->\n      <g style=\"fill: #262626\" transform=\"translate(32.031406 54.217266) scale(0.11 -0.11)\">\n       <use xlink:href=\"#DejaVuSans-31\"/>\n       <use xlink:href=\"#DejaVuSans-2e\" x=\"63.623047\"/>\n       <use xlink:href=\"#DejaVuSans-32\" x=\"95.410156\"/>\n       <use xlink:href=\"#DejaVuSans-35\" x=\"159.033203\"/>\n      </g>\n     </g>\n    </g>\n    <g id=\"ytick_9\">\n     <g id=\"text_15\">\n      <!-- 1.50 -->\n      <g style=\"fill: #262626\" transform=\"translate(32.031406 26.497266) scale(0.11 -0.11)\">\n       <use xlink:href=\"#DejaVuSans-31\"/>\n       <use xlink:href=\"#DejaVuSans-2e\" x=\"63.623047\"/>\n       <use xlink:href=\"#DejaVuSans-35\" x=\"95.410156\"/>\n       <use xlink:href=\"#DejaVuSans-30\" x=\"159.033203\"/>\n      </g>\n     </g>\n    </g>\n    <g id=\"text_16\">\n     <!-- $x_2$ -->\n     <g style=\"fill: #262626\" transform=\"translate(16.318125 139.618125) rotate(-90) scale(0.12 -0.12)\">\n      <use xlink:href=\"#DejaVuSans-Oblique-78\" transform=\"translate(0 0.3125)\"/>\n      <use xlink:href=\"#DejaVuSans-32\" transform=\"translate(59.179688 -16.09375) scale(0.7)\"/>\n     </g>\n    </g>\n   </g>\n   <g id=\"PathCollection_1\">\n    <defs>\n     <path id=\"m64d6330490\" d=\"M 0 3 \nC 0.795609 3 1.55874 2.683901 2.12132 2.12132 \nC 2.683901 1.55874 3 0.795609 3 0 \nC 3 -0.795609 2.683901 -1.55874 2.12132 -2.12132 \nC 1.55874 -2.683901 0.795609 -3 0 -3 \nC -0.795609 -3 -1.55874 -2.683901 -2.12132 -2.12132 \nC -2.683901 -1.55874 -3 -0.795609 -3 0 \nC -3 0.795609 -2.683901 1.55874 -2.12132 2.12132 \nC -1.55874 2.683901 -0.795609 3 0 3 \nz\n\" style=\"stroke: #333333\"/>\n    </defs>\n    <g clip-path=\"url(#p5b2c1312d5)\">\n     <use xlink:href=\"#m64d6330490\" x=\"120.695671\" y=\"186.220054\" style=\"fill: #4c72b0; stroke: #333333\"/>\n     <use xlink:href=\"#m64d6330490\" x=\"229.210939\" y=\"80.846467\" style=\"fill: #4c72b0; stroke: #333333\"/>\n     <use xlink:href=\"#m64d6330490\" x=\"250.732201\" y=\"82.16015\" style=\"fill: #4c72b0; stroke: #333333\"/>\n     <use xlink:href=\"#m64d6330490\" x=\"130.769454\" y=\"195.12372\" style=\"fill: #4c72b0; stroke: #333333\"/>\n     <use xlink:href=\"#m64d6330490\" x=\"124.703962\" y=\"195.632543\" style=\"fill: #4c72b0; stroke: #333333\"/>\n     <use xlink:href=\"#m64d6330490\" x=\"100.448299\" y=\"183.1958\" style=\"fill: #4c72b0; stroke: #333333\"/>\n     <use xlink:href=\"#m64d6330490\" x=\"237.866744\" y=\"77.971621\" style=\"fill: #4c72b0; stroke: #333333\"/>\n     <use xlink:href=\"#m64d6330490\" x=\"229.178204\" y=\"72.24781\" style=\"fill: #4c72b0; stroke: #333333\"/>\n     <use xlink:href=\"#m64d6330490\" x=\"118.830882\" y=\"195.237069\" style=\"fill: #4c72b0; stroke: #333333\"/>\n     <use xlink:href=\"#m64d6330490\" x=\"233.592701\" y=\"73.960007\" style=\"fill: #4c72b0; stroke: #333333\"/>\n     <use xlink:href=\"#m64d6330490\" x=\"126.476472\" y=\"191.830507\" style=\"fill: #4c72b0; stroke: #333333\"/>\n     <use xlink:href=\"#m64d6330490\" x=\"247.994781\" y=\"56.793833\" style=\"fill: #4c72b0; stroke: #333333\"/>\n     <use xlink:href=\"#m64d6330490\" x=\"234.007612\" y=\"81.203662\" style=\"fill: #4c72b0; stroke: #333333\"/>\n     <use xlink:href=\"#m64d6330490\" x=\"229.300794\" y=\"77.31962\" style=\"fill: #4c72b0; stroke: #333333\"/>\n     <use xlink:href=\"#m64d6330490\" x=\"119.058898\" y=\"201.723884\" style=\"fill: #4c72b0; stroke: #333333\"/>\n     <use xlink:href=\"#m64d6330490\" x=\"115.036046\" y=\"179.56279\" style=\"fill: #4c72b0; stroke: #333333\"/>\n     <use xlink:href=\"#m64d6330490\" x=\"244.567215\" y=\"103.875214\" style=\"fill: #4c72b0; stroke: #333333\"/>\n     <use xlink:href=\"#m64d6330490\" x=\"247.40353\" y=\"98.203633\" style=\"fill: #4c72b0; stroke: #333333\"/>\n     <use xlink:href=\"#m64d6330490\" x=\"224.452657\" y=\"78.431175\" style=\"fill: #4c72b0; stroke: #333333\"/>\n     <use xlink:href=\"#m64d6330490\" x=\"109.273221\" y=\"198.973538\" style=\"fill: #4c72b0; stroke: #333333\"/>\n     <use xlink:href=\"#m64d6330490\" x=\"246.730156\" y=\"57.133746\" style=\"fill: #4c72b0; stroke: #333333\"/>\n     <use xlink:href=\"#m64d6330490\" x=\"239.677679\" y=\"79.087901\" style=\"fill: #4c72b0; stroke: #333333\"/>\n     <use xlink:href=\"#m64d6330490\" x=\"135.173042\" y=\"172.172485\" style=\"fill: #4c72b0; stroke: #333333\"/>\n     <use xlink:href=\"#m64d6330490\" x=\"226.493082\" y=\"56.901864\" style=\"fill: #4c72b0; stroke: #333333\"/>\n     <use xlink:href=\"#m64d6330490\" x=\"123.469055\" y=\"187.386303\" style=\"fill: #4c72b0; stroke: #333333\"/>\n     <use xlink:href=\"#m64d6330490\" x=\"225.813106\" y=\"72.299531\" style=\"fill: #4c72b0; stroke: #333333\"/>\n     <use xlink:href=\"#m64d6330490\" x=\"113.157073\" y=\"175.108704\" style=\"fill: #4c72b0; stroke: #333333\"/>\n     <use xlink:href=\"#m64d6330490\" x=\"244.135253\" y=\"70.105937\" style=\"fill: #4c72b0; stroke: #333333\"/>\n     <use xlink:href=\"#m64d6330490\" x=\"240.673227\" y=\"80.338555\" style=\"fill: #4c72b0; stroke: #333333\"/>\n     <use xlink:href=\"#m64d6330490\" x=\"235.703551\" y=\"66.025246\" style=\"fill: #4c72b0; stroke: #333333\"/>\n     <use xlink:href=\"#m64d6330490\" x=\"117.521496\" y=\"179.02908\" style=\"fill: #4c72b0; stroke: #333333\"/>\n     <use xlink:href=\"#m64d6330490\" x=\"127.246298\" y=\"199.381179\" style=\"fill: #4c72b0; stroke: #333333\"/>\n     <use xlink:href=\"#m64d6330490\" x=\"113.540053\" y=\"167.182692\" style=\"fill: #4c72b0; stroke: #333333\"/>\n     <use xlink:href=\"#m64d6330490\" x=\"121.841855\" y=\"192.641004\" style=\"fill: #4c72b0; stroke: #333333\"/>\n     <use xlink:href=\"#m64d6330490\" x=\"133.398751\" y=\"192.278562\" style=\"fill: #4c72b0; stroke: #333333\"/>\n     <use xlink:href=\"#m64d6330490\" x=\"118.357472\" y=\"188.129039\" style=\"fill: #4c72b0; stroke: #333333\"/>\n     <use xlink:href=\"#m64d6330490\" x=\"134.006255\" y=\"201.390996\" style=\"fill: #4c72b0; stroke: #333333\"/>\n     <use xlink:href=\"#m64d6330490\" x=\"214.714522\" y=\"62.752964\" style=\"fill: #4c72b0; stroke: #333333\"/>\n     <use xlink:href=\"#m64d6330490\" x=\"246.279147\" y=\"82.822342\" style=\"fill: #4c72b0; stroke: #333333\"/>\n     <use xlink:href=\"#m64d6330490\" x=\"234.123202\" y=\"82.143542\" style=\"fill: #4c72b0; stroke: #333333\"/>\n     <use xlink:href=\"#m64d6330490\" x=\"118.315922\" y=\"195.927818\" style=\"fill: #4c72b0; stroke: #333333\"/>\n     <use xlink:href=\"#m64d6330490\" x=\"221.728046\" y=\"102.492744\" style=\"fill: #4c72b0; stroke: #333333\"/>\n     <use xlink:href=\"#m64d6330490\" x=\"240.410415\" y=\"76.537965\" style=\"fill: #4c72b0; stroke: #333333\"/>\n     <use xlink:href=\"#m64d6330490\" x=\"121.972053\" y=\"201.322981\" style=\"fill: #4c72b0; stroke: #333333\"/>\n     <use xlink:href=\"#m64d6330490\" x=\"132.124871\" y=\"205.781717\" style=\"fill: #4c72b0; stroke: #333333\"/>\n     <use xlink:href=\"#m64d6330490\" x=\"139.055421\" y=\"173.128814\" style=\"fill: #4c72b0; stroke: #333333\"/>\n     <use xlink:href=\"#m64d6330490\" x=\"227.11141\" y=\"88.656715\" style=\"fill: #4c72b0; stroke: #333333\"/>\n     <use xlink:href=\"#m64d6330490\" x=\"217.260209\" y=\"66.559184\" style=\"fill: #4c72b0; stroke: #333333\"/>\n     <use xlink:href=\"#m64d6330490\" x=\"115.986665\" y=\"196.251498\" style=\"fill: #4c72b0; stroke: #333333\"/>\n     <use xlink:href=\"#m64d6330490\" x=\"228.075757\" y=\"85.93973\" style=\"fill: #4c72b0; stroke: #333333\"/>\n     <use xlink:href=\"#m64d6330490\" x=\"122.558944\" y=\"192.411682\" style=\"fill: #4c72b0; stroke: #333333\"/>\n     <use xlink:href=\"#m64d6330490\" x=\"237.395908\" y=\"57.924442\" style=\"fill: #4c72b0; stroke: #333333\"/>\n     <use xlink:href=\"#m64d6330490\" x=\"119.78065\" y=\"182.552864\" style=\"fill: #4c72b0; stroke: #333333\"/>\n     <use xlink:href=\"#m64d6330490\" x=\"225.6954\" y=\"92.438423\" style=\"fill: #4c72b0; stroke: #333333\"/>\n     <use xlink:href=\"#m64d6330490\" x=\"234.890622\" y=\"69.031492\" style=\"fill: #4c72b0; stroke: #333333\"/>\n     <use xlink:href=\"#m64d6330490\" x=\"100.449963\" y=\"184.038091\" style=\"fill: #4c72b0; stroke: #333333\"/>\n     <use xlink:href=\"#m64d6330490\" x=\"217.161609\" y=\"68.839158\" style=\"fill: #4c72b0; stroke: #333333\"/>\n     <use xlink:href=\"#m64d6330490\" x=\"241.429583\" y=\"83.633705\" style=\"fill: #4c72b0; stroke: #333333\"/>\n     <use xlink:href=\"#m64d6330490\" x=\"110.008365\" y=\"189.029698\" style=\"fill: #4c72b0; stroke: #333333\"/>\n     <use xlink:href=\"#m64d6330490\" x=\"119.335514\" y=\"215.578994\" style=\"fill: #4c72b0; stroke: #333333\"/>\n     <use xlink:href=\"#m64d6330490\" x=\"118.899791\" y=\"191.479002\" style=\"fill: #4c72b0; stroke: #333333\"/>\n     <use xlink:href=\"#m64d6330490\" x=\"104.399768\" y=\"191.587679\" style=\"fill: #4c72b0; stroke: #333333\"/>\n     <use xlink:href=\"#m64d6330490\" x=\"252.796801\" y=\"83.744325\" style=\"fill: #4c72b0; stroke: #333333\"/>\n     <use xlink:href=\"#m64d6330490\" x=\"225.688626\" y=\"90.176102\" style=\"fill: #4c72b0; stroke: #333333\"/>\n     <use xlink:href=\"#m64d6330490\" x=\"246.404718\" y=\"62.800786\" style=\"fill: #4c72b0; stroke: #333333\"/>\n     <use xlink:href=\"#m64d6330490\" x=\"104.850809\" y=\"179.790426\" style=\"fill: #4c72b0; stroke: #333333\"/>\n     <use xlink:href=\"#m64d6330490\" x=\"234.678725\" y=\"97.140489\" style=\"fill: #4c72b0; stroke: #333333\"/>\n     <use xlink:href=\"#m64d6330490\" x=\"242.932977\" y=\"102.94976\" style=\"fill: #4c72b0; stroke: #333333\"/>\n     <use xlink:href=\"#m64d6330490\" x=\"138.343419\" y=\"206.284387\" style=\"fill: #4c72b0; stroke: #333333\"/>\n     <use xlink:href=\"#m64d6330490\" x=\"130.607447\" y=\"197.261204\" style=\"fill: #4c72b0; stroke: #333333\"/>\n     <use xlink:href=\"#m64d6330490\" x=\"119.615426\" y=\"183.56805\" style=\"fill: #4c72b0; stroke: #333333\"/>\n     <use xlink:href=\"#m64d6330490\" x=\"120.290075\" y=\"181.71065\" style=\"fill: #4c72b0; stroke: #333333\"/>\n     <use xlink:href=\"#m64d6330490\" x=\"235.167815\" y=\"74.198881\" style=\"fill: #4c72b0; stroke: #333333\"/>\n     <use xlink:href=\"#m64d6330490\" x=\"225.144682\" y=\"101.73884\" style=\"fill: #4c72b0; stroke: #333333\"/>\n     <use xlink:href=\"#m64d6330490\" x=\"119.580652\" y=\"187.984213\" style=\"fill: #4c72b0; stroke: #333333\"/>\n     <use xlink:href=\"#m64d6330490\" x=\"129.23293\" y=\"181.018964\" style=\"fill: #4c72b0; stroke: #333333\"/>\n     <use xlink:href=\"#m64d6330490\" x=\"130.493333\" y=\"186.856615\" style=\"fill: #4c72b0; stroke: #333333\"/>\n     <use xlink:href=\"#m64d6330490\" x=\"234.942436\" y=\"61.12244\" style=\"fill: #4c72b0; stroke: #333333\"/>\n     <use xlink:href=\"#m64d6330490\" x=\"234.214961\" y=\"59.647478\" style=\"fill: #4c72b0; stroke: #333333\"/>\n     <use xlink:href=\"#m64d6330490\" x=\"121.241516\" y=\"198.094838\" style=\"fill: #4c72b0; stroke: #333333\"/>\n     <use xlink:href=\"#m64d6330490\" x=\"243.57965\" y=\"61.2117\" style=\"fill: #4c72b0; stroke: #333333\"/>\n     <use xlink:href=\"#m64d6330490\" x=\"229.452153\" y=\"89.063668\" style=\"fill: #4c72b0; stroke: #333333\"/>\n     <use xlink:href=\"#m64d6330490\" x=\"242.114893\" y=\"57.89601\" style=\"fill: #4c72b0; stroke: #333333\"/>\n     <use xlink:href=\"#m64d6330490\" x=\"114.394298\" y=\"185.920992\" style=\"fill: #4c72b0; stroke: #333333\"/>\n     <use xlink:href=\"#m64d6330490\" x=\"230.97994\" y=\"69.480465\" style=\"fill: #4c72b0; stroke: #333333\"/>\n     <use xlink:href=\"#m64d6330490\" x=\"122.473795\" y=\"201.634928\" style=\"fill: #4c72b0; stroke: #333333\"/>\n     <use xlink:href=\"#m64d6330490\" x=\"129.879514\" y=\"195.044299\" style=\"fill: #4c72b0; stroke: #333333\"/>\n     <use xlink:href=\"#m64d6330490\" x=\"113.832919\" y=\"184.526148\" style=\"fill: #4c72b0; stroke: #333333\"/>\n     <use xlink:href=\"#m64d6330490\" x=\"213.829965\" y=\"74.176331\" style=\"fill: #4c72b0; stroke: #333333\"/>\n     <use xlink:href=\"#m64d6330490\" x=\"223.703485\" y=\"69.35652\" style=\"fill: #4c72b0; stroke: #333333\"/>\n     <use xlink:href=\"#m64d6330490\" x=\"205.696671\" y=\"66.827799\" style=\"fill: #4c72b0; stroke: #333333\"/>\n     <use xlink:href=\"#m64d6330490\" x=\"113.237155\" y=\"184.781798\" style=\"fill: #4c72b0; stroke: #333333\"/>\n     <use xlink:href=\"#m64d6330490\" x=\"136.98403\" y=\"197.184571\" style=\"fill: #4c72b0; stroke: #333333\"/>\n     <use xlink:href=\"#m64d6330490\" x=\"117.070475\" y=\"199.468055\" style=\"fill: #4c72b0; stroke: #333333\"/>\n     <use xlink:href=\"#m64d6330490\" x=\"224.282192\" y=\"103.788253\" style=\"fill: #4c72b0; stroke: #333333\"/>\n     <use xlink:href=\"#m64d6330490\" x=\"125.312649\" y=\"187.808871\" style=\"fill: #4c72b0; stroke: #333333\"/>\n     <use xlink:href=\"#m64d6330490\" x=\"119.571366\" y=\"182.8646\" style=\"fill: #4c72b0; stroke: #333333\"/>\n     <use xlink:href=\"#m64d6330490\" x=\"115.263198\" y=\"191.761072\" style=\"fill: #4c72b0; stroke: #333333\"/>\n     <use xlink:href=\"#m64d6330490\" x=\"122.978343\" y=\"198.173384\" style=\"fill: #4c72b0; stroke: #333333\"/>\n     <use xlink:href=\"#m64d6330490\" x=\"212.839467\" y=\"77.410811\" style=\"fill: #4c72b0; stroke: #333333\"/>\n     <use xlink:href=\"#m64d6330490\" x=\"220.172732\" y=\"64.238434\" style=\"fill: #4c72b0; stroke: #333333\"/>\n     <use xlink:href=\"#m64d6330490\" x=\"101.371066\" y=\"203.18529\" style=\"fill: #4c72b0; stroke: #333333\"/>\n     <use xlink:href=\"#m64d6330490\" x=\"232.295586\" y=\"95.562328\" style=\"fill: #4c72b0; stroke: #333333\"/>\n    </g>\n   </g>\n   <g id=\"PathCollection_2\">\n    <defs>\n     <path id=\"m8b3dfbf94d\" d=\"M 0 3 \nC 0.795609 3 1.55874 2.683901 2.12132 2.12132 \nC 2.683901 1.55874 3 0.795609 3 0 \nC 3 -0.795609 2.683901 -1.55874 2.12132 -2.12132 \nC 1.55874 -2.683901 0.795609 -3 0 -3 \nC -0.795609 -3 -1.55874 -2.683901 -2.12132 -2.12132 \nC -2.683901 -1.55874 -3 -0.795609 -3 0 \nC -3 0.795609 -2.683901 1.55874 -2.12132 2.12132 \nC -1.55874 2.683901 -0.795609 3 0 3 \nz\n\" style=\"stroke: #333333\"/>\n    </defs>\n    <g clip-path=\"url(#p5b2c1312d5)\">\n     <use xlink:href=\"#m8b3dfbf94d\" x=\"228.267172\" y=\"176.250001\" style=\"fill: #dd8452; stroke: #333333\"/>\n     <use xlink:href=\"#m8b3dfbf94d\" x=\"238.631678\" y=\"176.467229\" style=\"fill: #dd8452; stroke: #333333\"/>\n     <use xlink:href=\"#m8b3dfbf94d\" x=\"229.178515\" y=\"190.72399\" style=\"fill: #dd8452; stroke: #333333\"/>\n     <use xlink:href=\"#m8b3dfbf94d\" x=\"115.44737\" y=\"67.389997\" style=\"fill: #dd8452; stroke: #333333\"/>\n     <use xlink:href=\"#m8b3dfbf94d\" x=\"244.102776\" y=\"192.866643\" style=\"fill: #dd8452; stroke: #333333\"/>\n     <use xlink:href=\"#m8b3dfbf94d\" x=\"123.964196\" y=\"81.977829\" style=\"fill: #dd8452; stroke: #333333\"/>\n     <use xlink:href=\"#m8b3dfbf94d\" x=\"219.461767\" y=\"200.698784\" style=\"fill: #dd8452; stroke: #333333\"/>\n     <use xlink:href=\"#m8b3dfbf94d\" x=\"148.104666\" y=\"78.801317\" style=\"fill: #dd8452; stroke: #333333\"/>\n     <use xlink:href=\"#m8b3dfbf94d\" x=\"241.584365\" y=\"205.395483\" style=\"fill: #dd8452; stroke: #333333\"/>\n     <use xlink:href=\"#m8b3dfbf94d\" x=\"215.412911\" y=\"179.980683\" style=\"fill: #dd8452; stroke: #333333\"/>\n     <use xlink:href=\"#m8b3dfbf94d\" x=\"227.49163\" y=\"169.907623\" style=\"fill: #dd8452; stroke: #333333\"/>\n     <use xlink:href=\"#m8b3dfbf94d\" x=\"96.249603\" y=\"66.726338\" style=\"fill: #dd8452; stroke: #333333\"/>\n     <use xlink:href=\"#m8b3dfbf94d\" x=\"136.902612\" y=\"67.502468\" style=\"fill: #dd8452; stroke: #333333\"/>\n     <use xlink:href=\"#m8b3dfbf94d\" x=\"120.828227\" y=\"92.374058\" style=\"fill: #dd8452; stroke: #333333\"/>\n     <use xlink:href=\"#m8b3dfbf94d\" x=\"121.07675\" y=\"64.737966\" style=\"fill: #dd8452; stroke: #333333\"/>\n     <use xlink:href=\"#m8b3dfbf94d\" x=\"104.225536\" y=\"62.279233\" style=\"fill: #dd8452; stroke: #333333\"/>\n     <use xlink:href=\"#m8b3dfbf94d\" x=\"230.701339\" y=\"192.99315\" style=\"fill: #dd8452; stroke: #333333\"/>\n     <use xlink:href=\"#m8b3dfbf94d\" x=\"216.600502\" y=\"176.132059\" style=\"fill: #dd8452; stroke: #333333\"/>\n     <use xlink:href=\"#m8b3dfbf94d\" x=\"224.324926\" y=\"177.791622\" style=\"fill: #dd8452; stroke: #333333\"/>\n     <use xlink:href=\"#m8b3dfbf94d\" x=\"129.95045\" y=\"78.528215\" style=\"fill: #dd8452; stroke: #333333\"/>\n     <use xlink:href=\"#m8b3dfbf94d\" x=\"213.389749\" y=\"185.273851\" style=\"fill: #dd8452; stroke: #333333\"/>\n     <use xlink:href=\"#m8b3dfbf94d\" x=\"249.221312\" y=\"192.01743\" style=\"fill: #dd8452; stroke: #333333\"/>\n     <use xlink:href=\"#m8b3dfbf94d\" x=\"242.377401\" y=\"190.061763\" style=\"fill: #dd8452; stroke: #333333\"/>\n     <use xlink:href=\"#m8b3dfbf94d\" x=\"222.190614\" y=\"193.281157\" style=\"fill: #dd8452; stroke: #333333\"/>\n     <use xlink:href=\"#m8b3dfbf94d\" x=\"247.250982\" y=\"172.669489\" style=\"fill: #dd8452; stroke: #333333\"/>\n     <use xlink:href=\"#m8b3dfbf94d\" x=\"110.214786\" y=\"87.297013\" style=\"fill: #dd8452; stroke: #333333\"/>\n     <use xlink:href=\"#m8b3dfbf94d\" x=\"244.93228\" y=\"175.02622\" style=\"fill: #dd8452; stroke: #333333\"/>\n     <use xlink:href=\"#m8b3dfbf94d\" x=\"132.293045\" y=\"75.206008\" style=\"fill: #dd8452; stroke: #333333\"/>\n     <use xlink:href=\"#m8b3dfbf94d\" x=\"229.265853\" y=\"174.447061\" style=\"fill: #dd8452; stroke: #333333\"/>\n     <use xlink:href=\"#m8b3dfbf94d\" x=\"98.461351\" y=\"76.692403\" style=\"fill: #dd8452; stroke: #333333\"/>\n     <use xlink:href=\"#m8b3dfbf94d\" x=\"119.828311\" y=\"84.039634\" style=\"fill: #dd8452; stroke: #333333\"/>\n     <use xlink:href=\"#m8b3dfbf94d\" x=\"222.284395\" y=\"198.548117\" style=\"fill: #dd8452; stroke: #333333\"/>\n     <use xlink:href=\"#m8b3dfbf94d\" x=\"215.531297\" y=\"178.033399\" style=\"fill: #dd8452; stroke: #333333\"/>\n     <use xlink:href=\"#m8b3dfbf94d\" x=\"123.808483\" y=\"79.654878\" style=\"fill: #dd8452; stroke: #333333\"/>\n     <use xlink:href=\"#m8b3dfbf94d\" x=\"238.859304\" y=\"178.616469\" style=\"fill: #dd8452; stroke: #333333\"/>\n     <use xlink:href=\"#m8b3dfbf94d\" x=\"124.269322\" y=\"85.978545\" style=\"fill: #dd8452; stroke: #333333\"/>\n     <use xlink:href=\"#m8b3dfbf94d\" x=\"121.79428\" y=\"88.187855\" style=\"fill: #dd8452; stroke: #333333\"/>\n     <use xlink:href=\"#m8b3dfbf94d\" x=\"252.540241\" y=\"199.098321\" style=\"fill: #dd8452; stroke: #333333\"/>\n     <use xlink:href=\"#m8b3dfbf94d\" x=\"228.794151\" y=\"175.576065\" style=\"fill: #dd8452; stroke: #333333\"/>\n     <use xlink:href=\"#m8b3dfbf94d\" x=\"111.199094\" y=\"75.770625\" style=\"fill: #dd8452; stroke: #333333\"/>\n     <use xlink:href=\"#m8b3dfbf94d\" x=\"135.398824\" y=\"77.42157\" style=\"fill: #dd8452; stroke: #333333\"/>\n     <use xlink:href=\"#m8b3dfbf94d\" x=\"138.144886\" y=\"63.284893\" style=\"fill: #dd8452; stroke: #333333\"/>\n     <use xlink:href=\"#m8b3dfbf94d\" x=\"239.022493\" y=\"196.664997\" style=\"fill: #dd8452; stroke: #333333\"/>\n     <use xlink:href=\"#m8b3dfbf94d\" x=\"111.603121\" y=\"79.111389\" style=\"fill: #dd8452; stroke: #333333\"/>\n     <use xlink:href=\"#m8b3dfbf94d\" x=\"226.855405\" y=\"179.737074\" style=\"fill: #dd8452; stroke: #333333\"/>\n     <use xlink:href=\"#m8b3dfbf94d\" x=\"123.53687\" y=\"89.971152\" style=\"fill: #dd8452; stroke: #333333\"/>\n     <use xlink:href=\"#m8b3dfbf94d\" x=\"129.859061\" y=\"71.193654\" style=\"fill: #dd8452; stroke: #333333\"/>\n     <use xlink:href=\"#m8b3dfbf94d\" x=\"128.985326\" y=\"73.963391\" style=\"fill: #dd8452; stroke: #333333\"/>\n     <use xlink:href=\"#m8b3dfbf94d\" x=\"219.811949\" y=\"180.459621\" style=\"fill: #dd8452; stroke: #333333\"/>\n     <use xlink:href=\"#m8b3dfbf94d\" x=\"111.598072\" y=\"93.187199\" style=\"fill: #dd8452; stroke: #333333\"/>\n     <use xlink:href=\"#m8b3dfbf94d\" x=\"128.034013\" y=\"69.61394\" style=\"fill: #dd8452; stroke: #333333\"/>\n     <use xlink:href=\"#m8b3dfbf94d\" x=\"213.191149\" y=\"177.286919\" style=\"fill: #dd8452; stroke: #333333\"/>\n     <use xlink:href=\"#m8b3dfbf94d\" x=\"234.585195\" y=\"200.08992\" style=\"fill: #dd8452; stroke: #333333\"/>\n     <use xlink:href=\"#m8b3dfbf94d\" x=\"125.979114\" y=\"70.023352\" style=\"fill: #dd8452; stroke: #333333\"/>\n     <use xlink:href=\"#m8b3dfbf94d\" x=\"131.020266\" y=\"85.381901\" style=\"fill: #dd8452; stroke: #333333\"/>\n     <use xlink:href=\"#m8b3dfbf94d\" x=\"218.705913\" y=\"187.65421\" style=\"fill: #dd8452; stroke: #333333\"/>\n     <use xlink:href=\"#m8b3dfbf94d\" x=\"211.907788\" y=\"189.820486\" style=\"fill: #dd8452; stroke: #333333\"/>\n     <use xlink:href=\"#m8b3dfbf94d\" x=\"128.76765\" y=\"81.027196\" style=\"fill: #dd8452; stroke: #333333\"/>\n     <use xlink:href=\"#m8b3dfbf94d\" x=\"93.51186\" y=\"86.786094\" style=\"fill: #dd8452; stroke: #333333\"/>\n     <use xlink:href=\"#m8b3dfbf94d\" x=\"117.116578\" y=\"93.155925\" style=\"fill: #dd8452; stroke: #333333\"/>\n     <use xlink:href=\"#m8b3dfbf94d\" x=\"131.225025\" y=\"72.790696\" style=\"fill: #dd8452; stroke: #333333\"/>\n     <use xlink:href=\"#m8b3dfbf94d\" x=\"113.67349\" y=\"81.712552\" style=\"fill: #dd8452; stroke: #333333\"/>\n     <use xlink:href=\"#m8b3dfbf94d\" x=\"118.875374\" y=\"75.724587\" style=\"fill: #dd8452; stroke: #333333\"/>\n     <use xlink:href=\"#m8b3dfbf94d\" x=\"131.728733\" y=\"85.759312\" style=\"fill: #dd8452; stroke: #333333\"/>\n     <use xlink:href=\"#m8b3dfbf94d\" x=\"249.404288\" y=\"193.443387\" style=\"fill: #dd8452; stroke: #333333\"/>\n     <use xlink:href=\"#m8b3dfbf94d\" x=\"107.465957\" y=\"62.935834\" style=\"fill: #dd8452; stroke: #333333\"/>\n     <use xlink:href=\"#m8b3dfbf94d\" x=\"249.988005\" y=\"179.542785\" style=\"fill: #dd8452; stroke: #333333\"/>\n     <use xlink:href=\"#m8b3dfbf94d\" x=\"239.388497\" y=\"168.981782\" style=\"fill: #dd8452; stroke: #333333\"/>\n     <use xlink:href=\"#m8b3dfbf94d\" x=\"215.154884\" y=\"200.658088\" style=\"fill: #dd8452; stroke: #333333\"/>\n     <use xlink:href=\"#m8b3dfbf94d\" x=\"218.283289\" y=\"213.473757\" style=\"fill: #dd8452; stroke: #333333\"/>\n     <use xlink:href=\"#m8b3dfbf94d\" x=\"122.24279\" y=\"64.140251\" style=\"fill: #dd8452; stroke: #333333\"/>\n     <use xlink:href=\"#m8b3dfbf94d\" x=\"220.444374\" y=\"174.680621\" style=\"fill: #dd8452; stroke: #333333\"/>\n     <use xlink:href=\"#m8b3dfbf94d\" x=\"209.805979\" y=\"163.487024\" style=\"fill: #dd8452; stroke: #333333\"/>\n     <use xlink:href=\"#m8b3dfbf94d\" x=\"111.242539\" y=\"68.777496\" style=\"fill: #dd8452; stroke: #333333\"/>\n     <use xlink:href=\"#m8b3dfbf94d\" x=\"130.295513\" y=\"79.00059\" style=\"fill: #dd8452; stroke: #333333\"/>\n     <use xlink:href=\"#m8b3dfbf94d\" x=\"241.175785\" y=\"178.965372\" style=\"fill: #dd8452; stroke: #333333\"/>\n     <use xlink:href=\"#m8b3dfbf94d\" x=\"117.2682\" y=\"72.215254\" style=\"fill: #dd8452; stroke: #333333\"/>\n     <use xlink:href=\"#m8b3dfbf94d\" x=\"126.822551\" y=\"80.391407\" style=\"fill: #dd8452; stroke: #333333\"/>\n     <use xlink:href=\"#m8b3dfbf94d\" x=\"125.543048\" y=\"82.992602\" style=\"fill: #dd8452; stroke: #333333\"/>\n     <use xlink:href=\"#m8b3dfbf94d\" x=\"227.987349\" y=\"173.243968\" style=\"fill: #dd8452; stroke: #333333\"/>\n     <use xlink:href=\"#m8b3dfbf94d\" x=\"234.348793\" y=\"165.836867\" style=\"fill: #dd8452; stroke: #333333\"/>\n     <use xlink:href=\"#m8b3dfbf94d\" x=\"241.42764\" y=\"179.677091\" style=\"fill: #dd8452; stroke: #333333\"/>\n     <use xlink:href=\"#m8b3dfbf94d\" x=\"151.47009\" y=\"78.564901\" style=\"fill: #dd8452; stroke: #333333\"/>\n     <use xlink:href=\"#m8b3dfbf94d\" x=\"214.557143\" y=\"202.488595\" style=\"fill: #dd8452; stroke: #333333\"/>\n     <use xlink:href=\"#m8b3dfbf94d\" x=\"255.717289\" y=\"201.72411\" style=\"fill: #dd8452; stroke: #333333\"/>\n     <use xlink:href=\"#m8b3dfbf94d\" x=\"225.0395\" y=\"199.287585\" style=\"fill: #dd8452; stroke: #333333\"/>\n     <use xlink:href=\"#m8b3dfbf94d\" x=\"114.415033\" y=\"86.997317\" style=\"fill: #dd8452; stroke: #333333\"/>\n     <use xlink:href=\"#m8b3dfbf94d\" x=\"112.612911\" y=\"78.562297\" style=\"fill: #dd8452; stroke: #333333\"/>\n     <use xlink:href=\"#m8b3dfbf94d\" x=\"243.321068\" y=\"201.596164\" style=\"fill: #dd8452; stroke: #333333\"/>\n     <use xlink:href=\"#m8b3dfbf94d\" x=\"112.963906\" y=\"84.533052\" style=\"fill: #dd8452; stroke: #333333\"/>\n     <use xlink:href=\"#m8b3dfbf94d\" x=\"101.699867\" y=\"80.559539\" style=\"fill: #dd8452; stroke: #333333\"/>\n     <use xlink:href=\"#m8b3dfbf94d\" x=\"136.696095\" y=\"69.979336\" style=\"fill: #dd8452; stroke: #333333\"/>\n     <use xlink:href=\"#m8b3dfbf94d\" x=\"115.350048\" y=\"72.369137\" style=\"fill: #dd8452; stroke: #333333\"/>\n     <use xlink:href=\"#m8b3dfbf94d\" x=\"249.445594\" y=\"199.60062\" style=\"fill: #dd8452; stroke: #333333\"/>\n     <use xlink:href=\"#m8b3dfbf94d\" x=\"211.04584\" y=\"185.119865\" style=\"fill: #dd8452; stroke: #333333\"/>\n     <use xlink:href=\"#m8b3dfbf94d\" x=\"122.156234\" y=\"66.725915\" style=\"fill: #dd8452; stroke: #333333\"/>\n     <use xlink:href=\"#m8b3dfbf94d\" x=\"247.246528\" y=\"197.654618\" style=\"fill: #dd8452; stroke: #333333\"/>\n    </g>\n   </g>\n   <g id=\"patch_3\">\n    <path d=\"M 66.023594 244.078125 \nL 66.023594 22.318125 \n\" style=\"fill: none; stroke: #ffffff; stroke-width: 1.25; stroke-linejoin: miter; stroke-linecap: square\"/>\n   </g>\n   <g id=\"patch_4\">\n    <path d=\"M 287.783594 244.078125 \nL 287.783594 22.318125 \n\" style=\"fill: none; stroke: #ffffff; stroke-width: 1.25; stroke-linejoin: miter; stroke-linecap: square\"/>\n   </g>\n   <g id=\"patch_5\">\n    <path d=\"M 66.023594 244.078125 \nL 287.783594 244.078125 \n\" style=\"fill: none; stroke: #ffffff; stroke-width: 1.25; stroke-linejoin: miter; stroke-linecap: square\"/>\n   </g>\n   <g id=\"patch_6\">\n    <path d=\"M 66.023594 22.318125 \nL 287.783594 22.318125 \n\" style=\"fill: none; stroke: #ffffff; stroke-width: 1.25; stroke-linejoin: miter; stroke-linecap: square\"/>\n   </g>\n   <g id=\"text_17\">\n    <!-- Dataset samples -->\n    <g style=\"fill: #262626\" transform=\"translate(126.560781 16.318125) scale(0.12 -0.12)\">\n     <defs>\n      <path id=\"DejaVuSans-44\" d=\"M 1259 4147 \nL 1259 519 \nL 2022 519 \nQ 2988 519 3436 956 \nQ 3884 1394 3884 2338 \nQ 3884 3275 3436 3711 \nQ 2988 4147 2022 4147 \nL 1259 4147 \nz\nM 628 4666 \nL 1925 4666 \nQ 3281 4666 3915 4102 \nQ 4550 3538 4550 2338 \nQ 4550 1131 3912 565 \nQ 3275 0 1925 0 \nL 628 0 \nL 628 4666 \nz\n\" transform=\"scale(0.015625)\"/>\n      <path id=\"DejaVuSans-61\" d=\"M 2194 1759 \nQ 1497 1759 1228 1600 \nQ 959 1441 959 1056 \nQ 959 750 1161 570 \nQ 1363 391 1709 391 \nQ 2188 391 2477 730 \nQ 2766 1069 2766 1631 \nL 2766 1759 \nL 2194 1759 \nz\nM 3341 1997 \nL 3341 0 \nL 2766 0 \nL 2766 531 \nQ 2569 213 2275 61 \nQ 1981 -91 1556 -91 \nQ 1019 -91 701 211 \nQ 384 513 384 1019 \nQ 384 1609 779 1909 \nQ 1175 2209 1959 2209 \nL 2766 2209 \nL 2766 2266 \nQ 2766 2663 2505 2880 \nQ 2244 3097 1772 3097 \nQ 1472 3097 1187 3025 \nQ 903 2953 641 2809 \nL 641 3341 \nQ 956 3463 1253 3523 \nQ 1550 3584 1831 3584 \nQ 2591 3584 2966 3190 \nQ 3341 2797 3341 1997 \nz\n\" transform=\"scale(0.015625)\"/>\n      <path id=\"DejaVuSans-74\" d=\"M 1172 4494 \nL 1172 3500 \nL 2356 3500 \nL 2356 3053 \nL 1172 3053 \nL 1172 1153 \nQ 1172 725 1289 603 \nQ 1406 481 1766 481 \nL 2356 481 \nL 2356 0 \nL 1766 0 \nQ 1100 0 847 248 \nQ 594 497 594 1153 \nL 594 3053 \nL 172 3053 \nL 172 3500 \nL 594 3500 \nL 594 4494 \nL 1172 4494 \nz\n\" transform=\"scale(0.015625)\"/>\n      <path id=\"DejaVuSans-73\" d=\"M 2834 3397 \nL 2834 2853 \nQ 2591 2978 2328 3040 \nQ 2066 3103 1784 3103 \nQ 1356 3103 1142 2972 \nQ 928 2841 928 2578 \nQ 928 2378 1081 2264 \nQ 1234 2150 1697 2047 \nL 1894 2003 \nQ 2506 1872 2764 1633 \nQ 3022 1394 3022 966 \nQ 3022 478 2636 193 \nQ 2250 -91 1575 -91 \nQ 1294 -91 989 -36 \nQ 684 19 347 128 \nL 347 722 \nQ 666 556 975 473 \nQ 1284 391 1588 391 \nQ 1994 391 2212 530 \nQ 2431 669 2431 922 \nQ 2431 1156 2273 1281 \nQ 2116 1406 1581 1522 \nL 1381 1569 \nQ 847 1681 609 1914 \nQ 372 2147 372 2553 \nQ 372 3047 722 3315 \nQ 1072 3584 1716 3584 \nQ 2034 3584 2315 3537 \nQ 2597 3491 2834 3397 \nz\n\" transform=\"scale(0.015625)\"/>\n      <path id=\"DejaVuSans-65\" d=\"M 3597 1894 \nL 3597 1613 \nL 953 1613 \nQ 991 1019 1311 708 \nQ 1631 397 2203 397 \nQ 2534 397 2845 478 \nQ 3156 559 3463 722 \nL 3463 178 \nQ 3153 47 2828 -22 \nQ 2503 -91 2169 -91 \nQ 1331 -91 842 396 \nQ 353 884 353 1716 \nQ 353 2575 817 3079 \nQ 1281 3584 2069 3584 \nQ 2775 3584 3186 3129 \nQ 3597 2675 3597 1894 \nz\nM 3022 2063 \nQ 3016 2534 2758 2815 \nQ 2500 3097 2075 3097 \nQ 1594 3097 1305 2825 \nQ 1016 2553 972 2059 \nL 3022 2063 \nz\n\" transform=\"scale(0.015625)\"/>\n      <path id=\"DejaVuSans-20\" transform=\"scale(0.015625)\"/>\n      <path id=\"DejaVuSans-6d\" d=\"M 3328 2828 \nQ 3544 3216 3844 3400 \nQ 4144 3584 4550 3584 \nQ 5097 3584 5394 3201 \nQ 5691 2819 5691 2113 \nL 5691 0 \nL 5113 0 \nL 5113 2094 \nQ 5113 2597 4934 2840 \nQ 4756 3084 4391 3084 \nQ 3944 3084 3684 2787 \nQ 3425 2491 3425 1978 \nL 3425 0 \nL 2847 0 \nL 2847 2094 \nQ 2847 2600 2669 2842 \nQ 2491 3084 2119 3084 \nQ 1678 3084 1418 2786 \nQ 1159 2488 1159 1978 \nL 1159 0 \nL 581 0 \nL 581 3500 \nL 1159 3500 \nL 1159 2956 \nQ 1356 3278 1631 3431 \nQ 1906 3584 2284 3584 \nQ 2666 3584 2933 3390 \nQ 3200 3197 3328 2828 \nz\n\" transform=\"scale(0.015625)\"/>\n      <path id=\"DejaVuSans-70\" d=\"M 1159 525 \nL 1159 -1331 \nL 581 -1331 \nL 581 3500 \nL 1159 3500 \nL 1159 2969 \nQ 1341 3281 1617 3432 \nQ 1894 3584 2278 3584 \nQ 2916 3584 3314 3078 \nQ 3713 2572 3713 1747 \nQ 3713 922 3314 415 \nQ 2916 -91 2278 -91 \nQ 1894 -91 1617 61 \nQ 1341 213 1159 525 \nz\nM 3116 1747 \nQ 3116 2381 2855 2742 \nQ 2594 3103 2138 3103 \nQ 1681 3103 1420 2742 \nQ 1159 2381 1159 1747 \nQ 1159 1113 1420 752 \nQ 1681 391 2138 391 \nQ 2594 391 2855 752 \nQ 3116 1113 3116 1747 \nz\n\" transform=\"scale(0.015625)\"/>\n      <path id=\"DejaVuSans-6c\" d=\"M 603 4863 \nL 1178 4863 \nL 1178 0 \nL 603 0 \nL 603 4863 \nz\n\" transform=\"scale(0.015625)\"/>\n     </defs>\n     <use xlink:href=\"#DejaVuSans-44\"/>\n     <use xlink:href=\"#DejaVuSans-61\" x=\"77.001953\"/>\n     <use xlink:href=\"#DejaVuSans-74\" x=\"138.28125\"/>\n     <use xlink:href=\"#DejaVuSans-61\" x=\"177.490234\"/>\n     <use xlink:href=\"#DejaVuSans-73\" x=\"238.769531\"/>\n     <use xlink:href=\"#DejaVuSans-65\" x=\"290.869141\"/>\n     <use xlink:href=\"#DejaVuSans-74\" x=\"352.392578\"/>\n     <use xlink:href=\"#DejaVuSans-20\" x=\"391.601562\"/>\n     <use xlink:href=\"#DejaVuSans-73\" x=\"423.388672\"/>\n     <use xlink:href=\"#DejaVuSans-61\" x=\"475.488281\"/>\n     <use xlink:href=\"#DejaVuSans-6d\" x=\"536.767578\"/>\n     <use xlink:href=\"#DejaVuSans-70\" x=\"634.179688\"/>\n     <use xlink:href=\"#DejaVuSans-6c\" x=\"697.65625\"/>\n     <use xlink:href=\"#DejaVuSans-65\" x=\"725.439453\"/>\n     <use xlink:href=\"#DejaVuSans-73\" x=\"786.962891\"/>\n    </g>\n   </g>\n   <g id=\"legend_1\">\n    <g id=\"patch_7\">\n     <path d=\"M 205.450312 150.994063 \nL 280.083594 150.994063 \nQ 282.283594 150.994063 282.283594 148.794063 \nL 282.283594 117.602188 \nQ 282.283594 115.402188 280.083594 115.402188 \nL 205.450312 115.402188 \nQ 203.250313 115.402188 203.250313 117.602188 \nL 203.250313 148.794063 \nQ 203.250313 150.994063 205.450312 150.994063 \nz\n\" style=\"fill: #eaeaf2; opacity: 0.8; stroke: #cccccc; stroke-linejoin: miter\"/>\n    </g>\n    <g id=\"PathCollection_3\">\n     <g>\n      <use xlink:href=\"#m64d6330490\" x=\"218.650313\" y=\"125.272969\" style=\"fill: #4c72b0; stroke: #333333\"/>\n     </g>\n    </g>\n    <g id=\"text_18\">\n     <!-- Class 0 -->\n     <g style=\"fill: #262626\" transform=\"translate(238.450313 128.160469) scale(0.11 -0.11)\">\n      <defs>\n       <path id=\"DejaVuSans-43\" d=\"M 4122 4306 \nL 4122 3641 \nQ 3803 3938 3442 4084 \nQ 3081 4231 2675 4231 \nQ 1875 4231 1450 3742 \nQ 1025 3253 1025 2328 \nQ 1025 1406 1450 917 \nQ 1875 428 2675 428 \nQ 3081 428 3442 575 \nQ 3803 722 4122 1019 \nL 4122 359 \nQ 3791 134 3420 21 \nQ 3050 -91 2638 -91 \nQ 1578 -91 968 557 \nQ 359 1206 359 2328 \nQ 359 3453 968 4101 \nQ 1578 4750 2638 4750 \nQ 3056 4750 3426 4639 \nQ 3797 4528 4122 4306 \nz\n\" transform=\"scale(0.015625)\"/>\n      </defs>\n      <use xlink:href=\"#DejaVuSans-43\"/>\n      <use xlink:href=\"#DejaVuSans-6c\" x=\"69.824219\"/>\n      <use xlink:href=\"#DejaVuSans-61\" x=\"97.607422\"/>\n      <use xlink:href=\"#DejaVuSans-73\" x=\"158.886719\"/>\n      <use xlink:href=\"#DejaVuSans-73\" x=\"210.986328\"/>\n      <use xlink:href=\"#DejaVuSans-20\" x=\"263.085938\"/>\n      <use xlink:href=\"#DejaVuSans-30\" x=\"294.873047\"/>\n     </g>\n    </g>\n    <g id=\"PathCollection_4\">\n     <g>\n      <use xlink:href=\"#m8b3dfbf94d\" x=\"218.650313\" y=\"141.418906\" style=\"fill: #dd8452; stroke: #333333\"/>\n     </g>\n    </g>\n    <g id=\"text_19\">\n     <!-- Class 1 -->\n     <g style=\"fill: #262626\" transform=\"translate(238.450313 144.306406) scale(0.11 -0.11)\">\n      <use xlink:href=\"#DejaVuSans-43\"/>\n      <use xlink:href=\"#DejaVuSans-6c\" x=\"69.824219\"/>\n      <use xlink:href=\"#DejaVuSans-61\" x=\"97.607422\"/>\n      <use xlink:href=\"#DejaVuSans-73\" x=\"158.886719\"/>\n      <use xlink:href=\"#DejaVuSans-73\" x=\"210.986328\"/>\n      <use xlink:href=\"#DejaVuSans-20\" x=\"263.085938\"/>\n      <use xlink:href=\"#DejaVuSans-31\" x=\"294.873047\"/>\n     </g>\n    </g>\n   </g>\n  </g>\n </g>\n <defs>\n  <clipPath id=\"p5b2c1312d5\">\n   <rect x=\"66.023594\" y=\"22.318125\" width=\"221.76\" height=\"221.76\"/>\n  </clipPath>\n </defs>\n</svg>\n",
            "application/pdf": "[encoded data removed]"
          },
          "metadata": {}
        }
      ],
      "source": [
        "@torch.no_grad() # Decorator, same effect as \"with torch.no_grad(): ...\" over the whole function.\n",
        "def visualize_classification(model, data, label):\n",
        "    if isinstance(data, torch.Tensor):\n",
        "        data = data.cpu().numpy()\n",
        "    if isinstance(label, torch.Tensor):\n",
        "        label = label.cpu().numpy()\n",
        "    data_0 = data[label == 0]\n",
        "    data_1 = data[label == 1]\n",
        "\n",
        "    fig = plt.figure(figsize=(4,4), dpi=500)\n",
        "    plt.scatter(data_0[:,0], data_0[:,1], edgecolor=\"#333\", label=\"Class 0\")\n",
        "    plt.scatter(data_1[:,0], data_1[:,1], edgecolor=\"#333\", label=\"Class 1\")\n",
        "    plt.title(\"Dataset samples\")\n",
        "    plt.ylabel(r\"$x_2$\")\n",
        "    plt.xlabel(r\"$x_1$\")\n",
        "    plt.legend()\n",
        "\n",
        "    # Let's make use of a lot of operations we have learned above\n",
        "    model.to(device)\n",
        "    c0 = torch.Tensor(to_rgba(\"C0\")).to(device)\n",
        "    c1 = torch.Tensor(to_rgba(\"C1\")).to(device)\n",
        "    x1 = torch.arange(-0.5, 1.5, step=0.01, device=device)\n",
        "    x2 = torch.arange(-0.5, 1.5, step=0.01, device=device)\n",
        "    xx1, xx2 = torch.meshgrid(x1, x2, indexing='ij')  # Meshgrid function as in numpy\n",
        "    model_inputs = torch.stack([xx1, xx2], dim=-1)\n",
        "    preds = model(model_inputs)\n",
        "    preds = torch.sigmoid(preds)\n",
        "    output_image = (1 - preds) * c0[None] + preds * c1[None]  # Specifying \"None\" in a dimension creates a new one\n",
        "    print(preds.shape)\n",
        "    print(output_image.shape)\n",
        "    output_image = output_image.cpu().numpy()  # Convert to numpy array. This only works for tensors on CPU, hence first push to CPU\n",
        "    plt.imshow(output_image, origin='lower', extent=(-0.5, 1.5, -0.5, 1.5))\n",
        "    plt.grid(False)\n",
        "    return fig\n",
        "\n",
        "_ = visualize_classification(model, dataset.data, dataset.label)\n",
        "plt.show()"
      ]
    },
    {
      "cell_type": "markdown",
      "metadata": {
        "id": "W_pvNvqe6ELd"
      },
      "source": [
        "The decision boundaries might not look exactly as in the figure in the preamble of this section which can be caused by running it on CPU or a different GPU architecture. Nevertheless, the result on the accuracy metric should be the approximately the same."
      ]
    }
  ],
  "metadata": {
    "kernelspec": {
      "display_name": "Python 3",
      "name": "python3"
    },
    "language_info": {
      "codemirror_mode": {
        "name": "ipython",
        "version": 3
      },
      "file_extension": ".py",
      "mimetype": "text/x-python",
      "name": "python",
      "nbconvert_exporter": "python",
      "pygments_lexer": "ipython3",
      "version": "3.10.6"
    },
    "colab": {
      "provenance": [],
      "gpuType": "T4"
    },
    "widgets": {
      "application/vnd.jupyter.widget-state+json": {
        "0a0590bb9ef94600bf9c2678ac541d48": {
          "model_module": "@jupyter-widgets/controls",
          "model_name": "HBoxModel",
          "model_module_version": "1.5.0",
          "state": {
            "_dom_classes": [],
            "_model_module": "@jupyter-widgets/controls",
            "_model_module_version": "1.5.0",
            "_model_name": "HBoxModel",
            "_view_count": null,
            "_view_module": "@jupyter-widgets/controls",
            "_view_module_version": "1.5.0",
            "_view_name": "HBoxView",
            "box_style": "",
            "children": [
              "IPY_MODEL_b8cdc7e44d77448ab77f1f8010cbb1e0",
              "IPY_MODEL_0f7597a44c47437090cbd7d06cfda1b3",
              "IPY_MODEL_12b301c67f714a4cb3fdf32ea84f3afd"
            ],
            "layout": "IPY_MODEL_4fc0885dd68b44cf92b9e044b477bdda"
          }
        },
        "b8cdc7e44d77448ab77f1f8010cbb1e0": {
          "model_module": "@jupyter-widgets/controls",
          "model_name": "HTMLModel",
          "model_module_version": "1.5.0",
          "state": {
            "_dom_classes": [],
            "_model_module": "@jupyter-widgets/controls",
            "_model_module_version": "1.5.0",
            "_model_name": "HTMLModel",
            "_view_count": null,
            "_view_module": "@jupyter-widgets/controls",
            "_view_module_version": "1.5.0",
            "_view_name": "HTMLView",
            "description": "",
            "description_tooltip": null,
            "layout": "IPY_MODEL_08f0700609fa4d20973ac72d8b2b4ce5",
            "placeholder": "​",
            "style": "IPY_MODEL_172815f437ce4db992098bd600a11334",
            "value": "100%"
          }
        },
        "0f7597a44c47437090cbd7d06cfda1b3": {
          "model_module": "@jupyter-widgets/controls",
          "model_name": "FloatProgressModel",
          "model_module_version": "1.5.0",
          "state": {
            "_dom_classes": [],
            "_model_module": "@jupyter-widgets/controls",
            "_model_module_version": "1.5.0",
            "_model_name": "FloatProgressModel",
            "_view_count": null,
            "_view_module": "@jupyter-widgets/controls",
            "_view_module_version": "1.5.0",
            "_view_name": "ProgressView",
            "bar_style": "success",
            "description": "",
            "description_tooltip": null,
            "layout": "IPY_MODEL_2fd9d3e292464656a06b22492ce16db9",
            "max": 100,
            "min": 0,
            "orientation": "horizontal",
            "style": "IPY_MODEL_a35add37716549228f0a6789027cabf3",
            "value": 100
          }
        },
        "12b301c67f714a4cb3fdf32ea84f3afd": {
          "model_module": "@jupyter-widgets/controls",
          "model_name": "HTMLModel",
          "model_module_version": "1.5.0",
          "state": {
            "_dom_classes": [],
            "_model_module": "@jupyter-widgets/controls",
            "_model_module_version": "1.5.0",
            "_model_name": "HTMLModel",
            "_view_count": null,
            "_view_module": "@jupyter-widgets/controls",
            "_view_module_version": "1.5.0",
            "_view_name": "HTMLView",
            "description": "",
            "description_tooltip": null,
            "layout": "IPY_MODEL_38acd31257d045fcaec77f77e3d7d6ef",
            "placeholder": "​",
            "style": "IPY_MODEL_7668ad28accb4ebca9af976d51ddf72d",
            "value": " 100/100 [00:04&lt;00:00, 13.71it/s]"
          }
        },
        "4fc0885dd68b44cf92b9e044b477bdda": {
          "model_module": "@jupyter-widgets/base",
          "model_name": "LayoutModel",
          "model_module_version": "1.2.0",
          "state": {
            "_model_module": "@jupyter-widgets/base",
            "_model_module_version": "1.2.0",
            "_model_name": "LayoutModel",
            "_view_count": null,
            "_view_module": "@jupyter-widgets/base",
            "_view_module_version": "1.2.0",
            "_view_name": "LayoutView",
            "align_content": null,
            "align_items": null,
            "align_self": null,
            "border": null,
            "bottom": null,
            "display": null,
            "flex": null,
            "flex_flow": null,
            "grid_area": null,
            "grid_auto_columns": null,
            "grid_auto_flow": null,
            "grid_auto_rows": null,
            "grid_column": null,
            "grid_gap": null,
            "grid_row": null,
            "grid_template_areas": null,
            "grid_template_columns": null,
            "grid_template_rows": null,
            "height": null,
            "justify_content": null,
            "justify_items": null,
            "left": null,
            "margin": null,
            "max_height": null,
            "max_width": null,
            "min_height": null,
            "min_width": null,
            "object_fit": null,
            "object_position": null,
            "order": null,
            "overflow": null,
            "overflow_x": null,
            "overflow_y": null,
            "padding": null,
            "right": null,
            "top": null,
            "visibility": null,
            "width": null
          }
        },
        "08f0700609fa4d20973ac72d8b2b4ce5": {
          "model_module": "@jupyter-widgets/base",
          "model_name": "LayoutModel",
          "model_module_version": "1.2.0",
          "state": {
            "_model_module": "@jupyter-widgets/base",
            "_model_module_version": "1.2.0",
            "_model_name": "LayoutModel",
            "_view_count": null,
            "_view_module": "@jupyter-widgets/base",
            "_view_module_version": "1.2.0",
            "_view_name": "LayoutView",
            "align_content": null,
            "align_items": null,
            "align_self": null,
            "border": null,
            "bottom": null,
            "display": null,
            "flex": null,
            "flex_flow": null,
            "grid_area": null,
            "grid_auto_columns": null,
            "grid_auto_flow": null,
            "grid_auto_rows": null,
            "grid_column": null,
            "grid_gap": null,
            "grid_row": null,
            "grid_template_areas": null,
            "grid_template_columns": null,
            "grid_template_rows": null,
            "height": null,
            "justify_content": null,
            "justify_items": null,
            "left": null,
            "margin": null,
            "max_height": null,
            "max_width": null,
            "min_height": null,
            "min_width": null,
            "object_fit": null,
            "object_position": null,
            "order": null,
            "overflow": null,
            "overflow_x": null,
            "overflow_y": null,
            "padding": null,
            "right": null,
            "top": null,
            "visibility": null,
            "width": null
          }
        },
        "172815f437ce4db992098bd600a11334": {
          "model_module": "@jupyter-widgets/controls",
          "model_name": "DescriptionStyleModel",
          "model_module_version": "1.5.0",
          "state": {
            "_model_module": "@jupyter-widgets/controls",
            "_model_module_version": "1.5.0",
            "_model_name": "DescriptionStyleModel",
            "_view_count": null,
            "_view_module": "@jupyter-widgets/base",
            "_view_module_version": "1.2.0",
            "_view_name": "StyleView",
            "description_width": ""
          }
        },
        "2fd9d3e292464656a06b22492ce16db9": {
          "model_module": "@jupyter-widgets/base",
          "model_name": "LayoutModel",
          "model_module_version": "1.2.0",
          "state": {
            "_model_module": "@jupyter-widgets/base",
            "_model_module_version": "1.2.0",
            "_model_name": "LayoutModel",
            "_view_count": null,
            "_view_module": "@jupyter-widgets/base",
            "_view_module_version": "1.2.0",
            "_view_name": "LayoutView",
            "align_content": null,
            "align_items": null,
            "align_self": null,
            "border": null,
            "bottom": null,
            "display": null,
            "flex": null,
            "flex_flow": null,
            "grid_area": null,
            "grid_auto_columns": null,
            "grid_auto_flow": null,
            "grid_auto_rows": null,
            "grid_column": null,
            "grid_gap": null,
            "grid_row": null,
            "grid_template_areas": null,
            "grid_template_columns": null,
            "grid_template_rows": null,
            "height": null,
            "justify_content": null,
            "justify_items": null,
            "left": null,
            "margin": null,
            "max_height": null,
            "max_width": null,
            "min_height": null,
            "min_width": null,
            "object_fit": null,
            "object_position": null,
            "order": null,
            "overflow": null,
            "overflow_x": null,
            "overflow_y": null,
            "padding": null,
            "right": null,
            "top": null,
            "visibility": null,
            "width": null
          }
        },
        "a35add37716549228f0a6789027cabf3": {
          "model_module": "@jupyter-widgets/controls",
          "model_name": "ProgressStyleModel",
          "model_module_version": "1.5.0",
          "state": {
            "_model_module": "@jupyter-widgets/controls",
            "_model_module_version": "1.5.0",
            "_model_name": "ProgressStyleModel",
            "_view_count": null,
            "_view_module": "@jupyter-widgets/base",
            "_view_module_version": "1.2.0",
            "_view_name": "StyleView",
            "bar_color": null,
            "description_width": ""
          }
        },
        "38acd31257d045fcaec77f77e3d7d6ef": {
          "model_module": "@jupyter-widgets/base",
          "model_name": "LayoutModel",
          "model_module_version": "1.2.0",
          "state": {
            "_model_module": "@jupyter-widgets/base",
            "_model_module_version": "1.2.0",
            "_model_name": "LayoutModel",
            "_view_count": null,
            "_view_module": "@jupyter-widgets/base",
            "_view_module_version": "1.2.0",
            "_view_name": "LayoutView",
            "align_content": null,
            "align_items": null,
            "align_self": null,
            "border": null,
            "bottom": null,
            "display": null,
            "flex": null,
            "flex_flow": null,
            "grid_area": null,
            "grid_auto_columns": null,
            "grid_auto_flow": null,
            "grid_auto_rows": null,
            "grid_column": null,
            "grid_gap": null,
            "grid_row": null,
            "grid_template_areas": null,
            "grid_template_columns": null,
            "grid_template_rows": null,
            "height": null,
            "justify_content": null,
            "justify_items": null,
            "left": null,
            "margin": null,
            "max_height": null,
            "max_width": null,
            "min_height": null,
            "min_width": null,
            "object_fit": null,
            "object_position": null,
            "order": null,
            "overflow": null,
            "overflow_x": null,
            "overflow_y": null,
            "padding": null,
            "right": null,
            "top": null,
            "visibility": null,
            "width": null
          }
        },
        "7668ad28accb4ebca9af976d51ddf72d": {
          "model_module": "@jupyter-widgets/controls",
          "model_name": "DescriptionStyleModel",
          "model_module_version": "1.5.0",
          "state": {
            "_model_module": "@jupyter-widgets/controls",
            "_model_module_version": "1.5.0",
            "_model_name": "DescriptionStyleModel",
            "_view_count": null,
            "_view_module": "@jupyter-widgets/base",
            "_view_module_version": "1.2.0",
            "_view_name": "StyleView",
            "description_width": ""
          }
        }
      }
    },
    "accelerator": "GPU"
  },
  "nbformat": 4,
  "nbformat_minor": 0
}