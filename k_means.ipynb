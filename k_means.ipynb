{
 "cells": [
  {
   "cell_type": "code",
   "execution_count": 10,
   "metadata": {},
   "outputs": [],
   "source": [
    "import numpy as np\n",
    "import matplotlib.pyplot as plt\n",
    "from sklearn.preprocessing import StandardScaler\n",
    "import pandas as pd"
   ]
  },
  {
   "cell_type": "markdown",
   "metadata": {},
   "source": [
    "Number of clusters"
   ]
  },
  {
   "cell_type": "code",
   "execution_count": 19,
   "metadata": {},
   "outputs": [
    {
     "name": "stdout",
     "output_type": "stream",
     "text": [
      "Index(['obj_ID', 'alpha', 'delta', 'u', 'g', 'r', 'i', 'z', 'run_ID',\n",
      "       'rerun_ID', 'cam_col', 'field_ID', 'spec_obj_ID', 'class', 'redshift',\n",
      "       'plate', 'MJD', 'fiber_ID'],\n",
      "      dtype='object')\n",
      "3\n"
     ]
    }
   ],
   "source": [
    "\n",
    "\n",
    "# Ensure you load the dataset correctly\n",
    "df = pd.read_csv('star_classification.csv')\n",
    "\n",
    "print(df.columns)  # List all column names\n",
    "\n",
    "K = len(df['class'].unique())  # Number of clusters based on unique classes\n"
   ]
  },
  {
   "cell_type": "markdown",
   "metadata": {},
   "source": [
    "Extract data and standardize features"
   ]
  },
  {
   "cell_type": "code",
   "execution_count": 12,
   "metadata": {},
   "outputs": [],
   "source": [
    "numerical_features = [\"u\", \"g\", \"r\", \"i\", \"z\"]\n",
    "X = df[numerical_features].values\n",
    "scaler = StandardScaler()\n",
    "X_standardized = scaler.fit_transform(X)"
   ]
  },
  {
   "cell_type": "markdown",
   "metadata": {},
   "source": [
    "Randomly initialize centroids"
   ]
  },
  {
   "cell_type": "code",
   "execution_count": 13,
   "metadata": {},
   "outputs": [],
   "source": [
    "np.random.seed(42)  # For reproducibility\n",
    "M = np.array([np.mean(X_standardized, axis=0)] * K) + np.random.randn(K, X_standardized.shape[1])\n"
   ]
  },
  {
   "cell_type": "markdown",
   "metadata": {},
   "source": [
    "K-Means Algorithm"
   ]
  },
  {
   "cell_type": "code",
   "execution_count": 14,
   "metadata": {},
   "outputs": [],
   "source": [
    "def kmeans(X, M, max_iters=100, tol=1e-4):\n",
    "    N, D = X.shape\n",
    "    K = M.shape[0]\n",
    "    costs = []\n",
    "\n",
    "    for it in range(max_iters):\n",
    "        # Assign points to nearest cluster\n",
    "        r = np.zeros((N, K))  # Cluster assignments (one-hot encoding)\n",
    "        for i in range(N):\n",
    "            distances = np.linalg.norm(X[i] - M, axis=1)\n",
    "            nearest_cluster = np.argmin(distances)\n",
    "            r[i, nearest_cluster] = 1\n",
    "\n",
    "        # Update centroids\n",
    "        new_M = np.zeros_like(M)\n",
    "        for k in range(K):\n",
    "            cluster_points = X[r[:, k] == 1]\n",
    "            if len(cluster_points) > 0:  # Avoid division by zero\n",
    "                new_M[k] = np.mean(cluster_points, axis=0)\n",
    "            else:\n",
    "                new_M[k] = M[k]  # Keep the centroid the same if no points are assigned\n",
    "\n",
    "        #  Check for convergence\n",
    "        centroid_shift = np.linalg.norm(new_M - M)\n",
    "        costs.append(centroid_shift)\n",
    "        if centroid_shift < tol:\n",
    "            print(f\"Converged at iteration {it+1}\")\n",
    "            break\n",
    "\n",
    "        M = new_M\n",
    "\n",
    "    return M, r, costs"
   ]
  },
  {
   "cell_type": "markdown",
   "metadata": {},
   "source": [
    "Run K-Means"
   ]
  },
  {
   "cell_type": "code",
   "execution_count": 15,
   "metadata": {},
   "outputs": [
    {
     "name": "stdout",
     "output_type": "stream",
     "text": [
      "Converged at iteration 34\n"
     ]
    }
   ],
   "source": [
    "final_centroids, cluster_assignments, cost_history = kmeans(X_standardized, M)\n"
   ]
  },
  {
   "cell_type": "markdown",
   "metadata": {},
   "source": [
    "Plot the cost function (convergence)"
   ]
  },
  {
   "cell_type": "code",
   "execution_count": 16,
   "metadata": {},
   "outputs": [
    {
     "data": {
      "image/png": "[encoded data removed]",
      "text/plain": [
       "<Figure size 640x480 with 1 Axes>"
      ]
     },
     "metadata": {},
     "output_type": "display_data"
    }
   ],
   "source": [
    "plt.plot(cost_history)\n",
    "plt.title(\"Cost Function vs Iterations\")\n",
    "plt.xlabel(\"Iterations\")\n",
    "plt.ylabel(\"Centroid Shift\")\n",
    "plt.show()"
   ]
  }
 ],
 "metadata": {
  "kernelspec": {
   "display_name": "Python 3",
   "language": "python",
   "name": "python3"
  },
  "language_info": {
   "codemirror_mode": {
    "name": "ipython",
    "version": 3
   },
   "file_extension": ".py",
   "mimetype": "text/x-python",
   "name": "python",
   "nbconvert_exporter": "python",
   "pygments_lexer": "ipython3",
   "version": "3.13.1"
  }
 },
 "nbformat": 4,
 "nbformat_minor": 2
}
